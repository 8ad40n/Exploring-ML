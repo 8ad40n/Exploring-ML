{
 "cells": [
  {
   "cell_type": "markdown",
   "id": "676096db-0f27-4f27-84dc-97cdab23ed08",
   "metadata": {},
   "source": [
    "# BASIC Python"
   ]
  },
  {
   "cell_type": "code",
   "execution_count": 1,
   "id": "f63c46ae-6846-4df4-a576-36eb211b30ca",
   "metadata": {},
   "outputs": [
    {
     "name": "stdout",
     "output_type": "stream",
     "text": [
      "Hello world\n"
     ]
    }
   ],
   "source": [
    "print(\"Hello world\")"
   ]
  },
  {
   "cell_type": "markdown",
   "id": "af35f418-8825-41a4-ab67-718edb514302",
   "metadata": {},
   "source": [
    "### Type Casting\n"
   ]
  },
  {
   "cell_type": "code",
   "execution_count": 2,
   "id": "9f3dcbd6-1614-4e88-96a2-ff25e5b841b8",
   "metadata": {},
   "outputs": [
    {
     "name": "stdout",
     "output_type": "stream",
     "text": [
      "6\n"
     ]
    }
   ],
   "source": [
    "a=\"5\"\n",
    "print(int(a)+1)"
   ]
  },
  {
   "cell_type": "markdown",
   "id": "4604e6eb-37fb-473f-a3aa-7206edf90d73",
   "metadata": {},
   "source": [
    "### Operator\n",
    "\n"
   ]
  },
  {
   "cell_type": "code",
   "execution_count": 4,
   "id": "6571b477-924e-4518-83cb-07e309efb8aa",
   "metadata": {},
   "outputs": [
    {
     "name": "stdout",
     "output_type": "stream",
     "text": [
      "1\n",
      "125\n"
     ]
    }
   ],
   "source": [
    "a=5\n",
    "b=3\n",
    "\n",
    "print(a//b) # will not show anything after point in division\n",
    "print(a**b) # 5^3"
   ]
  },
  {
   "cell_type": "markdown",
   "id": "d9647c1d-d252-4b41-a2db-038f36088ea5",
   "metadata": {},
   "source": [
    "### Logical Operator"
   ]
  },
  {
   "cell_type": "code",
   "execution_count": 6,
   "id": "e0281821-a6ea-49c5-bec4-cd2342f57767",
   "metadata": {},
   "outputs": [
    {
     "name": "stdout",
     "output_type": "stream",
     "text": [
      "False\n",
      "True\n"
     ]
    }
   ],
   "source": [
    "print(not(True))\n",
    "print(not(False))"
   ]
  },
  {
   "cell_type": "markdown",
   "id": "d537e8db-0cca-496a-a01c-757e9de7ab1a",
   "metadata": {},
   "source": [
    "### pip"
   ]
  },
  {
   "cell_type": "code",
   "execution_count": 10,
   "id": "5983eced-436b-4c42-8263-0a7e3e616c11",
   "metadata": {},
   "outputs": [
    {
     "name": "stdout",
     "output_type": "stream",
     "text": [
      "    Numeric  Numeric-2 Numeric-Suffix\n",
      "0         1          1            1st\n",
      "1         2          2            2nd\n",
      "2         3          3            3rd\n",
      "3         4          4            4th\n",
      "4         5          5            5th\n",
      "5         6          6            6th\n",
      "6         7          7            7th\n",
      "7         8          8            8th\n",
      "8         9          9            9th\n",
      "9        10         10           10th\n",
      "10       11         11           11th\n",
      "11       12         12           12th\n",
      "12       13         13           13th\n",
      "13       14         14           14th\n",
      "14       15         15           15th\n",
      "15       16         16           16th\n",
      "16       17         17           17th\n",
      "17       18         18           18th\n",
      "18       19         19           19th\n",
      "19       20         20           20th\n",
      "20       21         21           21st\n",
      "21       22         22           22nd\n",
      "22       23         23           23rd\n",
      "23       24         24           24th\n",
      "24       25         25           25th\n",
      "25       26         26           26th\n",
      "26       27         27           27th\n",
      "27       28         28           28th\n",
      "28       29         29           29th\n",
      "29       30         30           30th\n",
      "30       31         31           31st\n"
     ]
    }
   ],
   "source": [
    "import pandas as pd\n",
    "df= pd.read_csv(\"day.csv\")\n",
    "print(df)"
   ]
  },
  {
   "cell_type": "markdown",
   "id": "93eeb5af-3bbb-495c-a91c-607bd664d0d8",
   "metadata": {},
   "source": [
    "### String"
   ]
  },
  {
   "cell_type": "code",
   "execution_count": 11,
   "id": "ce731fcc-6920-48e7-841f-8023e230d25b",
   "metadata": {},
   "outputs": [
    {
     "name": "stdout",
     "output_type": "stream",
     "text": [
      "bad\n"
     ]
    }
   ],
   "source": [
    "s=\"badhon\"\n",
    "print(s[0:3]) # start from 0 and go all the way till 2 (3-1)"
   ]
  },
  {
   "cell_type": "code",
   "execution_count": 12,
   "id": "45320f93-dd5b-4ce9-a35c-00c57245b858",
   "metadata": {},
   "outputs": [
    {
     "name": "stdout",
     "output_type": "stream",
     "text": [
      "BADHON\n"
     ]
    }
   ],
   "source": [
    "print(s.upper())"
   ]
  },
  {
   "cell_type": "code",
   "execution_count": 13,
   "id": "77337ba4-a86d-4648-8862-70673ac5bb4a",
   "metadata": {},
   "outputs": [
    {
     "name": "stdout",
     "output_type": "stream",
     "text": [
      "badhon\n"
     ]
    }
   ],
   "source": [
    "print(s.lower())"
   ]
  },
  {
   "cell_type": "code",
   "execution_count": 15,
   "id": "6bdd8b78-f3a2-41a7-b449-161b7a861f21",
   "metadata": {},
   "outputs": [
    {
     "name": "stdout",
     "output_type": "stream",
     "text": [
      "Badhon\n"
     ]
    }
   ],
   "source": [
    "print(s.capitalize()) # first one uppercase"
   ]
  },
  {
   "cell_type": "code",
   "execution_count": 17,
   "id": "a7efb914-e9d8-414a-8c1d-9a6399704c8c",
   "metadata": {},
   "outputs": [
    {
     "name": "stdout",
     "output_type": "stream",
     "text": [
      "1\n"
     ]
    }
   ],
   "source": [
    "print(s.count(\"a\"))"
   ]
  },
  {
   "cell_type": "code",
   "execution_count": 18,
   "id": "dd0ee83d-61be-4bc9-93b7-1f34acfd0648",
   "metadata": {},
   "outputs": [
    {
     "name": "stdout",
     "output_type": "stream",
     "text": [
      "True\n"
     ]
    }
   ],
   "source": [
    "print(s.isalnum()) # is the string contains only alphabet or number"
   ]
  },
  {
   "cell_type": "code",
   "execution_count": 19,
   "id": "b517f46b-8380-465e-a8fd-fadcb5b968d4",
   "metadata": {},
   "outputs": [
    {
     "name": "stdout",
     "output_type": "stream",
     "text": [
      "False\n"
     ]
    }
   ],
   "source": [
    "s1= \"*abs#\"\n",
    "print(s1.isalnum())"
   ]
  },
  {
   "cell_type": "code",
   "execution_count": 20,
   "id": "1a04f9da-4905-4ece-9ec4-abb3bbb1f3b3",
   "metadata": {},
   "outputs": [
    {
     "name": "stdout",
     "output_type": "stream",
     "text": [
      "False\n"
     ]
    }
   ],
   "source": [
    "print(s.isnumeric())"
   ]
  },
  {
   "cell_type": "code",
   "execution_count": 25,
   "id": "e64ff4b4-3612-44d3-a809-138d3817f0b3",
   "metadata": {},
   "outputs": [
    {
     "name": "stdout",
     "output_type": "stream",
     "text": [
      "Badhon\n",
      "nath\n",
      "joy\n"
     ]
    }
   ],
   "source": [
    "s2='''Badhon\n",
    "nath\n",
    "joy'''\n",
    "print(s2) # for multiline"
   ]
  },
  {
   "cell_type": "markdown",
   "id": "09145e62-b871-45ef-ac45-45a2c9d0343d",
   "metadata": {},
   "source": [
    "### User input"
   ]
  },
  {
   "cell_type": "code",
   "execution_count": 22,
   "id": "ed953614-85f7-497f-b8c5-9ec0117f16b9",
   "metadata": {},
   "outputs": [
    {
     "name": "stdin",
     "output_type": "stream",
     "text": [
      "Enter your name joy\n"
     ]
    },
    {
     "name": "stdout",
     "output_type": "stream",
     "text": [
      "joy\n"
     ]
    }
   ],
   "source": [
    "name=input(\"Enter your name\")\n",
    "print(name)"
   ]
  },
  {
   "cell_type": "code",
   "execution_count": 23,
   "id": "91ce9c14-b3b4-40d1-9407-30fc7e805624",
   "metadata": {},
   "outputs": [
    {
     "name": "stdout",
     "output_type": "stream",
     "text": [
      "<class 'str'>\n"
     ]
    }
   ],
   "source": [
    "print(type(name))"
   ]
  },
  {
   "cell_type": "code",
   "execution_count": 27,
   "id": "a5f70dbb-f0e5-4ea6-929e-3d2929419efe",
   "metadata": {},
   "outputs": [
    {
     "name": "stdin",
     "output_type": "stream",
     "text": [
      "Enter a number 69\n"
     ]
    },
    {
     "name": "stdout",
     "output_type": "stream",
     "text": [
      "69\n"
     ]
    }
   ],
   "source": [
    "number=int(input(\"Enter a number\"))\n",
    "print(number)"
   ]
  },
  {
   "cell_type": "markdown",
   "id": "1ebc882b-7cfb-4e06-96f1-ff5948d22983",
   "metadata": {},
   "source": [
    "### List\n"
   ]
  },
  {
   "cell_type": "code",
   "execution_count": 2,
   "id": "07efbe65-2a68-4621-994d-a92d49495bf8",
   "metadata": {},
   "outputs": [
    {
     "name": "stdout",
     "output_type": "stream",
     "text": [
      "<class 'list'>\n"
     ]
    }
   ],
   "source": [
    "l1 =[3,5,234,234,\"joy\"]\n",
    "print(type(l1))"
   ]
  },
  {
   "cell_type": "code",
   "execution_count": 3,
   "id": "9d74b988-0022-4c09-982d-86d8c3cddfb6",
   "metadata": {},
   "outputs": [
    {
     "name": "stdout",
     "output_type": "stream",
     "text": [
      "[3, 5, 234, 234, 'joy']\n"
     ]
    }
   ],
   "source": [
    "print(l1)"
   ]
  },
  {
   "cell_type": "code",
   "execution_count": 4,
   "id": "726880b9-b16a-4eb2-99df-5d3576d70446",
   "metadata": {},
   "outputs": [
    {
     "name": "stdout",
     "output_type": "stream",
     "text": [
      "[3, 5, 234, 234]\n"
     ]
    }
   ],
   "source": [
    "l1.remove(\"joy\")\n",
    "print(l1)"
   ]
  },
  {
   "cell_type": "code",
   "execution_count": 6,
   "id": "d468aab4-c649-4bc2-badc-b5ce325dc4ee",
   "metadata": {},
   "outputs": [
    {
     "name": "stdout",
     "output_type": "stream",
     "text": [
      "2\n"
     ]
    }
   ],
   "source": [
    "print(l1.count(234))"
   ]
  },
  {
   "cell_type": "code",
   "execution_count": 7,
   "id": "1a54d06d-a4ea-4b66-bc32-2f3daed06e27",
   "metadata": {},
   "outputs": [
    {
     "name": "stdout",
     "output_type": "stream",
     "text": [
      "[3, 5, 234, 234]\n"
     ]
    }
   ],
   "source": [
    "l1.sort()\n",
    "print(l1)"
   ]
  },
  {
   "cell_type": "code",
   "execution_count": 8,
   "id": "0d102454-e75e-4ca8-8af6-6e05529ed567",
   "metadata": {},
   "outputs": [
    {
     "name": "stdout",
     "output_type": "stream",
     "text": [
      "[3, 5, 234]\n"
     ]
    }
   ],
   "source": [
    "l1.pop()\n",
    "print(l1)"
   ]
  },
  {
   "cell_type": "code",
   "execution_count": 9,
   "id": "4ab7b8e8-665d-4718-9738-f4ae1b6d0917",
   "metadata": {},
   "outputs": [
    {
     "name": "stdout",
     "output_type": "stream",
     "text": [
      "[3, 5, 234, 1]\n"
     ]
    }
   ],
   "source": [
    "l1.append(1)\n",
    "print(l1)"
   ]
  },
  {
   "cell_type": "code",
   "execution_count": 10,
   "id": "669ceea7-3302-407f-89ac-467942bc4855",
   "metadata": {},
   "outputs": [
    {
     "name": "stdout",
     "output_type": "stream",
     "text": [
      "[3, 5, 234, 1, 6, 7, 8, 9]\n"
     ]
    }
   ],
   "source": [
    "l1.extend([6,7,8,9]) #extends with the existing list\n",
    "print(l1)"
   ]
  },
  {
   "cell_type": "code",
   "execution_count": 11,
   "id": "ee8c53cf-ace4-4b35-a170-2269fdfbc9b9",
   "metadata": {},
   "outputs": [
    {
     "name": "stdout",
     "output_type": "stream",
     "text": [
      "4\n"
     ]
    }
   ],
   "source": [
    "print(l1.index(6))\n"
   ]
  },
  {
   "cell_type": "code",
   "execution_count": 12,
   "id": "d9836bc1-e512-4de5-b0a4-ac22b96a7d82",
   "metadata": {},
   "outputs": [
    {
     "name": "stdout",
     "output_type": "stream",
     "text": [
      "[3, 5, 234, 1]\n"
     ]
    }
   ],
   "source": [
    "print(l1[0:4])"
   ]
  },
  {
   "cell_type": "code",
   "execution_count": 14,
   "id": "0fff62c0-4f91-47fa-b2d9-8a7b3e77cb81",
   "metadata": {},
   "outputs": [
    {
     "name": "stdout",
     "output_type": "stream",
     "text": [
      "[]\n"
     ]
    }
   ],
   "source": [
    "l1.clear()\n",
    "print(l1)"
   ]
  },
  {
   "cell_type": "markdown",
   "id": "d0d15419-d0fd-4363-809d-4d039ff20744",
   "metadata": {},
   "source": [
    "### Tuple\n"
   ]
  },
  {
   "cell_type": "code",
   "execution_count": 1,
   "id": "702d51a6-99b5-483c-81b3-568756aac99b",
   "metadata": {},
   "outputs": [],
   "source": [
    "# tuple is immutable\n",
    "t=(1,2,3,4,5,1,2)\n"
   ]
  },
  {
   "cell_type": "code",
   "execution_count": 2,
   "id": "5232f2e4-7df4-4d76-b298-1a6159d0e97d",
   "metadata": {},
   "outputs": [
    {
     "name": "stdout",
     "output_type": "stream",
     "text": [
      "2\n"
     ]
    }
   ],
   "source": [
    "print(t.count(1))"
   ]
  },
  {
   "cell_type": "code",
   "execution_count": 3,
   "id": "9eac43b1-087a-47b6-a179-9a17e641fd9f",
   "metadata": {},
   "outputs": [
    {
     "data": {
      "text/plain": [
       "2"
      ]
     },
     "execution_count": 3,
     "metadata": {},
     "output_type": "execute_result"
    }
   ],
   "source": [
    "t.index(3)"
   ]
  },
  {
   "cell_type": "markdown",
   "id": "b7262fbd-8843-453b-99ff-12dbb69619ce",
   "metadata": {},
   "source": [
    "### Set"
   ]
  },
  {
   "cell_type": "code",
   "execution_count": 43,
   "id": "b74bd04c-4253-4d48-9ed7-2a68a7ba3891",
   "metadata": {},
   "outputs": [],
   "source": [
    "# Unique and sorted\n",
    "s={1,1,2,1,3,4,5,6,8,7}"
   ]
  },
  {
   "cell_type": "code",
   "execution_count": 44,
   "id": "f051d59c-1fdc-45be-97f9-08cd83b7b24c",
   "metadata": {},
   "outputs": [
    {
     "data": {
      "text/plain": [
       "{1, 2, 3, 4, 5, 6, 7, 8}"
      ]
     },
     "execution_count": 44,
     "metadata": {},
     "output_type": "execute_result"
    }
   ],
   "source": [
    "s"
   ]
  },
  {
   "cell_type": "code",
   "execution_count": 6,
   "id": "f3582ff1-23c6-49b9-a7dd-762ee423837d",
   "metadata": {},
   "outputs": [
    {
     "data": {
      "text/plain": [
       "1"
      ]
     },
     "execution_count": 6,
     "metadata": {},
     "output_type": "execute_result"
    }
   ],
   "source": [
    "s.pop()"
   ]
  },
  {
   "cell_type": "code",
   "execution_count": 7,
   "id": "04d2c7ac-dc0f-4dea-91a5-9d4ef014c411",
   "metadata": {},
   "outputs": [
    {
     "data": {
      "text/plain": [
       "2"
      ]
     },
     "execution_count": 7,
     "metadata": {},
     "output_type": "execute_result"
    }
   ],
   "source": [
    "s.pop() # remove a random element and return that element"
   ]
  },
  {
   "cell_type": "code",
   "execution_count": 8,
   "id": "6d29449e-a021-408a-9ea4-e7fe7eb1ba23",
   "metadata": {},
   "outputs": [],
   "source": [
    "s.add(7)"
   ]
  },
  {
   "cell_type": "code",
   "execution_count": 9,
   "id": "8fd2b5ba-058c-46d5-97f2-5afbd9cb89b7",
   "metadata": {},
   "outputs": [
    {
     "data": {
      "text/plain": [
       "{3, 4, 5, 6, 7}"
      ]
     },
     "execution_count": 9,
     "metadata": {},
     "output_type": "execute_result"
    }
   ],
   "source": [
    "s"
   ]
  },
  {
   "cell_type": "code",
   "execution_count": 12,
   "id": "29ba8c20-7df3-4d5b-bf9c-72f43d676b33",
   "metadata": {},
   "outputs": [],
   "source": [
    "s1={1,2,1,4,5,6}\n",
    "s2={1,10,11,12,15}"
   ]
  },
  {
   "cell_type": "code",
   "execution_count": 13,
   "id": "c6af1452-74d1-4949-9853-cfee4b009d79",
   "metadata": {},
   "outputs": [
    {
     "data": {
      "text/plain": [
       "{1, 2, 4, 5, 6, 10, 11, 12, 15}"
      ]
     },
     "execution_count": 13,
     "metadata": {},
     "output_type": "execute_result"
    }
   ],
   "source": [
    "s1.union(s2)"
   ]
  },
  {
   "cell_type": "code",
   "execution_count": 14,
   "id": "94be9a8e-ca11-4652-9962-38dbef906afe",
   "metadata": {},
   "outputs": [
    {
     "data": {
      "text/plain": [
       "{1}"
      ]
     },
     "execution_count": 14,
     "metadata": {},
     "output_type": "execute_result"
    }
   ],
   "source": [
    "s1.intersection(s2)"
   ]
  },
  {
   "cell_type": "code",
   "execution_count": 17,
   "id": "2abfd658-1e9a-4b3d-a821-5c79de3ded6d",
   "metadata": {},
   "outputs": [
    {
     "data": {
      "text/plain": [
       "set()"
      ]
     },
     "execution_count": 17,
     "metadata": {},
     "output_type": "execute_result"
    }
   ],
   "source": [
    "s3=set() # empty set\n",
    "s3"
   ]
  },
  {
   "cell_type": "markdown",
   "id": "d95f9221-0e28-4264-85bc-7e4829c8902c",
   "metadata": {},
   "source": [
    "### Dictionary"
   ]
  },
  {
   "cell_type": "code",
   "execution_count": 18,
   "id": "6ce16cb0-3f0e-4150-9167-d2b49452a58e",
   "metadata": {},
   "outputs": [
    {
     "data": {
      "text/plain": [
       "dict"
      ]
     },
     "execution_count": 18,
     "metadata": {},
     "output_type": "execute_result"
    }
   ],
   "source": [
    "d={} # empty dictionary\n",
    "type(d)"
   ]
  },
  {
   "cell_type": "code",
   "execution_count": 21,
   "id": "80e2e3a6-50a8-4c87-9ffb-876a1637e065",
   "metadata": {},
   "outputs": [
    {
     "data": {
      "text/plain": [
       "'badhon nath joy'"
      ]
     },
     "execution_count": 21,
     "metadata": {},
     "output_type": "execute_result"
    }
   ],
   "source": [
    "dict1={\"name\":\"badhon nath joy\", \"age\":\"22\", \"email\":\"bnathjoy@gmail.com\"}\n",
    "dict1[\"name\"]"
   ]
  },
  {
   "cell_type": "code",
   "execution_count": 22,
   "id": "1d76383b-cca3-4110-b355-c15d67ffad35",
   "metadata": {},
   "outputs": [
    {
     "data": {
      "text/plain": [
       "{'name': 'badhon nath joy', 'age': '22', 'email': 'bnathjoy@gmail.com'}"
      ]
     },
     "execution_count": 22,
     "metadata": {},
     "output_type": "execute_result"
    }
   ],
   "source": [
    "dict1"
   ]
  },
  {
   "cell_type": "code",
   "execution_count": 23,
   "id": "3ec5c06e-8d50-4b3f-ada3-127a8e83f884",
   "metadata": {},
   "outputs": [
    {
     "data": {
      "text/plain": [
       "{'name': 'badhon nath joy',\n",
       " 'age': '22',\n",
       " 'email': 'bnathjoy@gmail.com',\n",
       " 'university': 'AIUB'}"
      ]
     },
     "execution_count": 23,
     "metadata": {},
     "output_type": "execute_result"
    }
   ],
   "source": [
    "dict1[\"university\"]=\"AIUB\"\n",
    "dict1"
   ]
  },
  {
   "cell_type": "code",
   "execution_count": 24,
   "id": "ed92c487-623b-417a-bd28-1d4334b968fe",
   "metadata": {},
   "outputs": [
    {
     "data": {
      "text/plain": [
       "'badhon nath joy'"
      ]
     },
     "execution_count": 24,
     "metadata": {},
     "output_type": "execute_result"
    }
   ],
   "source": [
    "dict1.get(\"name\")"
   ]
  },
  {
   "cell_type": "code",
   "execution_count": 25,
   "id": "622acfc2-3bcf-4692-bb9a-2d9973474dc1",
   "metadata": {},
   "outputs": [
    {
     "data": {
      "text/plain": [
       "dict_keys(['name', 'age', 'email', 'university'])"
      ]
     },
     "execution_count": 25,
     "metadata": {},
     "output_type": "execute_result"
    }
   ],
   "source": [
    "dict1.keys()"
   ]
  },
  {
   "cell_type": "code",
   "execution_count": 26,
   "id": "586a5fc1-7b84-4887-b0fe-ed2c1afdc50f",
   "metadata": {},
   "outputs": [
    {
     "data": {
      "text/plain": [
       "dict_values(['badhon nath joy', '22', 'bnathjoy@gmail.com', 'AIUB'])"
      ]
     },
     "execution_count": 26,
     "metadata": {},
     "output_type": "execute_result"
    }
   ],
   "source": [
    "dict1.values()"
   ]
  },
  {
   "cell_type": "code",
   "execution_count": 27,
   "id": "4c3ffb35-d093-464b-b07b-8a8a7d27a81f",
   "metadata": {},
   "outputs": [
    {
     "data": {
      "text/plain": [
       "dict_items([('name', 'badhon nath joy'), ('age', '22'), ('email', 'bnathjoy@gmail.com'), ('university', 'AIUB')])"
      ]
     },
     "execution_count": 27,
     "metadata": {},
     "output_type": "execute_result"
    }
   ],
   "source": [
    "dict1.items()"
   ]
  },
  {
   "cell_type": "markdown",
   "id": "331e0a1c-895d-4811-970a-898a8d5b6769",
   "metadata": {},
   "source": [
    "### FOR Loop"
   ]
  },
  {
   "cell_type": "code",
   "execution_count": 31,
   "id": "30cfb61e-52d4-49e4-9ba5-86d7e6cb1d78",
   "metadata": {},
   "outputs": [
    {
     "name": "stdout",
     "output_type": "stream",
     "text": [
      "0\n",
      "1\n",
      "2\n",
      "3\n",
      "4\n"
     ]
    }
   ],
   "source": [
    "for i in range(5):\n",
    "    print(i)"
   ]
  },
  {
   "cell_type": "code",
   "execution_count": 33,
   "id": "401f13c6-6e66-453f-a08b-2957fc7a406d",
   "metadata": {},
   "outputs": [
    {
     "name": "stdout",
     "output_type": "stream",
     "text": [
      "5\n",
      "6\n",
      "7\n",
      "8\n",
      "9\n"
     ]
    }
   ],
   "source": [
    "for i in range(5,10):\n",
    "    print(i)"
   ]
  },
  {
   "cell_type": "code",
   "execution_count": 38,
   "id": "52ca0fcd-b0b5-4547-8423-0d1c7894259a",
   "metadata": {},
   "outputs": [
    {
     "name": "stdout",
     "output_type": "stream",
     "text": [
      "3\n",
      "5\n",
      "7\n",
      "9\n"
     ]
    }
   ],
   "source": [
    "for i in range(3,10,2):\n",
    "    print(i)"
   ]
  },
  {
   "cell_type": "code",
   "execution_count": 39,
   "id": "e4dca0cb-2d12-4b5b-9fa8-b9ebebc18c88",
   "metadata": {},
   "outputs": [
    {
     "name": "stdout",
     "output_type": "stream",
     "text": [
      "1\n",
      "2\n",
      "1\n",
      "2\n",
      "3\n",
      "1\n"
     ]
    }
   ],
   "source": [
    "a=[1,2,1,2,3,1] # List\n",
    "for i in a:\n",
    "    print(i)"
   ]
  },
  {
   "cell_type": "code",
   "execution_count": 40,
   "id": "6654dde7-3532-46ef-8127-bbe0bc788fa1",
   "metadata": {},
   "outputs": [
    {
     "name": "stdout",
     "output_type": "stream",
     "text": [
      "1\n",
      "2\n",
      "3\n",
      "6\n",
      "7\n"
     ]
    }
   ],
   "source": [
    "b={1,3,1,2,6,7} # Set\n",
    "for i in b:\n",
    "    print(i)"
   ]
  },
  {
   "cell_type": "markdown",
   "id": "3d1ecf42-91d5-4cdf-92ea-b0461195077f",
   "metadata": {},
   "source": [
    "### Exception handling"
   ]
  },
  {
   "cell_type": "code",
   "execution_count": 45,
   "id": "bef45717-ea97-4b86-9703-e268a25bf66e",
   "metadata": {},
   "outputs": [
    {
     "name": "stdout",
     "output_type": "stream",
     "text": [
      "ERROR\n"
     ]
    }
   ],
   "source": [
    "try:\n",
    "    print(\"joy\"+5)\n",
    "except:\n",
    "    print(\"ERROR\")"
   ]
  },
  {
   "cell_type": "code",
   "execution_count": 46,
   "id": "c85ffe74-dcc8-42d9-ac40-d41701aea7e4",
   "metadata": {},
   "outputs": [
    {
     "name": "stdout",
     "output_type": "stream",
     "text": [
      "ERROR can only concatenate str (not \"int\") to str\n"
     ]
    }
   ],
   "source": [
    "try:\n",
    "    print(\"joy\"+5)\n",
    "except Exception as e:\n",
    "    print(\"ERROR\", e)"
   ]
  },
  {
   "cell_type": "markdown",
   "id": "56d0063a-e12b-4b87-9819-e720582b48ce",
   "metadata": {},
   "source": [
    "### File I/O"
   ]
  },
  {
   "cell_type": "code",
   "execution_count": 47,
   "id": "1bc896d5-e6c6-4fe8-bf1c-2fdca4c59358",
   "metadata": {},
   "outputs": [],
   "source": [
    "# Write\n",
    "s=\"My name is badhon nath joy\"\n",
    "\n",
    "with open(\"test.txt\",\"w\") as f:\n",
    "    f.write(s)    # here w is write mode"
   ]
  },
  {
   "cell_type": "code",
   "execution_count": 52,
   "id": "0040620a-6c6f-44c6-9900-34ce4270fa88",
   "metadata": {},
   "outputs": [
    {
     "name": "stdout",
     "output_type": "stream",
     "text": [
      "My name is badhon nath joy\n"
     ]
    }
   ],
   "source": [
    "# READ\n",
    "with open(\"test.txt\",\"r\") as f1:  # here r is read mode\n",
    "    f2=f1.read()\n",
    "    print(f2)"
   ]
  },
  {
   "cell_type": "markdown",
   "id": "839fec87-714a-4c63-93df-5475c083d868",
   "metadata": {},
   "source": [
    "### OOP (class and object)"
   ]
  },
  {
   "cell_type": "code",
   "execution_count": 54,
   "id": "b832063d-97e9-42da-9a66-8c60679e0bef",
   "metadata": {},
   "outputs": [
    {
     "name": "stdout",
     "output_type": "stream",
     "text": [
      "89\n"
     ]
    }
   ],
   "source": [
    "class Employee:\n",
    "    salary=89\n",
    "    def getSalary(self):\n",
    "        return self.salary\n",
    "\n",
    "joy= Employee()\n",
    "print(joy.salary)"
   ]
  },
  {
   "cell_type": "code",
   "execution_count": 64,
   "id": "9a69afc6-aa88-4f2b-9267-344744c636c7",
   "metadata": {},
   "outputs": [
    {
     "name": "stdout",
     "output_type": "stream",
     "text": [
      "Badhon Nath Joy\n",
      "279342746\n"
     ]
    }
   ],
   "source": [
    "class Employee:\n",
    "    # constructor\n",
    "    def __init__(self,name,salary):\n",
    "        self.name=name\n",
    "        self.salary=salary\n",
    "\n",
    "joy= Employee(\"Badhon Nath Joy\", \"279342746\")\n",
    "print(joy.name)\n",
    "print(joy.salary)"
   ]
  },
  {
   "cell_type": "code",
   "execution_count": null,
   "id": "9fc93506-933c-4341-97e6-3b39e819431e",
   "metadata": {},
   "outputs": [],
   "source": []
  }
 ],
 "metadata": {
  "kernelspec": {
   "display_name": "Python 3 (ipykernel)",
   "language": "python",
   "name": "python3"
  },
  "language_info": {
   "codemirror_mode": {
    "name": "ipython",
    "version": 3
   },
   "file_extension": ".py",
   "mimetype": "text/x-python",
   "name": "python",
   "nbconvert_exporter": "python",
   "pygments_lexer": "ipython3",
   "version": "3.11.7"
  }
 },
 "nbformat": 4,
 "nbformat_minor": 5
}
