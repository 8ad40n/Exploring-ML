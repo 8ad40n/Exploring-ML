{
 "cells": [
  {
   "cell_type": "markdown",
   "id": "676096db-0f27-4f27-84dc-97cdab23ed08",
   "metadata": {},
   "source": [
    "# BASIC Python"
   ]
  },
  {
   "cell_type": "code",
   "execution_count": 1,
   "id": "f63c46ae-6846-4df4-a576-36eb211b30ca",
   "metadata": {},
   "outputs": [
    {
     "name": "stdout",
     "output_type": "stream",
     "text": [
      "Hello world\n"
     ]
    }
   ],
   "source": [
    "print(\"Hello world\")"
   ]
  },
  {
   "cell_type": "markdown",
   "id": "af35f418-8825-41a4-ab67-718edb514302",
   "metadata": {},
   "source": [
    "### Type Casting\n"
   ]
  },
  {
   "cell_type": "code",
   "execution_count": 2,
   "id": "9f3dcbd6-1614-4e88-96a2-ff25e5b841b8",
   "metadata": {},
   "outputs": [
    {
     "name": "stdout",
     "output_type": "stream",
     "text": [
      "6\n"
     ]
    }
   ],
   "source": [
    "a=\"5\"\n",
    "print(int(a)+1)"
   ]
  },
  {
   "cell_type": "markdown",
   "id": "4604e6eb-37fb-473f-a3aa-7206edf90d73",
   "metadata": {},
   "source": [
    "### Operator\n",
    "\n"
   ]
  },
  {
   "cell_type": "code",
   "execution_count": 4,
   "id": "6571b477-924e-4518-83cb-07e309efb8aa",
   "metadata": {},
   "outputs": [
    {
     "name": "stdout",
     "output_type": "stream",
     "text": [
      "1\n",
      "125\n"
     ]
    }
   ],
   "source": [
    "a=5\n",
    "b=3\n",
    "\n",
    "print(a//b) # will not show anything after point in division\n",
    "print(a**b) # 5^3"
   ]
  },
  {
   "cell_type": "markdown",
   "id": "d9647c1d-d252-4b41-a2db-038f36088ea5",
   "metadata": {},
   "source": [
    "### Logical Operator"
   ]
  },
  {
   "cell_type": "code",
   "execution_count": 6,
   "id": "e0281821-a6ea-49c5-bec4-cd2342f57767",
   "metadata": {},
   "outputs": [
    {
     "name": "stdout",
     "output_type": "stream",
     "text": [
      "False\n",
      "True\n"
     ]
    }
   ],
   "source": [
    "print(not(True))\n",
    "print(not(False))"
   ]
  },
  {
   "cell_type": "markdown",
   "id": "d537e8db-0cca-496a-a01c-757e9de7ab1a",
   "metadata": {},
   "source": [
    "### pip"
   ]
  },
  {
   "cell_type": "code",
   "execution_count": 10,
   "id": "5983eced-436b-4c42-8263-0a7e3e616c11",
   "metadata": {},
   "outputs": [
    {
     "name": "stdout",
     "output_type": "stream",
     "text": [
      "    Numeric  Numeric-2 Numeric-Suffix\n",
      "0         1          1            1st\n",
      "1         2          2            2nd\n",
      "2         3          3            3rd\n",
      "3         4          4            4th\n",
      "4         5          5            5th\n",
      "5         6          6            6th\n",
      "6         7          7            7th\n",
      "7         8          8            8th\n",
      "8         9          9            9th\n",
      "9        10         10           10th\n",
      "10       11         11           11th\n",
      "11       12         12           12th\n",
      "12       13         13           13th\n",
      "13       14         14           14th\n",
      "14       15         15           15th\n",
      "15       16         16           16th\n",
      "16       17         17           17th\n",
      "17       18         18           18th\n",
      "18       19         19           19th\n",
      "19       20         20           20th\n",
      "20       21         21           21st\n",
      "21       22         22           22nd\n",
      "22       23         23           23rd\n",
      "23       24         24           24th\n",
      "24       25         25           25th\n",
      "25       26         26           26th\n",
      "26       27         27           27th\n",
      "27       28         28           28th\n",
      "28       29         29           29th\n",
      "29       30         30           30th\n",
      "30       31         31           31st\n"
     ]
    }
   ],
   "source": [
    "import pandas as pd\n",
    "df= pd.read_csv(\"day.csv\")\n",
    "print(df)"
   ]
  },
  {
   "cell_type": "markdown",
   "id": "93eeb5af-3bbb-495c-a91c-607bd664d0d8",
   "metadata": {},
   "source": [
    "### String"
   ]
  },
  {
   "cell_type": "code",
   "execution_count": 11,
   "id": "ce731fcc-6920-48e7-841f-8023e230d25b",
   "metadata": {},
   "outputs": [
    {
     "name": "stdout",
     "output_type": "stream",
     "text": [
      "bad\n"
     ]
    }
   ],
   "source": [
    "s=\"badhon\"\n",
    "print(s[0:3]) # start from 0 and go all the way till 2 (3-1)"
   ]
  },
  {
   "cell_type": "code",
   "execution_count": 12,
   "id": "45320f93-dd5b-4ce9-a35c-00c57245b858",
   "metadata": {},
   "outputs": [
    {
     "name": "stdout",
     "output_type": "stream",
     "text": [
      "BADHON\n"
     ]
    }
   ],
   "source": [
    "print(s.upper())"
   ]
  },
  {
   "cell_type": "code",
   "execution_count": 13,
   "id": "77337ba4-a86d-4648-8862-70673ac5bb4a",
   "metadata": {},
   "outputs": [
    {
     "name": "stdout",
     "output_type": "stream",
     "text": [
      "badhon\n"
     ]
    }
   ],
   "source": [
    "print(s.lower())"
   ]
  },
  {
   "cell_type": "code",
   "execution_count": 15,
   "id": "6bdd8b78-f3a2-41a7-b449-161b7a861f21",
   "metadata": {},
   "outputs": [
    {
     "name": "stdout",
     "output_type": "stream",
     "text": [
      "Badhon\n"
     ]
    }
   ],
   "source": [
    "print(s.capitalize()) # first one uppercase"
   ]
  },
  {
   "cell_type": "code",
   "execution_count": 17,
   "id": "a7efb914-e9d8-414a-8c1d-9a6399704c8c",
   "metadata": {},
   "outputs": [
    {
     "name": "stdout",
     "output_type": "stream",
     "text": [
      "1\n"
     ]
    }
   ],
   "source": [
    "print(s.count(\"a\"))"
   ]
  },
  {
   "cell_type": "code",
   "execution_count": 18,
   "id": "dd0ee83d-61be-4bc9-93b7-1f34acfd0648",
   "metadata": {},
   "outputs": [
    {
     "name": "stdout",
     "output_type": "stream",
     "text": [
      "True\n"
     ]
    }
   ],
   "source": [
    "print(s.isalnum()) # is the string contains only alphabet or number"
   ]
  },
  {
   "cell_type": "code",
   "execution_count": 19,
   "id": "b517f46b-8380-465e-a8fd-fadcb5b968d4",
   "metadata": {},
   "outputs": [
    {
     "name": "stdout",
     "output_type": "stream",
     "text": [
      "False\n"
     ]
    }
   ],
   "source": [
    "s1= \"*abs#\"\n",
    "print(s1.isalnum())"
   ]
  },
  {
   "cell_type": "code",
   "execution_count": 20,
   "id": "1a04f9da-4905-4ece-9ec4-abb3bbb1f3b3",
   "metadata": {},
   "outputs": [
    {
     "name": "stdout",
     "output_type": "stream",
     "text": [
      "False\n"
     ]
    }
   ],
   "source": [
    "print(s.isnumeric())"
   ]
  },
  {
   "cell_type": "code",
   "execution_count": 25,
   "id": "e64ff4b4-3612-44d3-a809-138d3817f0b3",
   "metadata": {},
   "outputs": [
    {
     "name": "stdout",
     "output_type": "stream",
     "text": [
      "Badhon\n",
      "nath\n",
      "joy\n"
     ]
    }
   ],
   "source": [
    "s2='''Badhon\n",
    "nath\n",
    "joy'''\n",
    "print(s2) # for multiline"
   ]
  },
  {
   "cell_type": "markdown",
   "id": "09145e62-b871-45ef-ac45-45a2c9d0343d",
   "metadata": {},
   "source": [
    "### User input"
   ]
  },
  {
   "cell_type": "code",
   "execution_count": 22,
   "id": "ed953614-85f7-497f-b8c5-9ec0117f16b9",
   "metadata": {},
   "outputs": [
    {
     "name": "stdin",
     "output_type": "stream",
     "text": [
      "Enter your name joy\n"
     ]
    },
    {
     "name": "stdout",
     "output_type": "stream",
     "text": [
      "joy\n"
     ]
    }
   ],
   "source": [
    "name=input(\"Enter your name\")\n",
    "print(name)"
   ]
  },
  {
   "cell_type": "code",
   "execution_count": 23,
   "id": "91ce9c14-b3b4-40d1-9407-30fc7e805624",
   "metadata": {},
   "outputs": [
    {
     "name": "stdout",
     "output_type": "stream",
     "text": [
      "<class 'str'>\n"
     ]
    }
   ],
   "source": [
    "print(type(name))"
   ]
  },
  {
   "cell_type": "code",
   "execution_count": 27,
   "id": "a5f70dbb-f0e5-4ea6-929e-3d2929419efe",
   "metadata": {},
   "outputs": [
    {
     "name": "stdin",
     "output_type": "stream",
     "text": [
      "Enter a number 69\n"
     ]
    },
    {
     "name": "stdout",
     "output_type": "stream",
     "text": [
      "69\n"
     ]
    }
   ],
   "source": [
    "number=int(input(\"Enter a number\"))\n",
    "print(number)"
   ]
  },
  {
   "cell_type": "code",
   "execution_count": null,
   "id": "09b78c3d-d690-4d60-b13f-306f1307428e",
   "metadata": {},
   "outputs": [],
   "source": []
  }
 ],
 "metadata": {
  "kernelspec": {
   "display_name": "Python 3 (ipykernel)",
   "language": "python",
   "name": "python3"
  },
  "language_info": {
   "codemirror_mode": {
    "name": "ipython",
    "version": 3
   },
   "file_extension": ".py",
   "mimetype": "text/x-python",
   "name": "python",
   "nbconvert_exporter": "python",
   "pygments_lexer": "ipython3",
   "version": "3.11.7"
  }
 },
 "nbformat": 4,
 "nbformat_minor": 5
}
