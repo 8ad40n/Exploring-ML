{
 "cells": [
  {
   "cell_type": "markdown",
   "id": "78573da6-089f-4810-a249-fb541121d856",
   "metadata": {},
   "source": [
    "# Pandas"
   ]
  },
  {
   "cell_type": "markdown",
   "id": "774fafcb-8836-4eb6-8690-25897eaf8158",
   "metadata": {},
   "source": [
    "#### -Pandas is used to analyze data."
   ]
  },
  {
   "cell_type": "code",
   "execution_count": 1,
   "id": "88e07b4b-f317-4c04-b12b-66c4c6fe6602",
   "metadata": {},
   "outputs": [],
   "source": [
    "import numpy as np\n",
    "import pandas as pd"
   ]
  },
  {
   "cell_type": "code",
   "execution_count": 2,
   "id": "6b1e954b-94a6-4ad5-921a-2d4c8fe90c8f",
   "metadata": {},
   "outputs": [],
   "source": [
    "dict1={\n",
    "    \"name\":[\"badhon\",\"joy\"],\n",
    "    \"city\":[\"dhaka\", \"munshiganj\"],\n",
    "    \"marks\":[99,100]\n",
    "}"
   ]
  },
  {
   "cell_type": "code",
   "execution_count": 3,
   "id": "3ee8f172-0b0d-4ed0-932f-4190ac03a10b",
   "metadata": {},
   "outputs": [
    {
     "data": {
      "text/plain": [
       "{'name': ['badhon', 'joy'],\n",
       " 'city': ['dhaka', 'munshiganj'],\n",
       " 'marks': [99, 100]}"
      ]
     },
     "execution_count": 3,
     "metadata": {},
     "output_type": "execute_result"
    }
   ],
   "source": [
    "dict1"
   ]
  },
  {
   "cell_type": "code",
   "execution_count": 4,
   "id": "2fc57e17-8345-41ad-83f8-6c9398aa14e7",
   "metadata": {},
   "outputs": [],
   "source": [
    "df= pd.DataFrame(dict1)  # Excel format"
   ]
  },
  {
   "cell_type": "code",
   "execution_count": 5,
   "id": "c4bdc264-4d10-4ccc-a774-745c05816542",
   "metadata": {},
   "outputs": [
    {
     "data": {
      "text/html": [
       "<div>\n",
       "<style scoped>\n",
       "    .dataframe tbody tr th:only-of-type {\n",
       "        vertical-align: middle;\n",
       "    }\n",
       "\n",
       "    .dataframe tbody tr th {\n",
       "        vertical-align: top;\n",
       "    }\n",
       "\n",
       "    .dataframe thead th {\n",
       "        text-align: right;\n",
       "    }\n",
       "</style>\n",
       "<table border=\"1\" class=\"dataframe\">\n",
       "  <thead>\n",
       "    <tr style=\"text-align: right;\">\n",
       "      <th></th>\n",
       "      <th>name</th>\n",
       "      <th>city</th>\n",
       "      <th>marks</th>\n",
       "    </tr>\n",
       "  </thead>\n",
       "  <tbody>\n",
       "    <tr>\n",
       "      <th>0</th>\n",
       "      <td>badhon</td>\n",
       "      <td>dhaka</td>\n",
       "      <td>99</td>\n",
       "    </tr>\n",
       "    <tr>\n",
       "      <th>1</th>\n",
       "      <td>joy</td>\n",
       "      <td>munshiganj</td>\n",
       "      <td>100</td>\n",
       "    </tr>\n",
       "  </tbody>\n",
       "</table>\n",
       "</div>"
      ],
      "text/plain": [
       "     name        city  marks\n",
       "0  badhon       dhaka     99\n",
       "1     joy  munshiganj    100"
      ]
     },
     "execution_count": 5,
     "metadata": {},
     "output_type": "execute_result"
    }
   ],
   "source": [
    "df"
   ]
  },
  {
   "cell_type": "code",
   "execution_count": 6,
   "id": "dc69313d-b40f-4ab0-8848-b08f13e9e1f4",
   "metadata": {},
   "outputs": [],
   "source": [
    "df.to_csv(\"name.csv\")  # create csv file"
   ]
  },
  {
   "cell_type": "code",
   "execution_count": 7,
   "id": "f33f818c-0070-4a57-b920-a2739bacfff0",
   "metadata": {},
   "outputs": [],
   "source": [
    "df.to_csv(\"name_index_false.csv\", index=False)  # without index"
   ]
  },
  {
   "cell_type": "code",
   "execution_count": 8,
   "id": "2f5aa66a-7095-422e-bb3f-004fe3ea5586",
   "metadata": {},
   "outputs": [
    {
     "data": {
      "text/html": [
       "<div>\n",
       "<style scoped>\n",
       "    .dataframe tbody tr th:only-of-type {\n",
       "        vertical-align: middle;\n",
       "    }\n",
       "\n",
       "    .dataframe tbody tr th {\n",
       "        vertical-align: top;\n",
       "    }\n",
       "\n",
       "    .dataframe thead th {\n",
       "        text-align: right;\n",
       "    }\n",
       "</style>\n",
       "<table border=\"1\" class=\"dataframe\">\n",
       "  <thead>\n",
       "    <tr style=\"text-align: right;\">\n",
       "      <th></th>\n",
       "      <th>name</th>\n",
       "      <th>city</th>\n",
       "      <th>marks</th>\n",
       "    </tr>\n",
       "  </thead>\n",
       "  <tbody>\n",
       "    <tr>\n",
       "      <th>0</th>\n",
       "      <td>badhon</td>\n",
       "      <td>dhaka</td>\n",
       "      <td>99</td>\n",
       "    </tr>\n",
       "  </tbody>\n",
       "</table>\n",
       "</div>"
      ],
      "text/plain": [
       "     name   city  marks\n",
       "0  badhon  dhaka     99"
      ]
     },
     "execution_count": 8,
     "metadata": {},
     "output_type": "execute_result"
    }
   ],
   "source": [
    "df.head(1)   # will show first 1 row"
   ]
  },
  {
   "cell_type": "code",
   "execution_count": 9,
   "id": "14b7d044-e748-4ad1-bd6c-c68f4b8446b3",
   "metadata": {},
   "outputs": [
    {
     "data": {
      "text/html": [
       "<div>\n",
       "<style scoped>\n",
       "    .dataframe tbody tr th:only-of-type {\n",
       "        vertical-align: middle;\n",
       "    }\n",
       "\n",
       "    .dataframe tbody tr th {\n",
       "        vertical-align: top;\n",
       "    }\n",
       "\n",
       "    .dataframe thead th {\n",
       "        text-align: right;\n",
       "    }\n",
       "</style>\n",
       "<table border=\"1\" class=\"dataframe\">\n",
       "  <thead>\n",
       "    <tr style=\"text-align: right;\">\n",
       "      <th></th>\n",
       "      <th>name</th>\n",
       "      <th>city</th>\n",
       "      <th>marks</th>\n",
       "    </tr>\n",
       "  </thead>\n",
       "  <tbody>\n",
       "    <tr>\n",
       "      <th>1</th>\n",
       "      <td>joy</td>\n",
       "      <td>munshiganj</td>\n",
       "      <td>100</td>\n",
       "    </tr>\n",
       "  </tbody>\n",
       "</table>\n",
       "</div>"
      ],
      "text/plain": [
       "  name        city  marks\n",
       "1  joy  munshiganj    100"
      ]
     },
     "execution_count": 9,
     "metadata": {},
     "output_type": "execute_result"
    }
   ],
   "source": [
    "df.tail(1)   # will show last 1 row"
   ]
  },
  {
   "cell_type": "code",
   "execution_count": 10,
   "id": "1c2d1f53-61a4-415c-a225-1e6e339ea7d5",
   "metadata": {},
   "outputs": [
    {
     "data": {
      "text/html": [
       "<div>\n",
       "<style scoped>\n",
       "    .dataframe tbody tr th:only-of-type {\n",
       "        vertical-align: middle;\n",
       "    }\n",
       "\n",
       "    .dataframe tbody tr th {\n",
       "        vertical-align: top;\n",
       "    }\n",
       "\n",
       "    .dataframe thead th {\n",
       "        text-align: right;\n",
       "    }\n",
       "</style>\n",
       "<table border=\"1\" class=\"dataframe\">\n",
       "  <thead>\n",
       "    <tr style=\"text-align: right;\">\n",
       "      <th></th>\n",
       "      <th>marks</th>\n",
       "    </tr>\n",
       "  </thead>\n",
       "  <tbody>\n",
       "    <tr>\n",
       "      <th>count</th>\n",
       "      <td>2.000000</td>\n",
       "    </tr>\n",
       "    <tr>\n",
       "      <th>mean</th>\n",
       "      <td>99.500000</td>\n",
       "    </tr>\n",
       "    <tr>\n",
       "      <th>std</th>\n",
       "      <td>0.707107</td>\n",
       "    </tr>\n",
       "    <tr>\n",
       "      <th>min</th>\n",
       "      <td>99.000000</td>\n",
       "    </tr>\n",
       "    <tr>\n",
       "      <th>25%</th>\n",
       "      <td>99.250000</td>\n",
       "    </tr>\n",
       "    <tr>\n",
       "      <th>50%</th>\n",
       "      <td>99.500000</td>\n",
       "    </tr>\n",
       "    <tr>\n",
       "      <th>75%</th>\n",
       "      <td>99.750000</td>\n",
       "    </tr>\n",
       "    <tr>\n",
       "      <th>max</th>\n",
       "      <td>100.000000</td>\n",
       "    </tr>\n",
       "  </tbody>\n",
       "</table>\n",
       "</div>"
      ],
      "text/plain": [
       "            marks\n",
       "count    2.000000\n",
       "mean    99.500000\n",
       "std      0.707107\n",
       "min     99.000000\n",
       "25%     99.250000\n",
       "50%     99.500000\n",
       "75%     99.750000\n",
       "max    100.000000"
      ]
     },
     "execution_count": 10,
     "metadata": {},
     "output_type": "execute_result"
    }
   ],
   "source": [
    "df.describe()   # numerical columns statistical analysis"
   ]
  },
  {
   "cell_type": "code",
   "execution_count": 11,
   "id": "0bfd5b01-1b24-4f6b-b4c0-2873e445e741",
   "metadata": {},
   "outputs": [],
   "source": [
    "test= pd.read_csv(\"test.csv\")   # Read CSV file"
   ]
  },
  {
   "cell_type": "code",
   "execution_count": 12,
   "id": "6dc84e45-d27b-4bae-9d74-d6bc020e0e0d",
   "metadata": {},
   "outputs": [
    {
     "data": {
      "text/html": [
       "<div>\n",
       "<style scoped>\n",
       "    .dataframe tbody tr th:only-of-type {\n",
       "        vertical-align: middle;\n",
       "    }\n",
       "\n",
       "    .dataframe tbody tr th {\n",
       "        vertical-align: top;\n",
       "    }\n",
       "\n",
       "    .dataframe thead th {\n",
       "        text-align: right;\n",
       "    }\n",
       "</style>\n",
       "<table border=\"1\" class=\"dataframe\">\n",
       "  <thead>\n",
       "    <tr style=\"text-align: right;\">\n",
       "      <th></th>\n",
       "      <th>Train no</th>\n",
       "      <th>Speed</th>\n",
       "      <th>City</th>\n",
       "    </tr>\n",
       "  </thead>\n",
       "  <tbody>\n",
       "    <tr>\n",
       "      <th>0</th>\n",
       "      <td>3423</td>\n",
       "      <td>45</td>\n",
       "      <td>Dhaka</td>\n",
       "    </tr>\n",
       "    <tr>\n",
       "      <th>1</th>\n",
       "      <td>2342</td>\n",
       "      <td>37</td>\n",
       "      <td>Khulna</td>\n",
       "    </tr>\n",
       "    <tr>\n",
       "      <th>2</th>\n",
       "      <td>24234</td>\n",
       "      <td>98</td>\n",
       "      <td>Barishal</td>\n",
       "    </tr>\n",
       "    <tr>\n",
       "      <th>3</th>\n",
       "      <td>234</td>\n",
       "      <td>89</td>\n",
       "      <td>Sylhet</td>\n",
       "    </tr>\n",
       "    <tr>\n",
       "      <th>4</th>\n",
       "      <td>234</td>\n",
       "      <td>69</td>\n",
       "      <td>Dhaka</td>\n",
       "    </tr>\n",
       "  </tbody>\n",
       "</table>\n",
       "</div>"
      ],
      "text/plain": [
       "   Train no  Speed      City\n",
       "0      3423     45     Dhaka\n",
       "1      2342     37    Khulna\n",
       "2     24234     98  Barishal\n",
       "3       234     89    Sylhet\n",
       "4       234     69     Dhaka"
      ]
     },
     "execution_count": 12,
     "metadata": {},
     "output_type": "execute_result"
    }
   ],
   "source": [
    "test"
   ]
  },
  {
   "cell_type": "code",
   "execution_count": 13,
   "id": "ea030ca7-3904-4e5b-a140-cd99c89769bf",
   "metadata": {},
   "outputs": [
    {
     "data": {
      "text/plain": [
       "0    45\n",
       "1    37\n",
       "2    98\n",
       "3    89\n",
       "4    69\n",
       "Name: Speed, dtype: int64"
      ]
     },
     "execution_count": 13,
     "metadata": {},
     "output_type": "execute_result"
    }
   ],
   "source": [
    "test[\"Speed\"]   # Accessing individual column"
   ]
  },
  {
   "cell_type": "code",
   "execution_count": 14,
   "id": "f6fff40b-a643-474b-86c9-98b313dc3b0d",
   "metadata": {},
   "outputs": [
    {
     "name": "stderr",
     "output_type": "stream",
     "text": [
      "C:\\Users\\ASUS\\AppData\\Local\\Temp\\ipykernel_15016\\3749946446.py:1: SettingWithCopyWarning: \n",
      "A value is trying to be set on a copy of a slice from a DataFrame\n",
      "\n",
      "See the caveats in the documentation: https://pandas.pydata.org/pandas-docs/stable/user_guide/indexing.html#returning-a-view-versus-a-copy\n",
      "  test[\"Speed\"][1] = 100  # updating value\n"
     ]
    }
   ],
   "source": [
    "test[\"Speed\"][1] = 100  # updating value"
   ]
  },
  {
   "cell_type": "code",
   "execution_count": 15,
   "id": "c8db5a4c-cf34-4ef4-8432-35f9446fe749",
   "metadata": {},
   "outputs": [
    {
     "data": {
      "text/html": [
       "<div>\n",
       "<style scoped>\n",
       "    .dataframe tbody tr th:only-of-type {\n",
       "        vertical-align: middle;\n",
       "    }\n",
       "\n",
       "    .dataframe tbody tr th {\n",
       "        vertical-align: top;\n",
       "    }\n",
       "\n",
       "    .dataframe thead th {\n",
       "        text-align: right;\n",
       "    }\n",
       "</style>\n",
       "<table border=\"1\" class=\"dataframe\">\n",
       "  <thead>\n",
       "    <tr style=\"text-align: right;\">\n",
       "      <th></th>\n",
       "      <th>Train no</th>\n",
       "      <th>Speed</th>\n",
       "      <th>City</th>\n",
       "    </tr>\n",
       "  </thead>\n",
       "  <tbody>\n",
       "    <tr>\n",
       "      <th>0</th>\n",
       "      <td>3423</td>\n",
       "      <td>45</td>\n",
       "      <td>Dhaka</td>\n",
       "    </tr>\n",
       "    <tr>\n",
       "      <th>1</th>\n",
       "      <td>2342</td>\n",
       "      <td>100</td>\n",
       "      <td>Khulna</td>\n",
       "    </tr>\n",
       "    <tr>\n",
       "      <th>2</th>\n",
       "      <td>24234</td>\n",
       "      <td>98</td>\n",
       "      <td>Barishal</td>\n",
       "    </tr>\n",
       "    <tr>\n",
       "      <th>3</th>\n",
       "      <td>234</td>\n",
       "      <td>89</td>\n",
       "      <td>Sylhet</td>\n",
       "    </tr>\n",
       "    <tr>\n",
       "      <th>4</th>\n",
       "      <td>234</td>\n",
       "      <td>69</td>\n",
       "      <td>Dhaka</td>\n",
       "    </tr>\n",
       "  </tbody>\n",
       "</table>\n",
       "</div>"
      ],
      "text/plain": [
       "   Train no  Speed      City\n",
       "0      3423     45     Dhaka\n",
       "1      2342    100    Khulna\n",
       "2     24234     98  Barishal\n",
       "3       234     89    Sylhet\n",
       "4       234     69     Dhaka"
      ]
     },
     "execution_count": 15,
     "metadata": {},
     "output_type": "execute_result"
    }
   ],
   "source": [
    "test"
   ]
  },
  {
   "cell_type": "code",
   "execution_count": 16,
   "id": "b5e2efef-771f-42e4-bfd9-6f86064cf9db",
   "metadata": {},
   "outputs": [],
   "source": [
    "test.index=['first','second','third','fourth','fifth']"
   ]
  },
  {
   "cell_type": "code",
   "execution_count": 17,
   "id": "7054d154-6fe4-45fe-892f-9f8bd68cc307",
   "metadata": {},
   "outputs": [
    {
     "data": {
      "text/html": [
       "<div>\n",
       "<style scoped>\n",
       "    .dataframe tbody tr th:only-of-type {\n",
       "        vertical-align: middle;\n",
       "    }\n",
       "\n",
       "    .dataframe tbody tr th {\n",
       "        vertical-align: top;\n",
       "    }\n",
       "\n",
       "    .dataframe thead th {\n",
       "        text-align: right;\n",
       "    }\n",
       "</style>\n",
       "<table border=\"1\" class=\"dataframe\">\n",
       "  <thead>\n",
       "    <tr style=\"text-align: right;\">\n",
       "      <th></th>\n",
       "      <th>Train no</th>\n",
       "      <th>Speed</th>\n",
       "      <th>City</th>\n",
       "    </tr>\n",
       "  </thead>\n",
       "  <tbody>\n",
       "    <tr>\n",
       "      <th>first</th>\n",
       "      <td>3423</td>\n",
       "      <td>45</td>\n",
       "      <td>Dhaka</td>\n",
       "    </tr>\n",
       "    <tr>\n",
       "      <th>second</th>\n",
       "      <td>2342</td>\n",
       "      <td>100</td>\n",
       "      <td>Khulna</td>\n",
       "    </tr>\n",
       "    <tr>\n",
       "      <th>third</th>\n",
       "      <td>24234</td>\n",
       "      <td>98</td>\n",
       "      <td>Barishal</td>\n",
       "    </tr>\n",
       "    <tr>\n",
       "      <th>fourth</th>\n",
       "      <td>234</td>\n",
       "      <td>89</td>\n",
       "      <td>Sylhet</td>\n",
       "    </tr>\n",
       "    <tr>\n",
       "      <th>fifth</th>\n",
       "      <td>234</td>\n",
       "      <td>69</td>\n",
       "      <td>Dhaka</td>\n",
       "    </tr>\n",
       "  </tbody>\n",
       "</table>\n",
       "</div>"
      ],
      "text/plain": [
       "        Train no  Speed      City\n",
       "first       3423     45     Dhaka\n",
       "second      2342    100    Khulna\n",
       "third      24234     98  Barishal\n",
       "fourth       234     89    Sylhet\n",
       "fifth        234     69     Dhaka"
      ]
     },
     "execution_count": 17,
     "metadata": {},
     "output_type": "execute_result"
    }
   ],
   "source": [
    "test"
   ]
  },
  {
   "cell_type": "code",
   "execution_count": 18,
   "id": "6c074d96-7f03-464d-9eff-a27f73a243fd",
   "metadata": {},
   "outputs": [],
   "source": [
    "# Series\n",
    "ser = pd.Series(np.random.rand(34))   # 34 random "
   ]
  },
  {
   "cell_type": "code",
   "execution_count": 19,
   "id": "362675df-eb8c-47d7-a637-349925d93db1",
   "metadata": {},
   "outputs": [
    {
     "data": {
      "text/plain": [
       "0     0.075588\n",
       "1     0.186559\n",
       "2     0.411465\n",
       "3     0.343045\n",
       "4     0.202894\n",
       "5     0.327623\n",
       "6     0.241977\n",
       "7     0.296250\n",
       "8     0.694044\n",
       "9     0.548162\n",
       "10    0.370300\n",
       "11    0.106053\n",
       "12    0.183249\n",
       "13    0.185158\n",
       "14    0.865450\n",
       "15    0.474566\n",
       "16    0.507423\n",
       "17    0.828517\n",
       "18    0.009598\n",
       "19    0.509672\n",
       "20    0.024105\n",
       "21    0.086775\n",
       "22    0.230090\n",
       "23    0.520447\n",
       "24    0.148484\n",
       "25    0.199361\n",
       "26    0.142563\n",
       "27    0.915777\n",
       "28    0.846582\n",
       "29    0.952199\n",
       "30    0.843632\n",
       "31    0.957961\n",
       "32    0.654109\n",
       "33    0.463465\n",
       "dtype: float64"
      ]
     },
     "execution_count": 19,
     "metadata": {},
     "output_type": "execute_result"
    }
   ],
   "source": [
    "ser"
   ]
  },
  {
   "cell_type": "code",
   "execution_count": 20,
   "id": "503c98cf-c09f-498f-bb5f-b82ce02187f7",
   "metadata": {},
   "outputs": [
    {
     "data": {
      "text/plain": [
       "pandas.core.series.Series"
      ]
     },
     "execution_count": 20,
     "metadata": {},
     "output_type": "execute_result"
    }
   ],
   "source": [
    "type(ser)"
   ]
  },
  {
   "cell_type": "code",
   "execution_count": 21,
   "id": "c6d77e04-ac33-4df0-b87f-7012efdc4915",
   "metadata": {},
   "outputs": [],
   "source": [
    "newdf=pd.DataFrame(np.random.rand(334,5),index=np.arange(334))"
   ]
  },
  {
   "cell_type": "code",
   "execution_count": 22,
   "id": "6869acc3-7022-4c5f-8785-1f57dd1f648c",
   "metadata": {},
   "outputs": [
    {
     "data": {
      "text/html": [
       "<div>\n",
       "<style scoped>\n",
       "    .dataframe tbody tr th:only-of-type {\n",
       "        vertical-align: middle;\n",
       "    }\n",
       "\n",
       "    .dataframe tbody tr th {\n",
       "        vertical-align: top;\n",
       "    }\n",
       "\n",
       "    .dataframe thead th {\n",
       "        text-align: right;\n",
       "    }\n",
       "</style>\n",
       "<table border=\"1\" class=\"dataframe\">\n",
       "  <thead>\n",
       "    <tr style=\"text-align: right;\">\n",
       "      <th></th>\n",
       "      <th>0</th>\n",
       "      <th>1</th>\n",
       "      <th>2</th>\n",
       "      <th>3</th>\n",
       "      <th>4</th>\n",
       "    </tr>\n",
       "  </thead>\n",
       "  <tbody>\n",
       "    <tr>\n",
       "      <th>0</th>\n",
       "      <td>0.973056</td>\n",
       "      <td>0.963852</td>\n",
       "      <td>0.537418</td>\n",
       "      <td>0.572186</td>\n",
       "      <td>0.042026</td>\n",
       "    </tr>\n",
       "    <tr>\n",
       "      <th>1</th>\n",
       "      <td>0.330646</td>\n",
       "      <td>0.540555</td>\n",
       "      <td>0.737831</td>\n",
       "      <td>0.541328</td>\n",
       "      <td>0.469906</td>\n",
       "    </tr>\n",
       "    <tr>\n",
       "      <th>2</th>\n",
       "      <td>0.497565</td>\n",
       "      <td>0.741719</td>\n",
       "      <td>0.242204</td>\n",
       "      <td>0.019440</td>\n",
       "      <td>0.969605</td>\n",
       "    </tr>\n",
       "    <tr>\n",
       "      <th>3</th>\n",
       "      <td>0.969247</td>\n",
       "      <td>0.481050</td>\n",
       "      <td>0.413165</td>\n",
       "      <td>0.272260</td>\n",
       "      <td>0.950864</td>\n",
       "    </tr>\n",
       "    <tr>\n",
       "      <th>4</th>\n",
       "      <td>0.240078</td>\n",
       "      <td>0.062816</td>\n",
       "      <td>0.720590</td>\n",
       "      <td>0.204707</td>\n",
       "      <td>0.835847</td>\n",
       "    </tr>\n",
       "    <tr>\n",
       "      <th>...</th>\n",
       "      <td>...</td>\n",
       "      <td>...</td>\n",
       "      <td>...</td>\n",
       "      <td>...</td>\n",
       "      <td>...</td>\n",
       "    </tr>\n",
       "    <tr>\n",
       "      <th>329</th>\n",
       "      <td>0.715793</td>\n",
       "      <td>0.668157</td>\n",
       "      <td>0.294528</td>\n",
       "      <td>0.190635</td>\n",
       "      <td>0.269703</td>\n",
       "    </tr>\n",
       "    <tr>\n",
       "      <th>330</th>\n",
       "      <td>0.586532</td>\n",
       "      <td>0.623190</td>\n",
       "      <td>0.696945</td>\n",
       "      <td>0.698055</td>\n",
       "      <td>0.050568</td>\n",
       "    </tr>\n",
       "    <tr>\n",
       "      <th>331</th>\n",
       "      <td>0.618469</td>\n",
       "      <td>0.147627</td>\n",
       "      <td>0.162156</td>\n",
       "      <td>0.932932</td>\n",
       "      <td>0.700429</td>\n",
       "    </tr>\n",
       "    <tr>\n",
       "      <th>332</th>\n",
       "      <td>0.814782</td>\n",
       "      <td>0.808982</td>\n",
       "      <td>0.443473</td>\n",
       "      <td>0.086186</td>\n",
       "      <td>0.062628</td>\n",
       "    </tr>\n",
       "    <tr>\n",
       "      <th>333</th>\n",
       "      <td>0.535169</td>\n",
       "      <td>0.700206</td>\n",
       "      <td>0.464598</td>\n",
       "      <td>0.104338</td>\n",
       "      <td>0.457526</td>\n",
       "    </tr>\n",
       "  </tbody>\n",
       "</table>\n",
       "<p>334 rows × 5 columns</p>\n",
       "</div>"
      ],
      "text/plain": [
       "            0         1         2         3         4\n",
       "0    0.973056  0.963852  0.537418  0.572186  0.042026\n",
       "1    0.330646  0.540555  0.737831  0.541328  0.469906\n",
       "2    0.497565  0.741719  0.242204  0.019440  0.969605\n",
       "3    0.969247  0.481050  0.413165  0.272260  0.950864\n",
       "4    0.240078  0.062816  0.720590  0.204707  0.835847\n",
       "..        ...       ...       ...       ...       ...\n",
       "329  0.715793  0.668157  0.294528  0.190635  0.269703\n",
       "330  0.586532  0.623190  0.696945  0.698055  0.050568\n",
       "331  0.618469  0.147627  0.162156  0.932932  0.700429\n",
       "332  0.814782  0.808982  0.443473  0.086186  0.062628\n",
       "333  0.535169  0.700206  0.464598  0.104338  0.457526\n",
       "\n",
       "[334 rows x 5 columns]"
      ]
     },
     "execution_count": 22,
     "metadata": {},
     "output_type": "execute_result"
    }
   ],
   "source": [
    "newdf"
   ]
  },
  {
   "cell_type": "code",
   "execution_count": 23,
   "id": "15813bf0-d5f8-429d-a4ce-406e7c63e9cc",
   "metadata": {},
   "outputs": [
    {
     "data": {
      "text/plain": [
       "pandas.core.frame.DataFrame"
      ]
     },
     "execution_count": 23,
     "metadata": {},
     "output_type": "execute_result"
    }
   ],
   "source": [
    "type(newdf)"
   ]
  },
  {
   "cell_type": "code",
   "execution_count": 24,
   "id": "bc4ee224-2244-4d9b-876a-4dcc083883ac",
   "metadata": {},
   "outputs": [
    {
     "data": {
      "text/html": [
       "<div>\n",
       "<style scoped>\n",
       "    .dataframe tbody tr th:only-of-type {\n",
       "        vertical-align: middle;\n",
       "    }\n",
       "\n",
       "    .dataframe tbody tr th {\n",
       "        vertical-align: top;\n",
       "    }\n",
       "\n",
       "    .dataframe thead th {\n",
       "        text-align: right;\n",
       "    }\n",
       "</style>\n",
       "<table border=\"1\" class=\"dataframe\">\n",
       "  <thead>\n",
       "    <tr style=\"text-align: right;\">\n",
       "      <th></th>\n",
       "      <th>0</th>\n",
       "      <th>1</th>\n",
       "      <th>2</th>\n",
       "      <th>3</th>\n",
       "      <th>4</th>\n",
       "    </tr>\n",
       "  </thead>\n",
       "  <tbody>\n",
       "    <tr>\n",
       "      <th>count</th>\n",
       "      <td>334.000000</td>\n",
       "      <td>334.000000</td>\n",
       "      <td>334.000000</td>\n",
       "      <td>334.000000</td>\n",
       "      <td>334.000000</td>\n",
       "    </tr>\n",
       "    <tr>\n",
       "      <th>mean</th>\n",
       "      <td>0.503297</td>\n",
       "      <td>0.515266</td>\n",
       "      <td>0.511179</td>\n",
       "      <td>0.512493</td>\n",
       "      <td>0.486233</td>\n",
       "    </tr>\n",
       "    <tr>\n",
       "      <th>std</th>\n",
       "      <td>0.268416</td>\n",
       "      <td>0.294636</td>\n",
       "      <td>0.290247</td>\n",
       "      <td>0.299683</td>\n",
       "      <td>0.295527</td>\n",
       "    </tr>\n",
       "    <tr>\n",
       "      <th>min</th>\n",
       "      <td>0.001323</td>\n",
       "      <td>0.000570</td>\n",
       "      <td>0.004872</td>\n",
       "      <td>0.000520</td>\n",
       "      <td>0.001818</td>\n",
       "    </tr>\n",
       "    <tr>\n",
       "      <th>25%</th>\n",
       "      <td>0.285557</td>\n",
       "      <td>0.262717</td>\n",
       "      <td>0.273937</td>\n",
       "      <td>0.256684</td>\n",
       "      <td>0.222904</td>\n",
       "    </tr>\n",
       "    <tr>\n",
       "      <th>50%</th>\n",
       "      <td>0.504224</td>\n",
       "      <td>0.549620</td>\n",
       "      <td>0.505594</td>\n",
       "      <td>0.541101</td>\n",
       "      <td>0.478389</td>\n",
       "    </tr>\n",
       "    <tr>\n",
       "      <th>75%</th>\n",
       "      <td>0.709336</td>\n",
       "      <td>0.770274</td>\n",
       "      <td>0.767608</td>\n",
       "      <td>0.763160</td>\n",
       "      <td>0.748869</td>\n",
       "    </tr>\n",
       "    <tr>\n",
       "      <th>max</th>\n",
       "      <td>0.996087</td>\n",
       "      <td>0.997091</td>\n",
       "      <td>0.998674</td>\n",
       "      <td>0.999974</td>\n",
       "      <td>0.996446</td>\n",
       "    </tr>\n",
       "  </tbody>\n",
       "</table>\n",
       "</div>"
      ],
      "text/plain": [
       "                0           1           2           3           4\n",
       "count  334.000000  334.000000  334.000000  334.000000  334.000000\n",
       "mean     0.503297    0.515266    0.511179    0.512493    0.486233\n",
       "std      0.268416    0.294636    0.290247    0.299683    0.295527\n",
       "min      0.001323    0.000570    0.004872    0.000520    0.001818\n",
       "25%      0.285557    0.262717    0.273937    0.256684    0.222904\n",
       "50%      0.504224    0.549620    0.505594    0.541101    0.478389\n",
       "75%      0.709336    0.770274    0.767608    0.763160    0.748869\n",
       "max      0.996087    0.997091    0.998674    0.999974    0.996446"
      ]
     },
     "execution_count": 24,
     "metadata": {},
     "output_type": "execute_result"
    }
   ],
   "source": [
    "newdf.describe()"
   ]
  },
  {
   "cell_type": "code",
   "execution_count": 25,
   "id": "8c1f9cba-beac-4a7d-b098-26bb58cf98f7",
   "metadata": {},
   "outputs": [
    {
     "name": "stderr",
     "output_type": "stream",
     "text": [
      "C:\\Users\\ASUS\\AppData\\Local\\Temp\\ipykernel_15016\\125427934.py:1: FutureWarning: Setting an item of incompatible dtype is deprecated and will raise in a future error of pandas. Value 'joy' has dtype incompatible with float64, please explicitly cast to a compatible dtype first.\n",
      "  newdf[0][0] = \"joy\"\n"
     ]
    }
   ],
   "source": [
    "newdf[0][0] = \"joy\""
   ]
  },
  {
   "cell_type": "code",
   "execution_count": 26,
   "id": "6e47da3f-7e72-4555-8371-3cb47dfd246d",
   "metadata": {},
   "outputs": [
    {
     "data": {
      "text/html": [
       "<div>\n",
       "<style scoped>\n",
       "    .dataframe tbody tr th:only-of-type {\n",
       "        vertical-align: middle;\n",
       "    }\n",
       "\n",
       "    .dataframe tbody tr th {\n",
       "        vertical-align: top;\n",
       "    }\n",
       "\n",
       "    .dataframe thead th {\n",
       "        text-align: right;\n",
       "    }\n",
       "</style>\n",
       "<table border=\"1\" class=\"dataframe\">\n",
       "  <thead>\n",
       "    <tr style=\"text-align: right;\">\n",
       "      <th></th>\n",
       "      <th>0</th>\n",
       "      <th>1</th>\n",
       "      <th>2</th>\n",
       "      <th>3</th>\n",
       "      <th>4</th>\n",
       "    </tr>\n",
       "  </thead>\n",
       "  <tbody>\n",
       "    <tr>\n",
       "      <th>0</th>\n",
       "      <td>joy</td>\n",
       "      <td>0.963852</td>\n",
       "      <td>0.537418</td>\n",
       "      <td>0.572186</td>\n",
       "      <td>0.042026</td>\n",
       "    </tr>\n",
       "    <tr>\n",
       "      <th>1</th>\n",
       "      <td>0.330646</td>\n",
       "      <td>0.540555</td>\n",
       "      <td>0.737831</td>\n",
       "      <td>0.541328</td>\n",
       "      <td>0.469906</td>\n",
       "    </tr>\n",
       "    <tr>\n",
       "      <th>2</th>\n",
       "      <td>0.497565</td>\n",
       "      <td>0.741719</td>\n",
       "      <td>0.242204</td>\n",
       "      <td>0.019440</td>\n",
       "      <td>0.969605</td>\n",
       "    </tr>\n",
       "    <tr>\n",
       "      <th>3</th>\n",
       "      <td>0.969247</td>\n",
       "      <td>0.481050</td>\n",
       "      <td>0.413165</td>\n",
       "      <td>0.272260</td>\n",
       "      <td>0.950864</td>\n",
       "    </tr>\n",
       "    <tr>\n",
       "      <th>4</th>\n",
       "      <td>0.240078</td>\n",
       "      <td>0.062816</td>\n",
       "      <td>0.720590</td>\n",
       "      <td>0.204707</td>\n",
       "      <td>0.835847</td>\n",
       "    </tr>\n",
       "  </tbody>\n",
       "</table>\n",
       "</div>"
      ],
      "text/plain": [
       "          0         1         2         3         4\n",
       "0       joy  0.963852  0.537418  0.572186  0.042026\n",
       "1  0.330646  0.540555  0.737831  0.541328  0.469906\n",
       "2  0.497565  0.741719  0.242204  0.019440  0.969605\n",
       "3  0.969247  0.481050  0.413165  0.272260  0.950864\n",
       "4  0.240078  0.062816  0.720590  0.204707  0.835847"
      ]
     },
     "execution_count": 26,
     "metadata": {},
     "output_type": "execute_result"
    }
   ],
   "source": [
    "newdf.head(5)"
   ]
  },
  {
   "cell_type": "code",
   "execution_count": 27,
   "id": "7080b9c6-e982-4765-818a-a7e4152760e4",
   "metadata": {},
   "outputs": [
    {
     "data": {
      "text/plain": [
       "pandas.core.frame.DataFrame"
      ]
     },
     "execution_count": 27,
     "metadata": {},
     "output_type": "execute_result"
    }
   ],
   "source": [
    "type(newdf)"
   ]
  },
  {
   "cell_type": "code",
   "execution_count": 28,
   "id": "f7342ae7-f983-480e-b13f-b800c45407c2",
   "metadata": {},
   "outputs": [
    {
     "data": {
      "text/plain": [
       "Index([  0,   1,   2,   3,   4,   5,   6,   7,   8,   9,\n",
       "       ...\n",
       "       324, 325, 326, 327, 328, 329, 330, 331, 332, 333],\n",
       "      dtype='int32', length=334)"
      ]
     },
     "execution_count": 28,
     "metadata": {},
     "output_type": "execute_result"
    }
   ],
   "source": [
    "newdf.index"
   ]
  },
  {
   "cell_type": "code",
   "execution_count": 29,
   "id": "63359aa1-27fa-4f52-93e9-d8ef297ee82f",
   "metadata": {},
   "outputs": [
    {
     "data": {
      "text/plain": [
       "RangeIndex(start=0, stop=5, step=1)"
      ]
     },
     "execution_count": 29,
     "metadata": {},
     "output_type": "execute_result"
    }
   ],
   "source": [
    "newdf.columns"
   ]
  },
  {
   "cell_type": "code",
   "execution_count": 30,
   "id": "30c2fae9-f8dd-43dd-849e-b797399e1f6a",
   "metadata": {},
   "outputs": [
    {
     "data": {
      "text/plain": [
       "array([['joy', 0.9638515685923459, 0.5374178278600704,\n",
       "        0.5721855854815416, 0.04202600127859735],\n",
       "       [0.33064580224344453, 0.5405548328752761, 0.7378313917374542,\n",
       "        0.5413280715485707, 0.4699059737054533],\n",
       "       [0.49756513512753275, 0.7417189717525554, 0.24220389855083857,\n",
       "        0.019440225922374488, 0.9696049924971292],\n",
       "       ...,\n",
       "       [0.6184689941369497, 0.1476271213498398, 0.16215626554703377,\n",
       "        0.9329316739534199, 0.7004291472211879],\n",
       "       [0.8147820059874405, 0.808981855439655, 0.4434730151590396,\n",
       "        0.086185877002936, 0.06262752931856663],\n",
       "       [0.5351689019524464, 0.7002058974714053, 0.46459845336928307,\n",
       "        0.10433843602214721, 0.4575260368744968]], dtype=object)"
      ]
     },
     "execution_count": 30,
     "metadata": {},
     "output_type": "execute_result"
    }
   ],
   "source": [
    "newdf.to_numpy()  # convert to numpy array"
   ]
  },
  {
   "cell_type": "code",
   "execution_count": 31,
   "id": "58fb6452-6fc6-44ef-a647-965570f79329",
   "metadata": {},
   "outputs": [],
   "source": [
    "newdf[0][0]=0.4"
   ]
  },
  {
   "cell_type": "code",
   "execution_count": 32,
   "id": "829bea2e-5027-4b0d-864f-565a10b31495",
   "metadata": {},
   "outputs": [
    {
     "data": {
      "text/plain": [
       "array([[0.4, 0.9638515685923459, 0.5374178278600704, 0.5721855854815416,\n",
       "        0.04202600127859735],\n",
       "       [0.33064580224344453, 0.5405548328752761, 0.7378313917374542,\n",
       "        0.5413280715485707, 0.4699059737054533],\n",
       "       [0.49756513512753275, 0.7417189717525554, 0.24220389855083857,\n",
       "        0.019440225922374488, 0.9696049924971292],\n",
       "       ...,\n",
       "       [0.6184689941369497, 0.1476271213498398, 0.16215626554703377,\n",
       "        0.9329316739534199, 0.7004291472211879],\n",
       "       [0.8147820059874405, 0.808981855439655, 0.4434730151590396,\n",
       "        0.086185877002936, 0.06262752931856663],\n",
       "       [0.5351689019524464, 0.7002058974714053, 0.46459845336928307,\n",
       "        0.10433843602214721, 0.4575260368744968]], dtype=object)"
      ]
     },
     "execution_count": 32,
     "metadata": {},
     "output_type": "execute_result"
    }
   ],
   "source": [
    "newdf.to_numpy()"
   ]
  },
  {
   "cell_type": "code",
   "execution_count": 33,
   "id": "09f853d8-0b02-4225-bee0-2aff73e97eef",
   "metadata": {},
   "outputs": [
    {
     "data": {
      "text/html": [
       "<div>\n",
       "<style scoped>\n",
       "    .dataframe tbody tr th:only-of-type {\n",
       "        vertical-align: middle;\n",
       "    }\n",
       "\n",
       "    .dataframe tbody tr th {\n",
       "        vertical-align: top;\n",
       "    }\n",
       "\n",
       "    .dataframe thead th {\n",
       "        text-align: right;\n",
       "    }\n",
       "</style>\n",
       "<table border=\"1\" class=\"dataframe\">\n",
       "  <thead>\n",
       "    <tr style=\"text-align: right;\">\n",
       "      <th></th>\n",
       "      <th>0</th>\n",
       "      <th>1</th>\n",
       "      <th>2</th>\n",
       "      <th>3</th>\n",
       "      <th>4</th>\n",
       "      <th>5</th>\n",
       "      <th>6</th>\n",
       "      <th>7</th>\n",
       "      <th>8</th>\n",
       "      <th>9</th>\n",
       "      <th>...</th>\n",
       "      <th>324</th>\n",
       "      <th>325</th>\n",
       "      <th>326</th>\n",
       "      <th>327</th>\n",
       "      <th>328</th>\n",
       "      <th>329</th>\n",
       "      <th>330</th>\n",
       "      <th>331</th>\n",
       "      <th>332</th>\n",
       "      <th>333</th>\n",
       "    </tr>\n",
       "  </thead>\n",
       "  <tbody>\n",
       "    <tr>\n",
       "      <th>0</th>\n",
       "      <td>0.4</td>\n",
       "      <td>0.330646</td>\n",
       "      <td>0.497565</td>\n",
       "      <td>0.969247</td>\n",
       "      <td>0.240078</td>\n",
       "      <td>0.288894</td>\n",
       "      <td>0.082081</td>\n",
       "      <td>0.500484</td>\n",
       "      <td>0.041564</td>\n",
       "      <td>0.384956</td>\n",
       "      <td>...</td>\n",
       "      <td>0.21437</td>\n",
       "      <td>0.040335</td>\n",
       "      <td>0.628898</td>\n",
       "      <td>0.219252</td>\n",
       "      <td>0.651535</td>\n",
       "      <td>0.715793</td>\n",
       "      <td>0.586532</td>\n",
       "      <td>0.618469</td>\n",
       "      <td>0.814782</td>\n",
       "      <td>0.535169</td>\n",
       "    </tr>\n",
       "    <tr>\n",
       "      <th>1</th>\n",
       "      <td>0.963852</td>\n",
       "      <td>0.540555</td>\n",
       "      <td>0.741719</td>\n",
       "      <td>0.48105</td>\n",
       "      <td>0.062816</td>\n",
       "      <td>0.806451</td>\n",
       "      <td>0.158097</td>\n",
       "      <td>0.770936</td>\n",
       "      <td>0.412951</td>\n",
       "      <td>0.686969</td>\n",
       "      <td>...</td>\n",
       "      <td>0.627065</td>\n",
       "      <td>0.404081</td>\n",
       "      <td>0.604857</td>\n",
       "      <td>0.624406</td>\n",
       "      <td>0.669752</td>\n",
       "      <td>0.668157</td>\n",
       "      <td>0.62319</td>\n",
       "      <td>0.147627</td>\n",
       "      <td>0.808982</td>\n",
       "      <td>0.700206</td>\n",
       "    </tr>\n",
       "    <tr>\n",
       "      <th>2</th>\n",
       "      <td>0.537418</td>\n",
       "      <td>0.737831</td>\n",
       "      <td>0.242204</td>\n",
       "      <td>0.413165</td>\n",
       "      <td>0.72059</td>\n",
       "      <td>0.748237</td>\n",
       "      <td>0.353406</td>\n",
       "      <td>0.400536</td>\n",
       "      <td>0.098968</td>\n",
       "      <td>0.381091</td>\n",
       "      <td>...</td>\n",
       "      <td>0.45576</td>\n",
       "      <td>0.878703</td>\n",
       "      <td>0.009648</td>\n",
       "      <td>0.280628</td>\n",
       "      <td>0.720486</td>\n",
       "      <td>0.294528</td>\n",
       "      <td>0.696945</td>\n",
       "      <td>0.162156</td>\n",
       "      <td>0.443473</td>\n",
       "      <td>0.464598</td>\n",
       "    </tr>\n",
       "    <tr>\n",
       "      <th>3</th>\n",
       "      <td>0.572186</td>\n",
       "      <td>0.541328</td>\n",
       "      <td>0.01944</td>\n",
       "      <td>0.27226</td>\n",
       "      <td>0.204707</td>\n",
       "      <td>0.801552</td>\n",
       "      <td>0.763564</td>\n",
       "      <td>0.586856</td>\n",
       "      <td>0.032539</td>\n",
       "      <td>0.450905</td>\n",
       "      <td>...</td>\n",
       "      <td>0.658527</td>\n",
       "      <td>0.505412</td>\n",
       "      <td>0.857216</td>\n",
       "      <td>0.407959</td>\n",
       "      <td>0.58392</td>\n",
       "      <td>0.190635</td>\n",
       "      <td>0.698055</td>\n",
       "      <td>0.932932</td>\n",
       "      <td>0.086186</td>\n",
       "      <td>0.104338</td>\n",
       "    </tr>\n",
       "    <tr>\n",
       "      <th>4</th>\n",
       "      <td>0.042026</td>\n",
       "      <td>0.469906</td>\n",
       "      <td>0.969605</td>\n",
       "      <td>0.950864</td>\n",
       "      <td>0.835847</td>\n",
       "      <td>0.629136</td>\n",
       "      <td>0.048813</td>\n",
       "      <td>0.699767</td>\n",
       "      <td>0.899393</td>\n",
       "      <td>0.684258</td>\n",
       "      <td>...</td>\n",
       "      <td>0.642393</td>\n",
       "      <td>0.041524</td>\n",
       "      <td>0.008728</td>\n",
       "      <td>0.160506</td>\n",
       "      <td>0.466677</td>\n",
       "      <td>0.269703</td>\n",
       "      <td>0.050568</td>\n",
       "      <td>0.700429</td>\n",
       "      <td>0.062628</td>\n",
       "      <td>0.457526</td>\n",
       "    </tr>\n",
       "  </tbody>\n",
       "</table>\n",
       "<p>5 rows × 334 columns</p>\n",
       "</div>"
      ],
      "text/plain": [
       "        0         1         2         3         4         5         6    \\\n",
       "0       0.4  0.330646  0.497565  0.969247  0.240078  0.288894  0.082081   \n",
       "1  0.963852  0.540555  0.741719   0.48105  0.062816  0.806451  0.158097   \n",
       "2  0.537418  0.737831  0.242204  0.413165   0.72059  0.748237  0.353406   \n",
       "3  0.572186  0.541328   0.01944   0.27226  0.204707  0.801552  0.763564   \n",
       "4  0.042026  0.469906  0.969605  0.950864  0.835847  0.629136  0.048813   \n",
       "\n",
       "        7         8         9    ...       324       325       326       327  \\\n",
       "0  0.500484  0.041564  0.384956  ...   0.21437  0.040335  0.628898  0.219252   \n",
       "1  0.770936  0.412951  0.686969  ...  0.627065  0.404081  0.604857  0.624406   \n",
       "2  0.400536  0.098968  0.381091  ...   0.45576  0.878703  0.009648  0.280628   \n",
       "3  0.586856  0.032539  0.450905  ...  0.658527  0.505412  0.857216  0.407959   \n",
       "4  0.699767  0.899393  0.684258  ...  0.642393  0.041524  0.008728  0.160506   \n",
       "\n",
       "        328       329       330       331       332       333  \n",
       "0  0.651535  0.715793  0.586532  0.618469  0.814782  0.535169  \n",
       "1  0.669752  0.668157   0.62319  0.147627  0.808982  0.700206  \n",
       "2  0.720486  0.294528  0.696945  0.162156  0.443473  0.464598  \n",
       "3   0.58392  0.190635  0.698055  0.932932  0.086186  0.104338  \n",
       "4  0.466677  0.269703  0.050568  0.700429  0.062628  0.457526  \n",
       "\n",
       "[5 rows x 334 columns]"
      ]
     },
     "execution_count": 33,
     "metadata": {},
     "output_type": "execute_result"
    }
   ],
   "source": [
    "newdf.transpose()"
   ]
  },
  {
   "cell_type": "code",
   "execution_count": 34,
   "id": "0456567c-cc41-4564-9d72-bc61f66eda5a",
   "metadata": {},
   "outputs": [
    {
     "data": {
      "text/html": [
       "<div>\n",
       "<style scoped>\n",
       "    .dataframe tbody tr th:only-of-type {\n",
       "        vertical-align: middle;\n",
       "    }\n",
       "\n",
       "    .dataframe tbody tr th {\n",
       "        vertical-align: top;\n",
       "    }\n",
       "\n",
       "    .dataframe thead th {\n",
       "        text-align: right;\n",
       "    }\n",
       "</style>\n",
       "<table border=\"1\" class=\"dataframe\">\n",
       "  <thead>\n",
       "    <tr style=\"text-align: right;\">\n",
       "      <th></th>\n",
       "      <th>0</th>\n",
       "      <th>1</th>\n",
       "      <th>2</th>\n",
       "      <th>3</th>\n",
       "      <th>4</th>\n",
       "    </tr>\n",
       "  </thead>\n",
       "  <tbody>\n",
       "    <tr>\n",
       "      <th>333</th>\n",
       "      <td>0.535169</td>\n",
       "      <td>0.700206</td>\n",
       "      <td>0.464598</td>\n",
       "      <td>0.104338</td>\n",
       "      <td>0.457526</td>\n",
       "    </tr>\n",
       "    <tr>\n",
       "      <th>332</th>\n",
       "      <td>0.814782</td>\n",
       "      <td>0.808982</td>\n",
       "      <td>0.443473</td>\n",
       "      <td>0.086186</td>\n",
       "      <td>0.062628</td>\n",
       "    </tr>\n",
       "    <tr>\n",
       "      <th>331</th>\n",
       "      <td>0.618469</td>\n",
       "      <td>0.147627</td>\n",
       "      <td>0.162156</td>\n",
       "      <td>0.932932</td>\n",
       "      <td>0.700429</td>\n",
       "    </tr>\n",
       "    <tr>\n",
       "      <th>330</th>\n",
       "      <td>0.586532</td>\n",
       "      <td>0.623190</td>\n",
       "      <td>0.696945</td>\n",
       "      <td>0.698055</td>\n",
       "      <td>0.050568</td>\n",
       "    </tr>\n",
       "    <tr>\n",
       "      <th>329</th>\n",
       "      <td>0.715793</td>\n",
       "      <td>0.668157</td>\n",
       "      <td>0.294528</td>\n",
       "      <td>0.190635</td>\n",
       "      <td>0.269703</td>\n",
       "    </tr>\n",
       "    <tr>\n",
       "      <th>...</th>\n",
       "      <td>...</td>\n",
       "      <td>...</td>\n",
       "      <td>...</td>\n",
       "      <td>...</td>\n",
       "      <td>...</td>\n",
       "    </tr>\n",
       "    <tr>\n",
       "      <th>4</th>\n",
       "      <td>0.240078</td>\n",
       "      <td>0.062816</td>\n",
       "      <td>0.720590</td>\n",
       "      <td>0.204707</td>\n",
       "      <td>0.835847</td>\n",
       "    </tr>\n",
       "    <tr>\n",
       "      <th>3</th>\n",
       "      <td>0.969247</td>\n",
       "      <td>0.481050</td>\n",
       "      <td>0.413165</td>\n",
       "      <td>0.272260</td>\n",
       "      <td>0.950864</td>\n",
       "    </tr>\n",
       "    <tr>\n",
       "      <th>2</th>\n",
       "      <td>0.497565</td>\n",
       "      <td>0.741719</td>\n",
       "      <td>0.242204</td>\n",
       "      <td>0.019440</td>\n",
       "      <td>0.969605</td>\n",
       "    </tr>\n",
       "    <tr>\n",
       "      <th>1</th>\n",
       "      <td>0.330646</td>\n",
       "      <td>0.540555</td>\n",
       "      <td>0.737831</td>\n",
       "      <td>0.541328</td>\n",
       "      <td>0.469906</td>\n",
       "    </tr>\n",
       "    <tr>\n",
       "      <th>0</th>\n",
       "      <td>0.4</td>\n",
       "      <td>0.963852</td>\n",
       "      <td>0.537418</td>\n",
       "      <td>0.572186</td>\n",
       "      <td>0.042026</td>\n",
       "    </tr>\n",
       "  </tbody>\n",
       "</table>\n",
       "<p>334 rows × 5 columns</p>\n",
       "</div>"
      ],
      "text/plain": [
       "            0         1         2         3         4\n",
       "333  0.535169  0.700206  0.464598  0.104338  0.457526\n",
       "332  0.814782  0.808982  0.443473  0.086186  0.062628\n",
       "331  0.618469  0.147627  0.162156  0.932932  0.700429\n",
       "330  0.586532  0.623190  0.696945  0.698055  0.050568\n",
       "329  0.715793  0.668157  0.294528  0.190635  0.269703\n",
       "..        ...       ...       ...       ...       ...\n",
       "4    0.240078  0.062816  0.720590  0.204707  0.835847\n",
       "3    0.969247  0.481050  0.413165  0.272260  0.950864\n",
       "2    0.497565  0.741719  0.242204  0.019440  0.969605\n",
       "1    0.330646  0.540555  0.737831  0.541328  0.469906\n",
       "0         0.4  0.963852  0.537418  0.572186  0.042026\n",
       "\n",
       "[334 rows x 5 columns]"
      ]
     },
     "execution_count": 34,
     "metadata": {},
     "output_type": "execute_result"
    }
   ],
   "source": [
    "newdf.sort_index(axis=0, ascending= False)  # x axis index sort"
   ]
  },
  {
   "cell_type": "code",
   "execution_count": 35,
   "id": "74c5ef70-800a-4d0e-9d68-cdb3b632944b",
   "metadata": {},
   "outputs": [
    {
     "data": {
      "text/plain": [
       "0           0.4\n",
       "1      0.330646\n",
       "2      0.497565\n",
       "3      0.969247\n",
       "4      0.240078\n",
       "         ...   \n",
       "329    0.715793\n",
       "330    0.586532\n",
       "331    0.618469\n",
       "332    0.814782\n",
       "333    0.535169\n",
       "Name: 0, Length: 334, dtype: object"
      ]
     },
     "execution_count": 35,
     "metadata": {},
     "output_type": "execute_result"
    }
   ],
   "source": [
    "newdf[0]"
   ]
  },
  {
   "cell_type": "code",
   "execution_count": 36,
   "id": "a1f12636-31fd-4254-8711-4da483cd28c1",
   "metadata": {},
   "outputs": [],
   "source": [
    "newdf2=newdf.copy()  # copy"
   ]
  },
  {
   "cell_type": "code",
   "execution_count": 37,
   "id": "b7b936fd-30f6-473a-8384-5b44a7dc3520",
   "metadata": {},
   "outputs": [
    {
     "data": {
      "text/html": [
       "<div>\n",
       "<style scoped>\n",
       "    .dataframe tbody tr th:only-of-type {\n",
       "        vertical-align: middle;\n",
       "    }\n",
       "\n",
       "    .dataframe tbody tr th {\n",
       "        vertical-align: top;\n",
       "    }\n",
       "\n",
       "    .dataframe thead th {\n",
       "        text-align: right;\n",
       "    }\n",
       "</style>\n",
       "<table border=\"1\" class=\"dataframe\">\n",
       "  <thead>\n",
       "    <tr style=\"text-align: right;\">\n",
       "      <th></th>\n",
       "      <th>0</th>\n",
       "      <th>1</th>\n",
       "      <th>2</th>\n",
       "      <th>3</th>\n",
       "      <th>4</th>\n",
       "    </tr>\n",
       "  </thead>\n",
       "  <tbody>\n",
       "    <tr>\n",
       "      <th>0</th>\n",
       "      <td>0.4</td>\n",
       "      <td>0.963852</td>\n",
       "      <td>0.537418</td>\n",
       "      <td>0.572186</td>\n",
       "      <td>0.042026</td>\n",
       "    </tr>\n",
       "    <tr>\n",
       "      <th>1</th>\n",
       "      <td>0.330646</td>\n",
       "      <td>0.540555</td>\n",
       "      <td>0.737831</td>\n",
       "      <td>0.541328</td>\n",
       "      <td>0.469906</td>\n",
       "    </tr>\n",
       "    <tr>\n",
       "      <th>2</th>\n",
       "      <td>0.497565</td>\n",
       "      <td>0.741719</td>\n",
       "      <td>0.242204</td>\n",
       "      <td>0.019440</td>\n",
       "      <td>0.969605</td>\n",
       "    </tr>\n",
       "    <tr>\n",
       "      <th>3</th>\n",
       "      <td>0.969247</td>\n",
       "      <td>0.481050</td>\n",
       "      <td>0.413165</td>\n",
       "      <td>0.272260</td>\n",
       "      <td>0.950864</td>\n",
       "    </tr>\n",
       "    <tr>\n",
       "      <th>4</th>\n",
       "      <td>0.240078</td>\n",
       "      <td>0.062816</td>\n",
       "      <td>0.720590</td>\n",
       "      <td>0.204707</td>\n",
       "      <td>0.835847</td>\n",
       "    </tr>\n",
       "    <tr>\n",
       "      <th>...</th>\n",
       "      <td>...</td>\n",
       "      <td>...</td>\n",
       "      <td>...</td>\n",
       "      <td>...</td>\n",
       "      <td>...</td>\n",
       "    </tr>\n",
       "    <tr>\n",
       "      <th>329</th>\n",
       "      <td>0.715793</td>\n",
       "      <td>0.668157</td>\n",
       "      <td>0.294528</td>\n",
       "      <td>0.190635</td>\n",
       "      <td>0.269703</td>\n",
       "    </tr>\n",
       "    <tr>\n",
       "      <th>330</th>\n",
       "      <td>0.586532</td>\n",
       "      <td>0.623190</td>\n",
       "      <td>0.696945</td>\n",
       "      <td>0.698055</td>\n",
       "      <td>0.050568</td>\n",
       "    </tr>\n",
       "    <tr>\n",
       "      <th>331</th>\n",
       "      <td>0.618469</td>\n",
       "      <td>0.147627</td>\n",
       "      <td>0.162156</td>\n",
       "      <td>0.932932</td>\n",
       "      <td>0.700429</td>\n",
       "    </tr>\n",
       "    <tr>\n",
       "      <th>332</th>\n",
       "      <td>0.814782</td>\n",
       "      <td>0.808982</td>\n",
       "      <td>0.443473</td>\n",
       "      <td>0.086186</td>\n",
       "      <td>0.062628</td>\n",
       "    </tr>\n",
       "    <tr>\n",
       "      <th>333</th>\n",
       "      <td>0.535169</td>\n",
       "      <td>0.700206</td>\n",
       "      <td>0.464598</td>\n",
       "      <td>0.104338</td>\n",
       "      <td>0.457526</td>\n",
       "    </tr>\n",
       "  </tbody>\n",
       "</table>\n",
       "<p>334 rows × 5 columns</p>\n",
       "</div>"
      ],
      "text/plain": [
       "            0         1         2         3         4\n",
       "0         0.4  0.963852  0.537418  0.572186  0.042026\n",
       "1    0.330646  0.540555  0.737831  0.541328  0.469906\n",
       "2    0.497565  0.741719  0.242204  0.019440  0.969605\n",
       "3    0.969247  0.481050  0.413165  0.272260  0.950864\n",
       "4    0.240078  0.062816  0.720590  0.204707  0.835847\n",
       "..        ...       ...       ...       ...       ...\n",
       "329  0.715793  0.668157  0.294528  0.190635  0.269703\n",
       "330  0.586532  0.623190  0.696945  0.698055  0.050568\n",
       "331  0.618469  0.147627  0.162156  0.932932  0.700429\n",
       "332  0.814782  0.808982  0.443473  0.086186  0.062628\n",
       "333  0.535169  0.700206  0.464598  0.104338  0.457526\n",
       "\n",
       "[334 rows x 5 columns]"
      ]
     },
     "execution_count": 37,
     "metadata": {},
     "output_type": "execute_result"
    }
   ],
   "source": [
    "newdf2"
   ]
  },
  {
   "cell_type": "code",
   "execution_count": 38,
   "id": "2cf49751-2b10-4245-98a0-a55ac67a5f7d",
   "metadata": {},
   "outputs": [],
   "source": [
    "newdf.loc[0,0] = 500"
   ]
  },
  {
   "cell_type": "code",
   "execution_count": 39,
   "id": "44a02c9b-5921-4ef4-a828-4cd71e0f5020",
   "metadata": {},
   "outputs": [
    {
     "data": {
      "text/html": [
       "<div>\n",
       "<style scoped>\n",
       "    .dataframe tbody tr th:only-of-type {\n",
       "        vertical-align: middle;\n",
       "    }\n",
       "\n",
       "    .dataframe tbody tr th {\n",
       "        vertical-align: top;\n",
       "    }\n",
       "\n",
       "    .dataframe thead th {\n",
       "        text-align: right;\n",
       "    }\n",
       "</style>\n",
       "<table border=\"1\" class=\"dataframe\">\n",
       "  <thead>\n",
       "    <tr style=\"text-align: right;\">\n",
       "      <th></th>\n",
       "      <th>0</th>\n",
       "      <th>1</th>\n",
       "      <th>2</th>\n",
       "      <th>3</th>\n",
       "      <th>4</th>\n",
       "    </tr>\n",
       "  </thead>\n",
       "  <tbody>\n",
       "    <tr>\n",
       "      <th>0</th>\n",
       "      <td>500</td>\n",
       "      <td>0.963852</td>\n",
       "      <td>0.537418</td>\n",
       "      <td>0.572186</td>\n",
       "      <td>0.042026</td>\n",
       "    </tr>\n",
       "    <tr>\n",
       "      <th>1</th>\n",
       "      <td>0.330646</td>\n",
       "      <td>0.540555</td>\n",
       "      <td>0.737831</td>\n",
       "      <td>0.541328</td>\n",
       "      <td>0.469906</td>\n",
       "    </tr>\n",
       "    <tr>\n",
       "      <th>2</th>\n",
       "      <td>0.497565</td>\n",
       "      <td>0.741719</td>\n",
       "      <td>0.242204</td>\n",
       "      <td>0.019440</td>\n",
       "      <td>0.969605</td>\n",
       "    </tr>\n",
       "    <tr>\n",
       "      <th>3</th>\n",
       "      <td>0.969247</td>\n",
       "      <td>0.481050</td>\n",
       "      <td>0.413165</td>\n",
       "      <td>0.272260</td>\n",
       "      <td>0.950864</td>\n",
       "    </tr>\n",
       "    <tr>\n",
       "      <th>4</th>\n",
       "      <td>0.240078</td>\n",
       "      <td>0.062816</td>\n",
       "      <td>0.720590</td>\n",
       "      <td>0.204707</td>\n",
       "      <td>0.835847</td>\n",
       "    </tr>\n",
       "  </tbody>\n",
       "</table>\n",
       "</div>"
      ],
      "text/plain": [
       "          0         1         2         3         4\n",
       "0       500  0.963852  0.537418  0.572186  0.042026\n",
       "1  0.330646  0.540555  0.737831  0.541328  0.469906\n",
       "2  0.497565  0.741719  0.242204  0.019440  0.969605\n",
       "3  0.969247  0.481050  0.413165  0.272260  0.950864\n",
       "4  0.240078  0.062816  0.720590  0.204707  0.835847"
      ]
     },
     "execution_count": 39,
     "metadata": {},
     "output_type": "execute_result"
    }
   ],
   "source": [
    "newdf.head(5)"
   ]
  },
  {
   "cell_type": "code",
   "execution_count": 40,
   "id": "ba9dd5aa-ccb5-4fcb-a1b7-ec1bbb3f7622",
   "metadata": {},
   "outputs": [],
   "source": [
    "newdf.columns= list(\"ABCDE\")   # column update"
   ]
  },
  {
   "cell_type": "code",
   "execution_count": 41,
   "id": "bfd9fbea-39a1-48b6-bfde-95cb204d8b4a",
   "metadata": {},
   "outputs": [
    {
     "data": {
      "text/html": [
       "<div>\n",
       "<style scoped>\n",
       "    .dataframe tbody tr th:only-of-type {\n",
       "        vertical-align: middle;\n",
       "    }\n",
       "\n",
       "    .dataframe tbody tr th {\n",
       "        vertical-align: top;\n",
       "    }\n",
       "\n",
       "    .dataframe thead th {\n",
       "        text-align: right;\n",
       "    }\n",
       "</style>\n",
       "<table border=\"1\" class=\"dataframe\">\n",
       "  <thead>\n",
       "    <tr style=\"text-align: right;\">\n",
       "      <th></th>\n",
       "      <th>A</th>\n",
       "      <th>B</th>\n",
       "      <th>C</th>\n",
       "      <th>D</th>\n",
       "      <th>E</th>\n",
       "    </tr>\n",
       "  </thead>\n",
       "  <tbody>\n",
       "    <tr>\n",
       "      <th>0</th>\n",
       "      <td>500</td>\n",
       "      <td>0.963852</td>\n",
       "      <td>0.537418</td>\n",
       "      <td>0.572186</td>\n",
       "      <td>0.042026</td>\n",
       "    </tr>\n",
       "    <tr>\n",
       "      <th>1</th>\n",
       "      <td>0.330646</td>\n",
       "      <td>0.540555</td>\n",
       "      <td>0.737831</td>\n",
       "      <td>0.541328</td>\n",
       "      <td>0.469906</td>\n",
       "    </tr>\n",
       "    <tr>\n",
       "      <th>2</th>\n",
       "      <td>0.497565</td>\n",
       "      <td>0.741719</td>\n",
       "      <td>0.242204</td>\n",
       "      <td>0.019440</td>\n",
       "      <td>0.969605</td>\n",
       "    </tr>\n",
       "    <tr>\n",
       "      <th>3</th>\n",
       "      <td>0.969247</td>\n",
       "      <td>0.481050</td>\n",
       "      <td>0.413165</td>\n",
       "      <td>0.272260</td>\n",
       "      <td>0.950864</td>\n",
       "    </tr>\n",
       "    <tr>\n",
       "      <th>4</th>\n",
       "      <td>0.240078</td>\n",
       "      <td>0.062816</td>\n",
       "      <td>0.720590</td>\n",
       "      <td>0.204707</td>\n",
       "      <td>0.835847</td>\n",
       "    </tr>\n",
       "  </tbody>\n",
       "</table>\n",
       "</div>"
      ],
      "text/plain": [
       "          A         B         C         D         E\n",
       "0       500  0.963852  0.537418  0.572186  0.042026\n",
       "1  0.330646  0.540555  0.737831  0.541328  0.469906\n",
       "2  0.497565  0.741719  0.242204  0.019440  0.969605\n",
       "3  0.969247  0.481050  0.413165  0.272260  0.950864\n",
       "4  0.240078  0.062816  0.720590  0.204707  0.835847"
      ]
     },
     "execution_count": 41,
     "metadata": {},
     "output_type": "execute_result"
    }
   ],
   "source": [
    "newdf.head(5)"
   ]
  },
  {
   "cell_type": "code",
   "execution_count": 42,
   "id": "5ce8bc0c-52b6-42ef-8534-2ebb1dd42cae",
   "metadata": {},
   "outputs": [],
   "source": [
    "newdf.loc[0,\"A\"] = 1000"
   ]
  },
  {
   "cell_type": "code",
   "execution_count": 43,
   "id": "f5962130-4d91-49a6-85df-fe511a48bf8f",
   "metadata": {},
   "outputs": [
    {
     "data": {
      "text/html": [
       "<div>\n",
       "<style scoped>\n",
       "    .dataframe tbody tr th:only-of-type {\n",
       "        vertical-align: middle;\n",
       "    }\n",
       "\n",
       "    .dataframe tbody tr th {\n",
       "        vertical-align: top;\n",
       "    }\n",
       "\n",
       "    .dataframe thead th {\n",
       "        text-align: right;\n",
       "    }\n",
       "</style>\n",
       "<table border=\"1\" class=\"dataframe\">\n",
       "  <thead>\n",
       "    <tr style=\"text-align: right;\">\n",
       "      <th></th>\n",
       "      <th>A</th>\n",
       "      <th>B</th>\n",
       "      <th>C</th>\n",
       "      <th>D</th>\n",
       "      <th>E</th>\n",
       "    </tr>\n",
       "  </thead>\n",
       "  <tbody>\n",
       "    <tr>\n",
       "      <th>0</th>\n",
       "      <td>1000</td>\n",
       "      <td>0.963852</td>\n",
       "      <td>0.537418</td>\n",
       "      <td>0.572186</td>\n",
       "      <td>0.042026</td>\n",
       "    </tr>\n",
       "    <tr>\n",
       "      <th>1</th>\n",
       "      <td>0.330646</td>\n",
       "      <td>0.540555</td>\n",
       "      <td>0.737831</td>\n",
       "      <td>0.541328</td>\n",
       "      <td>0.469906</td>\n",
       "    </tr>\n",
       "    <tr>\n",
       "      <th>2</th>\n",
       "      <td>0.497565</td>\n",
       "      <td>0.741719</td>\n",
       "      <td>0.242204</td>\n",
       "      <td>0.019440</td>\n",
       "      <td>0.969605</td>\n",
       "    </tr>\n",
       "    <tr>\n",
       "      <th>3</th>\n",
       "      <td>0.969247</td>\n",
       "      <td>0.481050</td>\n",
       "      <td>0.413165</td>\n",
       "      <td>0.272260</td>\n",
       "      <td>0.950864</td>\n",
       "    </tr>\n",
       "    <tr>\n",
       "      <th>4</th>\n",
       "      <td>0.240078</td>\n",
       "      <td>0.062816</td>\n",
       "      <td>0.720590</td>\n",
       "      <td>0.204707</td>\n",
       "      <td>0.835847</td>\n",
       "    </tr>\n",
       "  </tbody>\n",
       "</table>\n",
       "</div>"
      ],
      "text/plain": [
       "          A         B         C         D         E\n",
       "0      1000  0.963852  0.537418  0.572186  0.042026\n",
       "1  0.330646  0.540555  0.737831  0.541328  0.469906\n",
       "2  0.497565  0.741719  0.242204  0.019440  0.969605\n",
       "3  0.969247  0.481050  0.413165  0.272260  0.950864\n",
       "4  0.240078  0.062816  0.720590  0.204707  0.835847"
      ]
     },
     "execution_count": 43,
     "metadata": {},
     "output_type": "execute_result"
    }
   ],
   "source": [
    "newdf.head(5)"
   ]
  },
  {
   "cell_type": "code",
   "execution_count": 44,
   "id": "a3c802f0-8e11-4500-9e4f-1b1a3035a79b",
   "metadata": {},
   "outputs": [],
   "source": [
    "newdf.loc[0,0] = 1000"
   ]
  },
  {
   "cell_type": "code",
   "execution_count": 45,
   "id": "b5e5980d-721f-4d7d-9d81-bc47c6d57663",
   "metadata": {},
   "outputs": [
    {
     "data": {
      "text/html": [
       "<div>\n",
       "<style scoped>\n",
       "    .dataframe tbody tr th:only-of-type {\n",
       "        vertical-align: middle;\n",
       "    }\n",
       "\n",
       "    .dataframe tbody tr th {\n",
       "        vertical-align: top;\n",
       "    }\n",
       "\n",
       "    .dataframe thead th {\n",
       "        text-align: right;\n",
       "    }\n",
       "</style>\n",
       "<table border=\"1\" class=\"dataframe\">\n",
       "  <thead>\n",
       "    <tr style=\"text-align: right;\">\n",
       "      <th></th>\n",
       "      <th>A</th>\n",
       "      <th>B</th>\n",
       "      <th>C</th>\n",
       "      <th>D</th>\n",
       "      <th>E</th>\n",
       "      <th>0</th>\n",
       "    </tr>\n",
       "  </thead>\n",
       "  <tbody>\n",
       "    <tr>\n",
       "      <th>0</th>\n",
       "      <td>1000</td>\n",
       "      <td>0.963852</td>\n",
       "      <td>0.537418</td>\n",
       "      <td>0.572186</td>\n",
       "      <td>0.042026</td>\n",
       "      <td>1000.0</td>\n",
       "    </tr>\n",
       "    <tr>\n",
       "      <th>1</th>\n",
       "      <td>0.330646</td>\n",
       "      <td>0.540555</td>\n",
       "      <td>0.737831</td>\n",
       "      <td>0.541328</td>\n",
       "      <td>0.469906</td>\n",
       "      <td>NaN</td>\n",
       "    </tr>\n",
       "    <tr>\n",
       "      <th>2</th>\n",
       "      <td>0.497565</td>\n",
       "      <td>0.741719</td>\n",
       "      <td>0.242204</td>\n",
       "      <td>0.019440</td>\n",
       "      <td>0.969605</td>\n",
       "      <td>NaN</td>\n",
       "    </tr>\n",
       "    <tr>\n",
       "      <th>3</th>\n",
       "      <td>0.969247</td>\n",
       "      <td>0.481050</td>\n",
       "      <td>0.413165</td>\n",
       "      <td>0.272260</td>\n",
       "      <td>0.950864</td>\n",
       "      <td>NaN</td>\n",
       "    </tr>\n",
       "    <tr>\n",
       "      <th>4</th>\n",
       "      <td>0.240078</td>\n",
       "      <td>0.062816</td>\n",
       "      <td>0.720590</td>\n",
       "      <td>0.204707</td>\n",
       "      <td>0.835847</td>\n",
       "      <td>NaN</td>\n",
       "    </tr>\n",
       "    <tr>\n",
       "      <th>...</th>\n",
       "      <td>...</td>\n",
       "      <td>...</td>\n",
       "      <td>...</td>\n",
       "      <td>...</td>\n",
       "      <td>...</td>\n",
       "      <td>...</td>\n",
       "    </tr>\n",
       "    <tr>\n",
       "      <th>329</th>\n",
       "      <td>0.715793</td>\n",
       "      <td>0.668157</td>\n",
       "      <td>0.294528</td>\n",
       "      <td>0.190635</td>\n",
       "      <td>0.269703</td>\n",
       "      <td>NaN</td>\n",
       "    </tr>\n",
       "    <tr>\n",
       "      <th>330</th>\n",
       "      <td>0.586532</td>\n",
       "      <td>0.623190</td>\n",
       "      <td>0.696945</td>\n",
       "      <td>0.698055</td>\n",
       "      <td>0.050568</td>\n",
       "      <td>NaN</td>\n",
       "    </tr>\n",
       "    <tr>\n",
       "      <th>331</th>\n",
       "      <td>0.618469</td>\n",
       "      <td>0.147627</td>\n",
       "      <td>0.162156</td>\n",
       "      <td>0.932932</td>\n",
       "      <td>0.700429</td>\n",
       "      <td>NaN</td>\n",
       "    </tr>\n",
       "    <tr>\n",
       "      <th>332</th>\n",
       "      <td>0.814782</td>\n",
       "      <td>0.808982</td>\n",
       "      <td>0.443473</td>\n",
       "      <td>0.086186</td>\n",
       "      <td>0.062628</td>\n",
       "      <td>NaN</td>\n",
       "    </tr>\n",
       "    <tr>\n",
       "      <th>333</th>\n",
       "      <td>0.535169</td>\n",
       "      <td>0.700206</td>\n",
       "      <td>0.464598</td>\n",
       "      <td>0.104338</td>\n",
       "      <td>0.457526</td>\n",
       "      <td>NaN</td>\n",
       "    </tr>\n",
       "  </tbody>\n",
       "</table>\n",
       "<p>334 rows × 6 columns</p>\n",
       "</div>"
      ],
      "text/plain": [
       "            A         B         C         D         E       0\n",
       "0        1000  0.963852  0.537418  0.572186  0.042026  1000.0\n",
       "1    0.330646  0.540555  0.737831  0.541328  0.469906     NaN\n",
       "2    0.497565  0.741719  0.242204  0.019440  0.969605     NaN\n",
       "3    0.969247  0.481050  0.413165  0.272260  0.950864     NaN\n",
       "4    0.240078  0.062816  0.720590  0.204707  0.835847     NaN\n",
       "..        ...       ...       ...       ...       ...     ...\n",
       "329  0.715793  0.668157  0.294528  0.190635  0.269703     NaN\n",
       "330  0.586532  0.623190  0.696945  0.698055  0.050568     NaN\n",
       "331  0.618469  0.147627  0.162156  0.932932  0.700429     NaN\n",
       "332  0.814782  0.808982  0.443473  0.086186  0.062628     NaN\n",
       "333  0.535169  0.700206  0.464598  0.104338  0.457526     NaN\n",
       "\n",
       "[334 rows x 6 columns]"
      ]
     },
     "execution_count": 45,
     "metadata": {},
     "output_type": "execute_result"
    }
   ],
   "source": [
    "newdf"
   ]
  },
  {
   "cell_type": "code",
   "execution_count": 46,
   "id": "18a59bb8-a37e-4c4b-8aa2-6e86bdbd71a4",
   "metadata": {},
   "outputs": [
    {
     "data": {
      "text/html": [
       "<div>\n",
       "<style scoped>\n",
       "    .dataframe tbody tr th:only-of-type {\n",
       "        vertical-align: middle;\n",
       "    }\n",
       "\n",
       "    .dataframe tbody tr th {\n",
       "        vertical-align: top;\n",
       "    }\n",
       "\n",
       "    .dataframe thead th {\n",
       "        text-align: right;\n",
       "    }\n",
       "</style>\n",
       "<table border=\"1\" class=\"dataframe\">\n",
       "  <thead>\n",
       "    <tr style=\"text-align: right;\">\n",
       "      <th></th>\n",
       "      <th>A</th>\n",
       "      <th>B</th>\n",
       "      <th>C</th>\n",
       "      <th>D</th>\n",
       "      <th>E</th>\n",
       "    </tr>\n",
       "  </thead>\n",
       "  <tbody>\n",
       "    <tr>\n",
       "      <th>0</th>\n",
       "      <td>1000</td>\n",
       "      <td>0.963852</td>\n",
       "      <td>0.537418</td>\n",
       "      <td>0.572186</td>\n",
       "      <td>0.042026</td>\n",
       "    </tr>\n",
       "    <tr>\n",
       "      <th>1</th>\n",
       "      <td>0.330646</td>\n",
       "      <td>0.540555</td>\n",
       "      <td>0.737831</td>\n",
       "      <td>0.541328</td>\n",
       "      <td>0.469906</td>\n",
       "    </tr>\n",
       "    <tr>\n",
       "      <th>2</th>\n",
       "      <td>0.497565</td>\n",
       "      <td>0.741719</td>\n",
       "      <td>0.242204</td>\n",
       "      <td>0.019440</td>\n",
       "      <td>0.969605</td>\n",
       "    </tr>\n",
       "    <tr>\n",
       "      <th>3</th>\n",
       "      <td>0.969247</td>\n",
       "      <td>0.481050</td>\n",
       "      <td>0.413165</td>\n",
       "      <td>0.272260</td>\n",
       "      <td>0.950864</td>\n",
       "    </tr>\n",
       "    <tr>\n",
       "      <th>4</th>\n",
       "      <td>0.240078</td>\n",
       "      <td>0.062816</td>\n",
       "      <td>0.720590</td>\n",
       "      <td>0.204707</td>\n",
       "      <td>0.835847</td>\n",
       "    </tr>\n",
       "    <tr>\n",
       "      <th>...</th>\n",
       "      <td>...</td>\n",
       "      <td>...</td>\n",
       "      <td>...</td>\n",
       "      <td>...</td>\n",
       "      <td>...</td>\n",
       "    </tr>\n",
       "    <tr>\n",
       "      <th>329</th>\n",
       "      <td>0.715793</td>\n",
       "      <td>0.668157</td>\n",
       "      <td>0.294528</td>\n",
       "      <td>0.190635</td>\n",
       "      <td>0.269703</td>\n",
       "    </tr>\n",
       "    <tr>\n",
       "      <th>330</th>\n",
       "      <td>0.586532</td>\n",
       "      <td>0.623190</td>\n",
       "      <td>0.696945</td>\n",
       "      <td>0.698055</td>\n",
       "      <td>0.050568</td>\n",
       "    </tr>\n",
       "    <tr>\n",
       "      <th>331</th>\n",
       "      <td>0.618469</td>\n",
       "      <td>0.147627</td>\n",
       "      <td>0.162156</td>\n",
       "      <td>0.932932</td>\n",
       "      <td>0.700429</td>\n",
       "    </tr>\n",
       "    <tr>\n",
       "      <th>332</th>\n",
       "      <td>0.814782</td>\n",
       "      <td>0.808982</td>\n",
       "      <td>0.443473</td>\n",
       "      <td>0.086186</td>\n",
       "      <td>0.062628</td>\n",
       "    </tr>\n",
       "    <tr>\n",
       "      <th>333</th>\n",
       "      <td>0.535169</td>\n",
       "      <td>0.700206</td>\n",
       "      <td>0.464598</td>\n",
       "      <td>0.104338</td>\n",
       "      <td>0.457526</td>\n",
       "    </tr>\n",
       "  </tbody>\n",
       "</table>\n",
       "<p>334 rows × 5 columns</p>\n",
       "</div>"
      ],
      "text/plain": [
       "            A         B         C         D         E\n",
       "0        1000  0.963852  0.537418  0.572186  0.042026\n",
       "1    0.330646  0.540555  0.737831  0.541328  0.469906\n",
       "2    0.497565  0.741719  0.242204  0.019440  0.969605\n",
       "3    0.969247  0.481050  0.413165  0.272260  0.950864\n",
       "4    0.240078  0.062816  0.720590  0.204707  0.835847\n",
       "..        ...       ...       ...       ...       ...\n",
       "329  0.715793  0.668157  0.294528  0.190635  0.269703\n",
       "330  0.586532  0.623190  0.696945  0.698055  0.050568\n",
       "331  0.618469  0.147627  0.162156  0.932932  0.700429\n",
       "332  0.814782  0.808982  0.443473  0.086186  0.062628\n",
       "333  0.535169  0.700206  0.464598  0.104338  0.457526\n",
       "\n",
       "[334 rows x 5 columns]"
      ]
     },
     "execution_count": 46,
     "metadata": {},
     "output_type": "execute_result"
    }
   ],
   "source": [
    "# drop the 0 column\n",
    "\n",
    "newdf.drop(0, axis=1)"
   ]
  },
  {
   "cell_type": "code",
   "execution_count": 48,
   "id": "8ef11fbb-1ef5-4fcc-8c89-87174ef997b9",
   "metadata": {},
   "outputs": [
    {
     "data": {
      "text/html": [
       "<div>\n",
       "<style scoped>\n",
       "    .dataframe tbody tr th:only-of-type {\n",
       "        vertical-align: middle;\n",
       "    }\n",
       "\n",
       "    .dataframe tbody tr th {\n",
       "        vertical-align: top;\n",
       "    }\n",
       "\n",
       "    .dataframe thead th {\n",
       "        text-align: right;\n",
       "    }\n",
       "</style>\n",
       "<table border=\"1\" class=\"dataframe\">\n",
       "  <thead>\n",
       "    <tr style=\"text-align: right;\">\n",
       "      <th></th>\n",
       "      <th>C</th>\n",
       "      <th>D</th>\n",
       "    </tr>\n",
       "  </thead>\n",
       "  <tbody>\n",
       "    <tr>\n",
       "      <th>1</th>\n",
       "      <td>0.737831</td>\n",
       "      <td>0.541328</td>\n",
       "    </tr>\n",
       "    <tr>\n",
       "      <th>2</th>\n",
       "      <td>0.242204</td>\n",
       "      <td>0.019440</td>\n",
       "    </tr>\n",
       "  </tbody>\n",
       "</table>\n",
       "</div>"
      ],
      "text/plain": [
       "          C         D\n",
       "1  0.737831  0.541328\n",
       "2  0.242204  0.019440"
      ]
     },
     "execution_count": 48,
     "metadata": {},
     "output_type": "execute_result"
    }
   ],
   "source": [
    "newdf.loc[[1,2],['C','D']]  # first: [] row, second: [] column"
   ]
  },
  {
   "cell_type": "code",
   "execution_count": 49,
   "id": "3fee7be2-29d8-4877-8171-5ec0bd08512e",
   "metadata": {},
   "outputs": [
    {
     "data": {
      "text/html": [
       "<div>\n",
       "<style scoped>\n",
       "    .dataframe tbody tr th:only-of-type {\n",
       "        vertical-align: middle;\n",
       "    }\n",
       "\n",
       "    .dataframe tbody tr th {\n",
       "        vertical-align: top;\n",
       "    }\n",
       "\n",
       "    .dataframe thead th {\n",
       "        text-align: right;\n",
       "    }\n",
       "</style>\n",
       "<table border=\"1\" class=\"dataframe\">\n",
       "  <thead>\n",
       "    <tr style=\"text-align: right;\">\n",
       "      <th></th>\n",
       "      <th>A</th>\n",
       "      <th>B</th>\n",
       "      <th>C</th>\n",
       "      <th>D</th>\n",
       "      <th>E</th>\n",
       "      <th>0</th>\n",
       "    </tr>\n",
       "  </thead>\n",
       "  <tbody>\n",
       "    <tr>\n",
       "      <th>1</th>\n",
       "      <td>0.330646</td>\n",
       "      <td>0.540555</td>\n",
       "      <td>0.737831</td>\n",
       "      <td>0.541328</td>\n",
       "      <td>0.469906</td>\n",
       "      <td>NaN</td>\n",
       "    </tr>\n",
       "    <tr>\n",
       "      <th>2</th>\n",
       "      <td>0.497565</td>\n",
       "      <td>0.741719</td>\n",
       "      <td>0.242204</td>\n",
       "      <td>0.019440</td>\n",
       "      <td>0.969605</td>\n",
       "      <td>NaN</td>\n",
       "    </tr>\n",
       "  </tbody>\n",
       "</table>\n",
       "</div>"
      ],
      "text/plain": [
       "          A         B         C         D         E   0\n",
       "1  0.330646  0.540555  0.737831  0.541328  0.469906 NaN\n",
       "2  0.497565  0.741719  0.242204  0.019440  0.969605 NaN"
      ]
     },
     "execution_count": 49,
     "metadata": {},
     "output_type": "execute_result"
    }
   ],
   "source": [
    "newdf.loc[[1,2], :]   # 1,2 row and all column"
   ]
  },
  {
   "cell_type": "code",
   "execution_count": 54,
   "id": "fa5810d6-333b-45ea-a744-8b27d62c9090",
   "metadata": {},
   "outputs": [
    {
     "data": {
      "text/html": [
       "<div>\n",
       "<style scoped>\n",
       "    .dataframe tbody tr th:only-of-type {\n",
       "        vertical-align: middle;\n",
       "    }\n",
       "\n",
       "    .dataframe tbody tr th {\n",
       "        vertical-align: top;\n",
       "    }\n",
       "\n",
       "    .dataframe thead th {\n",
       "        text-align: right;\n",
       "    }\n",
       "</style>\n",
       "<table border=\"1\" class=\"dataframe\">\n",
       "  <thead>\n",
       "    <tr style=\"text-align: right;\">\n",
       "      <th></th>\n",
       "      <th>A</th>\n",
       "      <th>B</th>\n",
       "      <th>C</th>\n",
       "      <th>D</th>\n",
       "      <th>E</th>\n",
       "      <th>0</th>\n",
       "    </tr>\n",
       "  </thead>\n",
       "  <tbody>\n",
       "    <tr>\n",
       "      <th>110</th>\n",
       "      <td>0.003307</td>\n",
       "      <td>0.721463</td>\n",
       "      <td>0.504813</td>\n",
       "      <td>0.505356</td>\n",
       "      <td>0.163121</td>\n",
       "      <td>NaN</td>\n",
       "    </tr>\n",
       "    <tr>\n",
       "      <th>141</th>\n",
       "      <td>0.001323</td>\n",
       "      <td>0.801954</td>\n",
       "      <td>0.571312</td>\n",
       "      <td>0.086236</td>\n",
       "      <td>0.516686</td>\n",
       "      <td>NaN</td>\n",
       "    </tr>\n",
       "    <tr>\n",
       "      <th>208</th>\n",
       "      <td>0.004102</td>\n",
       "      <td>0.996150</td>\n",
       "      <td>0.100212</td>\n",
       "      <td>0.546630</td>\n",
       "      <td>0.640417</td>\n",
       "      <td>NaN</td>\n",
       "    </tr>\n",
       "  </tbody>\n",
       "</table>\n",
       "</div>"
      ],
      "text/plain": [
       "            A         B         C         D         E   0\n",
       "110  0.003307  0.721463  0.504813  0.505356  0.163121 NaN\n",
       "141  0.001323  0.801954  0.571312  0.086236  0.516686 NaN\n",
       "208  0.004102  0.996150  0.100212  0.546630  0.640417 NaN"
      ]
     },
     "execution_count": 54,
     "metadata": {},
     "output_type": "execute_result"
    }
   ],
   "source": [
    "newdf.loc[(newdf['A']<0.01)]   # A column's element < 0.01"
   ]
  },
  {
   "cell_type": "code",
   "execution_count": 55,
   "id": "472c7238-4209-46dd-bc49-1728b87ab253",
   "metadata": {},
   "outputs": [
    {
     "data": {
      "text/html": [
       "<div>\n",
       "<style scoped>\n",
       "    .dataframe tbody tr th:only-of-type {\n",
       "        vertical-align: middle;\n",
       "    }\n",
       "\n",
       "    .dataframe tbody tr th {\n",
       "        vertical-align: top;\n",
       "    }\n",
       "\n",
       "    .dataframe thead th {\n",
       "        text-align: right;\n",
       "    }\n",
       "</style>\n",
       "<table border=\"1\" class=\"dataframe\">\n",
       "  <thead>\n",
       "    <tr style=\"text-align: right;\">\n",
       "      <th></th>\n",
       "      <th>A</th>\n",
       "      <th>B</th>\n",
       "      <th>C</th>\n",
       "      <th>D</th>\n",
       "      <th>E</th>\n",
       "      <th>0</th>\n",
       "    </tr>\n",
       "  </thead>\n",
       "  <tbody>\n",
       "    <tr>\n",
       "      <th>110</th>\n",
       "      <td>0.003307</td>\n",
       "      <td>0.721463</td>\n",
       "      <td>0.504813</td>\n",
       "      <td>0.505356</td>\n",
       "      <td>0.163121</td>\n",
       "      <td>NaN</td>\n",
       "    </tr>\n",
       "    <tr>\n",
       "      <th>141</th>\n",
       "      <td>0.001323</td>\n",
       "      <td>0.801954</td>\n",
       "      <td>0.571312</td>\n",
       "      <td>0.086236</td>\n",
       "      <td>0.516686</td>\n",
       "      <td>NaN</td>\n",
       "    </tr>\n",
       "  </tbody>\n",
       "</table>\n",
       "</div>"
      ],
      "text/plain": [
       "            A         B         C         D         E   0\n",
       "110  0.003307  0.721463  0.504813  0.505356  0.163121 NaN\n",
       "141  0.001323  0.801954  0.571312  0.086236  0.516686 NaN"
      ]
     },
     "execution_count": 55,
     "metadata": {},
     "output_type": "execute_result"
    }
   ],
   "source": [
    "newdf.loc[(newdf['A']<0.01) & (newdf['C']>0.5)]"
   ]
  },
  {
   "cell_type": "code",
   "execution_count": 57,
   "id": "09b0512c-4370-4a21-8df4-fc3d069924a3",
   "metadata": {},
   "outputs": [
    {
     "data": {
      "text/html": [
       "<div>\n",
       "<style scoped>\n",
       "    .dataframe tbody tr th:only-of-type {\n",
       "        vertical-align: middle;\n",
       "    }\n",
       "\n",
       "    .dataframe tbody tr th {\n",
       "        vertical-align: top;\n",
       "    }\n",
       "\n",
       "    .dataframe thead th {\n",
       "        text-align: right;\n",
       "    }\n",
       "</style>\n",
       "<table border=\"1\" class=\"dataframe\">\n",
       "  <thead>\n",
       "    <tr style=\"text-align: right;\">\n",
       "      <th></th>\n",
       "      <th>A</th>\n",
       "      <th>B</th>\n",
       "      <th>C</th>\n",
       "      <th>D</th>\n",
       "      <th>E</th>\n",
       "      <th>0</th>\n",
       "    </tr>\n",
       "  </thead>\n",
       "  <tbody>\n",
       "    <tr>\n",
       "      <th>0</th>\n",
       "      <td>1000</td>\n",
       "      <td>0.963852</td>\n",
       "      <td>0.537418</td>\n",
       "      <td>0.572186</td>\n",
       "      <td>0.042026</td>\n",
       "      <td>1000.0</td>\n",
       "    </tr>\n",
       "    <tr>\n",
       "      <th>1</th>\n",
       "      <td>0.330646</td>\n",
       "      <td>0.540555</td>\n",
       "      <td>0.737831</td>\n",
       "      <td>0.541328</td>\n",
       "      <td>0.469906</td>\n",
       "      <td>NaN</td>\n",
       "    </tr>\n",
       "  </tbody>\n",
       "</table>\n",
       "</div>"
      ],
      "text/plain": [
       "          A         B         C         D         E       0\n",
       "0      1000  0.963852  0.537418  0.572186  0.042026  1000.0\n",
       "1  0.330646  0.540555  0.737831  0.541328  0.469906     NaN"
      ]
     },
     "execution_count": 57,
     "metadata": {},
     "output_type": "execute_result"
    }
   ],
   "source": [
    "newdf.head(2)"
   ]
  },
  {
   "cell_type": "code",
   "execution_count": 59,
   "id": "31f7629a-6972-4c2b-b7a0-c611339e574b",
   "metadata": {},
   "outputs": [
    {
     "data": {
      "text/plain": [
       "0.04202600127859735"
      ]
     },
     "execution_count": 59,
     "metadata": {},
     "output_type": "execute_result"
    }
   ],
   "source": [
    "newdf.iloc[0,4]   # iloc works with index number and loc works with exact name of index\n"
   ]
  },
  {
   "cell_type": "code",
   "execution_count": 60,
   "id": "24b18708-4f73-419c-8c1c-b09fd6a39592",
   "metadata": {},
   "outputs": [
    {
     "data": {
      "text/html": [
       "<div>\n",
       "<style scoped>\n",
       "    .dataframe tbody tr th:only-of-type {\n",
       "        vertical-align: middle;\n",
       "    }\n",
       "\n",
       "    .dataframe tbody tr th {\n",
       "        vertical-align: top;\n",
       "    }\n",
       "\n",
       "    .dataframe thead th {\n",
       "        text-align: right;\n",
       "    }\n",
       "</style>\n",
       "<table border=\"1\" class=\"dataframe\">\n",
       "  <thead>\n",
       "    <tr style=\"text-align: right;\">\n",
       "      <th></th>\n",
       "      <th>A</th>\n",
       "      <th>B</th>\n",
       "    </tr>\n",
       "  </thead>\n",
       "  <tbody>\n",
       "    <tr>\n",
       "      <th>0</th>\n",
       "      <td>1000</td>\n",
       "      <td>0.963852</td>\n",
       "    </tr>\n",
       "    <tr>\n",
       "      <th>3</th>\n",
       "      <td>0.969247</td>\n",
       "      <td>0.481050</td>\n",
       "    </tr>\n",
       "  </tbody>\n",
       "</table>\n",
       "</div>"
      ],
      "text/plain": [
       "          A         B\n",
       "0      1000  0.963852\n",
       "3  0.969247  0.481050"
      ]
     },
     "execution_count": 60,
     "metadata": {},
     "output_type": "execute_result"
    }
   ],
   "source": [
    "newdf.iloc[[0,3],[0,1]]"
   ]
  },
  {
   "cell_type": "code",
   "execution_count": 62,
   "id": "a5f5223a-1a4c-4182-b9fd-d5fd5a2200d2",
   "metadata": {},
   "outputs": [],
   "source": [
    "newdf = newdf.drop(0, axis=1)"
   ]
  },
  {
   "cell_type": "code",
   "execution_count": 63,
   "id": "09e10cb8-0764-4989-a0d7-b56b576885d7",
   "metadata": {},
   "outputs": [
    {
     "data": {
      "text/html": [
       "<div>\n",
       "<style scoped>\n",
       "    .dataframe tbody tr th:only-of-type {\n",
       "        vertical-align: middle;\n",
       "    }\n",
       "\n",
       "    .dataframe tbody tr th {\n",
       "        vertical-align: top;\n",
       "    }\n",
       "\n",
       "    .dataframe thead th {\n",
       "        text-align: right;\n",
       "    }\n",
       "</style>\n",
       "<table border=\"1\" class=\"dataframe\">\n",
       "  <thead>\n",
       "    <tr style=\"text-align: right;\">\n",
       "      <th></th>\n",
       "      <th>A</th>\n",
       "      <th>B</th>\n",
       "      <th>C</th>\n",
       "      <th>D</th>\n",
       "      <th>E</th>\n",
       "    </tr>\n",
       "  </thead>\n",
       "  <tbody>\n",
       "    <tr>\n",
       "      <th>0</th>\n",
       "      <td>1000</td>\n",
       "      <td>0.963852</td>\n",
       "      <td>0.537418</td>\n",
       "      <td>0.572186</td>\n",
       "      <td>0.042026</td>\n",
       "    </tr>\n",
       "    <tr>\n",
       "      <th>1</th>\n",
       "      <td>0.330646</td>\n",
       "      <td>0.540555</td>\n",
       "      <td>0.737831</td>\n",
       "      <td>0.541328</td>\n",
       "      <td>0.469906</td>\n",
       "    </tr>\n",
       "    <tr>\n",
       "      <th>2</th>\n",
       "      <td>0.497565</td>\n",
       "      <td>0.741719</td>\n",
       "      <td>0.242204</td>\n",
       "      <td>0.019440</td>\n",
       "      <td>0.969605</td>\n",
       "    </tr>\n",
       "    <tr>\n",
       "      <th>3</th>\n",
       "      <td>0.969247</td>\n",
       "      <td>0.481050</td>\n",
       "      <td>0.413165</td>\n",
       "      <td>0.272260</td>\n",
       "      <td>0.950864</td>\n",
       "    </tr>\n",
       "    <tr>\n",
       "      <th>4</th>\n",
       "      <td>0.240078</td>\n",
       "      <td>0.062816</td>\n",
       "      <td>0.720590</td>\n",
       "      <td>0.204707</td>\n",
       "      <td>0.835847</td>\n",
       "    </tr>\n",
       "  </tbody>\n",
       "</table>\n",
       "</div>"
      ],
      "text/plain": [
       "          A         B         C         D         E\n",
       "0      1000  0.963852  0.537418  0.572186  0.042026\n",
       "1  0.330646  0.540555  0.737831  0.541328  0.469906\n",
       "2  0.497565  0.741719  0.242204  0.019440  0.969605\n",
       "3  0.969247  0.481050  0.413165  0.272260  0.950864\n",
       "4  0.240078  0.062816  0.720590  0.204707  0.835847"
      ]
     },
     "execution_count": 63,
     "metadata": {},
     "output_type": "execute_result"
    }
   ],
   "source": [
    "newdf.head(5)"
   ]
  },
  {
   "cell_type": "code",
   "execution_count": 64,
   "id": "083f9245-10d7-48b4-9e51-03251f9dbbda",
   "metadata": {},
   "outputs": [
    {
     "data": {
      "text/html": [
       "<div>\n",
       "<style scoped>\n",
       "    .dataframe tbody tr th:only-of-type {\n",
       "        vertical-align: middle;\n",
       "    }\n",
       "\n",
       "    .dataframe tbody tr th {\n",
       "        vertical-align: top;\n",
       "    }\n",
       "\n",
       "    .dataframe thead th {\n",
       "        text-align: right;\n",
       "    }\n",
       "</style>\n",
       "<table border=\"1\" class=\"dataframe\">\n",
       "  <thead>\n",
       "    <tr style=\"text-align: right;\">\n",
       "      <th></th>\n",
       "      <th>index</th>\n",
       "      <th>A</th>\n",
       "      <th>B</th>\n",
       "      <th>C</th>\n",
       "      <th>D</th>\n",
       "      <th>E</th>\n",
       "    </tr>\n",
       "  </thead>\n",
       "  <tbody>\n",
       "    <tr>\n",
       "      <th>0</th>\n",
       "      <td>0</td>\n",
       "      <td>1000</td>\n",
       "      <td>0.963852</td>\n",
       "      <td>0.537418</td>\n",
       "      <td>0.572186</td>\n",
       "      <td>0.042026</td>\n",
       "    </tr>\n",
       "    <tr>\n",
       "      <th>1</th>\n",
       "      <td>1</td>\n",
       "      <td>0.330646</td>\n",
       "      <td>0.540555</td>\n",
       "      <td>0.737831</td>\n",
       "      <td>0.541328</td>\n",
       "      <td>0.469906</td>\n",
       "    </tr>\n",
       "    <tr>\n",
       "      <th>2</th>\n",
       "      <td>2</td>\n",
       "      <td>0.497565</td>\n",
       "      <td>0.741719</td>\n",
       "      <td>0.242204</td>\n",
       "      <td>0.019440</td>\n",
       "      <td>0.969605</td>\n",
       "    </tr>\n",
       "    <tr>\n",
       "      <th>3</th>\n",
       "      <td>3</td>\n",
       "      <td>0.969247</td>\n",
       "      <td>0.481050</td>\n",
       "      <td>0.413165</td>\n",
       "      <td>0.272260</td>\n",
       "      <td>0.950864</td>\n",
       "    </tr>\n",
       "    <tr>\n",
       "      <th>4</th>\n",
       "      <td>4</td>\n",
       "      <td>0.240078</td>\n",
       "      <td>0.062816</td>\n",
       "      <td>0.720590</td>\n",
       "      <td>0.204707</td>\n",
       "      <td>0.835847</td>\n",
       "    </tr>\n",
       "    <tr>\n",
       "      <th>...</th>\n",
       "      <td>...</td>\n",
       "      <td>...</td>\n",
       "      <td>...</td>\n",
       "      <td>...</td>\n",
       "      <td>...</td>\n",
       "      <td>...</td>\n",
       "    </tr>\n",
       "    <tr>\n",
       "      <th>329</th>\n",
       "      <td>329</td>\n",
       "      <td>0.715793</td>\n",
       "      <td>0.668157</td>\n",
       "      <td>0.294528</td>\n",
       "      <td>0.190635</td>\n",
       "      <td>0.269703</td>\n",
       "    </tr>\n",
       "    <tr>\n",
       "      <th>330</th>\n",
       "      <td>330</td>\n",
       "      <td>0.586532</td>\n",
       "      <td>0.623190</td>\n",
       "      <td>0.696945</td>\n",
       "      <td>0.698055</td>\n",
       "      <td>0.050568</td>\n",
       "    </tr>\n",
       "    <tr>\n",
       "      <th>331</th>\n",
       "      <td>331</td>\n",
       "      <td>0.618469</td>\n",
       "      <td>0.147627</td>\n",
       "      <td>0.162156</td>\n",
       "      <td>0.932932</td>\n",
       "      <td>0.700429</td>\n",
       "    </tr>\n",
       "    <tr>\n",
       "      <th>332</th>\n",
       "      <td>332</td>\n",
       "      <td>0.814782</td>\n",
       "      <td>0.808982</td>\n",
       "      <td>0.443473</td>\n",
       "      <td>0.086186</td>\n",
       "      <td>0.062628</td>\n",
       "    </tr>\n",
       "    <tr>\n",
       "      <th>333</th>\n",
       "      <td>333</td>\n",
       "      <td>0.535169</td>\n",
       "      <td>0.700206</td>\n",
       "      <td>0.464598</td>\n",
       "      <td>0.104338</td>\n",
       "      <td>0.457526</td>\n",
       "    </tr>\n",
       "  </tbody>\n",
       "</table>\n",
       "<p>334 rows × 6 columns</p>\n",
       "</div>"
      ],
      "text/plain": [
       "     index         A         B         C         D         E\n",
       "0        0      1000  0.963852  0.537418  0.572186  0.042026\n",
       "1        1  0.330646  0.540555  0.737831  0.541328  0.469906\n",
       "2        2  0.497565  0.741719  0.242204  0.019440  0.969605\n",
       "3        3  0.969247  0.481050  0.413165  0.272260  0.950864\n",
       "4        4  0.240078  0.062816  0.720590  0.204707  0.835847\n",
       "..     ...       ...       ...       ...       ...       ...\n",
       "329    329  0.715793  0.668157  0.294528  0.190635  0.269703\n",
       "330    330  0.586532  0.623190  0.696945  0.698055  0.050568\n",
       "331    331  0.618469  0.147627  0.162156  0.932932  0.700429\n",
       "332    332  0.814782  0.808982  0.443473  0.086186  0.062628\n",
       "333    333  0.535169  0.700206  0.464598  0.104338  0.457526\n",
       "\n",
       "[334 rows x 6 columns]"
      ]
     },
     "execution_count": 64,
     "metadata": {},
     "output_type": "execute_result"
    }
   ],
   "source": [
    "newdf.reset_index()  # reset index"
   ]
  },
  {
   "cell_type": "code",
   "execution_count": 65,
   "id": "f8eeba51-d822-407e-9b8b-84ea4b142faf",
   "metadata": {},
   "outputs": [],
   "source": [
    "newdf.reset_index(drop=True, inplace = True) # without index column, index column drop and inplace= original data change"
   ]
  },
  {
   "cell_type": "code",
   "execution_count": 66,
   "id": "7e768fc3-630d-445b-85a2-713adc33dda7",
   "metadata": {},
   "outputs": [
    {
     "data": {
      "text/html": [
       "<div>\n",
       "<style scoped>\n",
       "    .dataframe tbody tr th:only-of-type {\n",
       "        vertical-align: middle;\n",
       "    }\n",
       "\n",
       "    .dataframe tbody tr th {\n",
       "        vertical-align: top;\n",
       "    }\n",
       "\n",
       "    .dataframe thead th {\n",
       "        text-align: right;\n",
       "    }\n",
       "</style>\n",
       "<table border=\"1\" class=\"dataframe\">\n",
       "  <thead>\n",
       "    <tr style=\"text-align: right;\">\n",
       "      <th></th>\n",
       "      <th>A</th>\n",
       "      <th>B</th>\n",
       "      <th>C</th>\n",
       "      <th>D</th>\n",
       "      <th>E</th>\n",
       "    </tr>\n",
       "  </thead>\n",
       "  <tbody>\n",
       "    <tr>\n",
       "      <th>0</th>\n",
       "      <td>1000</td>\n",
       "      <td>0.963852</td>\n",
       "      <td>0.537418</td>\n",
       "      <td>0.572186</td>\n",
       "      <td>0.042026</td>\n",
       "    </tr>\n",
       "    <tr>\n",
       "      <th>1</th>\n",
       "      <td>0.330646</td>\n",
       "      <td>0.540555</td>\n",
       "      <td>0.737831</td>\n",
       "      <td>0.541328</td>\n",
       "      <td>0.469906</td>\n",
       "    </tr>\n",
       "    <tr>\n",
       "      <th>2</th>\n",
       "      <td>0.497565</td>\n",
       "      <td>0.741719</td>\n",
       "      <td>0.242204</td>\n",
       "      <td>0.019440</td>\n",
       "      <td>0.969605</td>\n",
       "    </tr>\n",
       "    <tr>\n",
       "      <th>3</th>\n",
       "      <td>0.969247</td>\n",
       "      <td>0.481050</td>\n",
       "      <td>0.413165</td>\n",
       "      <td>0.272260</td>\n",
       "      <td>0.950864</td>\n",
       "    </tr>\n",
       "    <tr>\n",
       "      <th>4</th>\n",
       "      <td>0.240078</td>\n",
       "      <td>0.062816</td>\n",
       "      <td>0.720590</td>\n",
       "      <td>0.204707</td>\n",
       "      <td>0.835847</td>\n",
       "    </tr>\n",
       "    <tr>\n",
       "      <th>...</th>\n",
       "      <td>...</td>\n",
       "      <td>...</td>\n",
       "      <td>...</td>\n",
       "      <td>...</td>\n",
       "      <td>...</td>\n",
       "    </tr>\n",
       "    <tr>\n",
       "      <th>329</th>\n",
       "      <td>0.715793</td>\n",
       "      <td>0.668157</td>\n",
       "      <td>0.294528</td>\n",
       "      <td>0.190635</td>\n",
       "      <td>0.269703</td>\n",
       "    </tr>\n",
       "    <tr>\n",
       "      <th>330</th>\n",
       "      <td>0.586532</td>\n",
       "      <td>0.623190</td>\n",
       "      <td>0.696945</td>\n",
       "      <td>0.698055</td>\n",
       "      <td>0.050568</td>\n",
       "    </tr>\n",
       "    <tr>\n",
       "      <th>331</th>\n",
       "      <td>0.618469</td>\n",
       "      <td>0.147627</td>\n",
       "      <td>0.162156</td>\n",
       "      <td>0.932932</td>\n",
       "      <td>0.700429</td>\n",
       "    </tr>\n",
       "    <tr>\n",
       "      <th>332</th>\n",
       "      <td>0.814782</td>\n",
       "      <td>0.808982</td>\n",
       "      <td>0.443473</td>\n",
       "      <td>0.086186</td>\n",
       "      <td>0.062628</td>\n",
       "    </tr>\n",
       "    <tr>\n",
       "      <th>333</th>\n",
       "      <td>0.535169</td>\n",
       "      <td>0.700206</td>\n",
       "      <td>0.464598</td>\n",
       "      <td>0.104338</td>\n",
       "      <td>0.457526</td>\n",
       "    </tr>\n",
       "  </tbody>\n",
       "</table>\n",
       "<p>334 rows × 5 columns</p>\n",
       "</div>"
      ],
      "text/plain": [
       "            A         B         C         D         E\n",
       "0        1000  0.963852  0.537418  0.572186  0.042026\n",
       "1    0.330646  0.540555  0.737831  0.541328  0.469906\n",
       "2    0.497565  0.741719  0.242204  0.019440  0.969605\n",
       "3    0.969247  0.481050  0.413165  0.272260  0.950864\n",
       "4    0.240078  0.062816  0.720590  0.204707  0.835847\n",
       "..        ...       ...       ...       ...       ...\n",
       "329  0.715793  0.668157  0.294528  0.190635  0.269703\n",
       "330  0.586532  0.623190  0.696945  0.698055  0.050568\n",
       "331  0.618469  0.147627  0.162156  0.932932  0.700429\n",
       "332  0.814782  0.808982  0.443473  0.086186  0.062628\n",
       "333  0.535169  0.700206  0.464598  0.104338  0.457526\n",
       "\n",
       "[334 rows x 5 columns]"
      ]
     },
     "execution_count": 66,
     "metadata": {},
     "output_type": "execute_result"
    }
   ],
   "source": [
    "newdf"
   ]
  },
  {
   "cell_type": "code",
   "execution_count": 68,
   "id": "8c870c5d-23f0-458f-a074-1f4d20762b11",
   "metadata": {},
   "outputs": [
    {
     "data": {
      "text/plain": [
       "0      False\n",
       "1      False\n",
       "2      False\n",
       "3      False\n",
       "4      False\n",
       "       ...  \n",
       "329    False\n",
       "330    False\n",
       "331    False\n",
       "332    False\n",
       "333    False\n",
       "Name: B, Length: 334, dtype: bool"
      ]
     },
     "execution_count": 68,
     "metadata": {},
     "output_type": "execute_result"
    }
   ],
   "source": [
    "newdf['B'].isnull()  # check null"
   ]
  },
  {
   "cell_type": "code",
   "execution_count": 69,
   "id": "81600f8d-3ed0-4c36-a380-a438bf2d4dcf",
   "metadata": {},
   "outputs": [],
   "source": [
    "df = pd.DataFrame({\"name\": ['Alfred', 'Batman', 'Catwoman'],\n",
    "                   \"toy\": [np.nan, 'Batmobile', 'Bullwhip'],\n",
    "                   \"born\": [pd.NaT, pd.Timestamp(\"1940-04-25\"),\n",
    "                            pd.NaT]})"
   ]
  },
  {
   "cell_type": "code",
   "execution_count": 70,
   "id": "d7e84b83-ce61-464b-af9e-1cdda8e1f3d6",
   "metadata": {},
   "outputs": [
    {
     "data": {
      "text/html": [
       "<div>\n",
       "<style scoped>\n",
       "    .dataframe tbody tr th:only-of-type {\n",
       "        vertical-align: middle;\n",
       "    }\n",
       "\n",
       "    .dataframe tbody tr th {\n",
       "        vertical-align: top;\n",
       "    }\n",
       "\n",
       "    .dataframe thead th {\n",
       "        text-align: right;\n",
       "    }\n",
       "</style>\n",
       "<table border=\"1\" class=\"dataframe\">\n",
       "  <thead>\n",
       "    <tr style=\"text-align: right;\">\n",
       "      <th></th>\n",
       "      <th>name</th>\n",
       "      <th>toy</th>\n",
       "      <th>born</th>\n",
       "    </tr>\n",
       "  </thead>\n",
       "  <tbody>\n",
       "    <tr>\n",
       "      <th>0</th>\n",
       "      <td>Alfred</td>\n",
       "      <td>NaN</td>\n",
       "      <td>NaT</td>\n",
       "    </tr>\n",
       "    <tr>\n",
       "      <th>1</th>\n",
       "      <td>Batman</td>\n",
       "      <td>Batmobile</td>\n",
       "      <td>1940-04-25</td>\n",
       "    </tr>\n",
       "    <tr>\n",
       "      <th>2</th>\n",
       "      <td>Catwoman</td>\n",
       "      <td>Bullwhip</td>\n",
       "      <td>NaT</td>\n",
       "    </tr>\n",
       "  </tbody>\n",
       "</table>\n",
       "</div>"
      ],
      "text/plain": [
       "       name        toy       born\n",
       "0    Alfred        NaN        NaT\n",
       "1    Batman  Batmobile 1940-04-25\n",
       "2  Catwoman   Bullwhip        NaT"
      ]
     },
     "execution_count": 70,
     "metadata": {},
     "output_type": "execute_result"
    }
   ],
   "source": [
    "df.head()"
   ]
  },
  {
   "cell_type": "code",
   "execution_count": 72,
   "id": "cd2116fd-081d-4f26-b5f8-f2d367e8236c",
   "metadata": {},
   "outputs": [
    {
     "data": {
      "text/html": [
       "<div>\n",
       "<style scoped>\n",
       "    .dataframe tbody tr th:only-of-type {\n",
       "        vertical-align: middle;\n",
       "    }\n",
       "\n",
       "    .dataframe tbody tr th {\n",
       "        vertical-align: top;\n",
       "    }\n",
       "\n",
       "    .dataframe thead th {\n",
       "        text-align: right;\n",
       "    }\n",
       "</style>\n",
       "<table border=\"1\" class=\"dataframe\">\n",
       "  <thead>\n",
       "    <tr style=\"text-align: right;\">\n",
       "      <th></th>\n",
       "      <th>name</th>\n",
       "      <th>toy</th>\n",
       "      <th>born</th>\n",
       "    </tr>\n",
       "  </thead>\n",
       "  <tbody>\n",
       "    <tr>\n",
       "      <th>1</th>\n",
       "      <td>Batman</td>\n",
       "      <td>Batmobile</td>\n",
       "      <td>1940-04-25</td>\n",
       "    </tr>\n",
       "  </tbody>\n",
       "</table>\n",
       "</div>"
      ],
      "text/plain": [
       "     name        toy       born\n",
       "1  Batman  Batmobile 1940-04-25"
      ]
     },
     "execution_count": 72,
     "metadata": {},
     "output_type": "execute_result"
    }
   ],
   "source": [
    "df.dropna()  # will drop where exists na"
   ]
  },
  {
   "cell_type": "code",
   "execution_count": 73,
   "id": "f85493af-0f84-44f1-8cbf-25cef6afd50f",
   "metadata": {},
   "outputs": [
    {
     "data": {
      "text/html": [
       "<div>\n",
       "<style scoped>\n",
       "    .dataframe tbody tr th:only-of-type {\n",
       "        vertical-align: middle;\n",
       "    }\n",
       "\n",
       "    .dataframe tbody tr th {\n",
       "        vertical-align: top;\n",
       "    }\n",
       "\n",
       "    .dataframe thead th {\n",
       "        text-align: right;\n",
       "    }\n",
       "</style>\n",
       "<table border=\"1\" class=\"dataframe\">\n",
       "  <thead>\n",
       "    <tr style=\"text-align: right;\">\n",
       "      <th></th>\n",
       "      <th>name</th>\n",
       "      <th>toy</th>\n",
       "      <th>born</th>\n",
       "    </tr>\n",
       "  </thead>\n",
       "  <tbody>\n",
       "    <tr>\n",
       "      <th>0</th>\n",
       "      <td>Alfred</td>\n",
       "      <td>NaN</td>\n",
       "      <td>NaT</td>\n",
       "    </tr>\n",
       "    <tr>\n",
       "      <th>1</th>\n",
       "      <td>Batman</td>\n",
       "      <td>Batmobile</td>\n",
       "      <td>1940-04-25</td>\n",
       "    </tr>\n",
       "    <tr>\n",
       "      <th>2</th>\n",
       "      <td>Catwoman</td>\n",
       "      <td>Bullwhip</td>\n",
       "      <td>NaT</td>\n",
       "    </tr>\n",
       "  </tbody>\n",
       "</table>\n",
       "</div>"
      ],
      "text/plain": [
       "       name        toy       born\n",
       "0    Alfred        NaN        NaT\n",
       "1    Batman  Batmobile 1940-04-25\n",
       "2  Catwoman   Bullwhip        NaT"
      ]
     },
     "execution_count": 73,
     "metadata": {},
     "output_type": "execute_result"
    }
   ],
   "source": [
    "df"
   ]
  },
  {
   "cell_type": "code",
   "execution_count": 75,
   "id": "b706325c-4bf1-4c70-aa23-aedbe1b33631",
   "metadata": {},
   "outputs": [
    {
     "data": {
      "text/html": [
       "<div>\n",
       "<style scoped>\n",
       "    .dataframe tbody tr th:only-of-type {\n",
       "        vertical-align: middle;\n",
       "    }\n",
       "\n",
       "    .dataframe tbody tr th {\n",
       "        vertical-align: top;\n",
       "    }\n",
       "\n",
       "    .dataframe thead th {\n",
       "        text-align: right;\n",
       "    }\n",
       "</style>\n",
       "<table border=\"1\" class=\"dataframe\">\n",
       "  <thead>\n",
       "    <tr style=\"text-align: right;\">\n",
       "      <th></th>\n",
       "      <th>name</th>\n",
       "      <th>toy</th>\n",
       "      <th>born</th>\n",
       "    </tr>\n",
       "  </thead>\n",
       "  <tbody>\n",
       "    <tr>\n",
       "      <th>0</th>\n",
       "      <td>Alfred</td>\n",
       "      <td>NaN</td>\n",
       "      <td>NaT</td>\n",
       "    </tr>\n",
       "    <tr>\n",
       "      <th>1</th>\n",
       "      <td>Batman</td>\n",
       "      <td>Batmobile</td>\n",
       "      <td>1940-04-25</td>\n",
       "    </tr>\n",
       "  </tbody>\n",
       "</table>\n",
       "</div>"
      ],
      "text/plain": [
       "     name        toy       born\n",
       "0  Alfred        NaN        NaT\n",
       "1  Batman  Batmobile 1940-04-25"
      ]
     },
     "execution_count": 75,
     "metadata": {},
     "output_type": "execute_result"
    }
   ],
   "source": [
    "df.drop_duplicates(subset=['born'])   # remove duplicates"
   ]
  },
  {
   "cell_type": "code",
   "execution_count": 77,
   "id": "77d4ae2d-3db9-4f12-8b27-6f84877e3133",
   "metadata": {},
   "outputs": [
    {
     "data": {
      "text/html": [
       "<div>\n",
       "<style scoped>\n",
       "    .dataframe tbody tr th:only-of-type {\n",
       "        vertical-align: middle;\n",
       "    }\n",
       "\n",
       "    .dataframe tbody tr th {\n",
       "        vertical-align: top;\n",
       "    }\n",
       "\n",
       "    .dataframe thead th {\n",
       "        text-align: right;\n",
       "    }\n",
       "</style>\n",
       "<table border=\"1\" class=\"dataframe\">\n",
       "  <thead>\n",
       "    <tr style=\"text-align: right;\">\n",
       "      <th></th>\n",
       "      <th>name</th>\n",
       "      <th>toy</th>\n",
       "      <th>born</th>\n",
       "    </tr>\n",
       "  </thead>\n",
       "  <tbody>\n",
       "    <tr>\n",
       "      <th>1</th>\n",
       "      <td>Batman</td>\n",
       "      <td>Batmobile</td>\n",
       "      <td>1940-04-25</td>\n",
       "    </tr>\n",
       "    <tr>\n",
       "      <th>2</th>\n",
       "      <td>Catwoman</td>\n",
       "      <td>Bullwhip</td>\n",
       "      <td>NaT</td>\n",
       "    </tr>\n",
       "  </tbody>\n",
       "</table>\n",
       "</div>"
      ],
      "text/plain": [
       "       name        toy       born\n",
       "1    Batman  Batmobile 1940-04-25\n",
       "2  Catwoman   Bullwhip        NaT"
      ]
     },
     "execution_count": 77,
     "metadata": {},
     "output_type": "execute_result"
    }
   ],
   "source": [
    "df.drop_duplicates(subset=['born'], keep='last')  # keep the last and drop the first "
   ]
  },
  {
   "cell_type": "code",
   "execution_count": 78,
   "id": "c7ef513b-3da6-4627-bc53-1a48ac715887",
   "metadata": {},
   "outputs": [
    {
     "name": "stdout",
     "output_type": "stream",
     "text": [
      "<class 'pandas.core.frame.DataFrame'>\n",
      "RangeIndex: 3 entries, 0 to 2\n",
      "Data columns (total 3 columns):\n",
      " #   Column  Non-Null Count  Dtype         \n",
      "---  ------  --------------  -----         \n",
      " 0   name    3 non-null      object        \n",
      " 1   toy     2 non-null      object        \n",
      " 2   born    1 non-null      datetime64[ns]\n",
      "dtypes: datetime64[ns](1), object(2)\n",
      "memory usage: 204.0+ bytes\n"
     ]
    }
   ],
   "source": [
    "df.info()"
   ]
  },
  {
   "cell_type": "code",
   "execution_count": 80,
   "id": "776878cf-586f-4adc-b563-a207d0e1e2cf",
   "metadata": {},
   "outputs": [
    {
     "data": {
      "text/plain": [
       "born\n",
       "1940-04-25    1\n",
       "Name: count, dtype: int64"
      ]
     },
     "execution_count": 80,
     "metadata": {},
     "output_type": "execute_result"
    }
   ],
   "source": [
    "df['born'].value_counts()  # count value"
   ]
  },
  {
   "cell_type": "code",
   "execution_count": 83,
   "id": "263b9b3e-e898-44ee-ad0c-b0b8ea1724ce",
   "metadata": {},
   "outputs": [
    {
     "data": {
      "text/plain": [
       "born\n",
       "NaT           2\n",
       "1940-04-25    1\n",
       "Name: count, dtype: int64"
      ]
     },
     "execution_count": 83,
     "metadata": {},
     "output_type": "execute_result"
    }
   ],
   "source": [
    "df['born'].value_counts(dropna=False)  # count value with NaN"
   ]
  },
  {
   "cell_type": "code",
   "execution_count": 84,
   "id": "b5a8e04c-6bd5-4f31-ae36-ead9530b974f",
   "metadata": {},
   "outputs": [
    {
     "data": {
      "text/html": [
       "<div>\n",
       "<style scoped>\n",
       "    .dataframe tbody tr th:only-of-type {\n",
       "        vertical-align: middle;\n",
       "    }\n",
       "\n",
       "    .dataframe tbody tr th {\n",
       "        vertical-align: top;\n",
       "    }\n",
       "\n",
       "    .dataframe thead th {\n",
       "        text-align: right;\n",
       "    }\n",
       "</style>\n",
       "<table border=\"1\" class=\"dataframe\">\n",
       "  <thead>\n",
       "    <tr style=\"text-align: right;\">\n",
       "      <th></th>\n",
       "      <th>name</th>\n",
       "      <th>toy</th>\n",
       "      <th>born</th>\n",
       "    </tr>\n",
       "  </thead>\n",
       "  <tbody>\n",
       "    <tr>\n",
       "      <th>0</th>\n",
       "      <td>False</td>\n",
       "      <td>True</td>\n",
       "      <td>True</td>\n",
       "    </tr>\n",
       "    <tr>\n",
       "      <th>1</th>\n",
       "      <td>False</td>\n",
       "      <td>False</td>\n",
       "      <td>False</td>\n",
       "    </tr>\n",
       "    <tr>\n",
       "      <th>2</th>\n",
       "      <td>False</td>\n",
       "      <td>False</td>\n",
       "      <td>True</td>\n",
       "    </tr>\n",
       "  </tbody>\n",
       "</table>\n",
       "</div>"
      ],
      "text/plain": [
       "    name    toy   born\n",
       "0  False   True   True\n",
       "1  False  False  False\n",
       "2  False  False   True"
      ]
     },
     "execution_count": 84,
     "metadata": {},
     "output_type": "execute_result"
    }
   ],
   "source": [
    "df.isnull()"
   ]
  },
  {
   "cell_type": "code",
   "execution_count": 86,
   "id": "c50664fb-c46b-4e6b-92b9-b41cf22553a1",
   "metadata": {},
   "outputs": [],
   "source": [
    "# statistic\n",
    "df = pd.DataFrame({\"marks1\": [34, 69, 99],\n",
    "                   \"marks2\": [47, 46, 89]})"
   ]
  },
  {
   "cell_type": "code",
   "execution_count": 87,
   "id": "4ca525ff-236b-459b-ad95-762900a32581",
   "metadata": {},
   "outputs": [
    {
     "data": {
      "text/html": [
       "<div>\n",
       "<style scoped>\n",
       "    .dataframe tbody tr th:only-of-type {\n",
       "        vertical-align: middle;\n",
       "    }\n",
       "\n",
       "    .dataframe tbody tr th {\n",
       "        vertical-align: top;\n",
       "    }\n",
       "\n",
       "    .dataframe thead th {\n",
       "        text-align: right;\n",
       "    }\n",
       "</style>\n",
       "<table border=\"1\" class=\"dataframe\">\n",
       "  <thead>\n",
       "    <tr style=\"text-align: right;\">\n",
       "      <th></th>\n",
       "      <th>marks1</th>\n",
       "      <th>marks2</th>\n",
       "    </tr>\n",
       "  </thead>\n",
       "  <tbody>\n",
       "    <tr>\n",
       "      <th>0</th>\n",
       "      <td>34</td>\n",
       "      <td>47</td>\n",
       "    </tr>\n",
       "    <tr>\n",
       "      <th>1</th>\n",
       "      <td>69</td>\n",
       "      <td>46</td>\n",
       "    </tr>\n",
       "    <tr>\n",
       "      <th>2</th>\n",
       "      <td>99</td>\n",
       "      <td>89</td>\n",
       "    </tr>\n",
       "  </tbody>\n",
       "</table>\n",
       "</div>"
      ],
      "text/plain": [
       "   marks1  marks2\n",
       "0      34      47\n",
       "1      69      46\n",
       "2      99      89"
      ]
     },
     "execution_count": 87,
     "metadata": {},
     "output_type": "execute_result"
    }
   ],
   "source": [
    "df"
   ]
  },
  {
   "cell_type": "code",
   "execution_count": 88,
   "id": "fb95a598-6766-4522-87a5-52b535fcb22c",
   "metadata": {},
   "outputs": [
    {
     "data": {
      "text/html": [
       "<div>\n",
       "<style scoped>\n",
       "    .dataframe tbody tr th:only-of-type {\n",
       "        vertical-align: middle;\n",
       "    }\n",
       "\n",
       "    .dataframe tbody tr th {\n",
       "        vertical-align: top;\n",
       "    }\n",
       "\n",
       "    .dataframe thead th {\n",
       "        text-align: right;\n",
       "    }\n",
       "</style>\n",
       "<table border=\"1\" class=\"dataframe\">\n",
       "  <thead>\n",
       "    <tr style=\"text-align: right;\">\n",
       "      <th></th>\n",
       "      <th>marks1</th>\n",
       "      <th>marks2</th>\n",
       "    </tr>\n",
       "  </thead>\n",
       "  <tbody>\n",
       "    <tr>\n",
       "      <th>count</th>\n",
       "      <td>3.000000</td>\n",
       "      <td>3.000000</td>\n",
       "    </tr>\n",
       "    <tr>\n",
       "      <th>mean</th>\n",
       "      <td>67.333333</td>\n",
       "      <td>60.666667</td>\n",
       "    </tr>\n",
       "    <tr>\n",
       "      <th>std</th>\n",
       "      <td>32.532035</td>\n",
       "      <td>24.542480</td>\n",
       "    </tr>\n",
       "    <tr>\n",
       "      <th>min</th>\n",
       "      <td>34.000000</td>\n",
       "      <td>46.000000</td>\n",
       "    </tr>\n",
       "    <tr>\n",
       "      <th>25%</th>\n",
       "      <td>51.500000</td>\n",
       "      <td>46.500000</td>\n",
       "    </tr>\n",
       "    <tr>\n",
       "      <th>50%</th>\n",
       "      <td>69.000000</td>\n",
       "      <td>47.000000</td>\n",
       "    </tr>\n",
       "    <tr>\n",
       "      <th>75%</th>\n",
       "      <td>84.000000</td>\n",
       "      <td>68.000000</td>\n",
       "    </tr>\n",
       "    <tr>\n",
       "      <th>max</th>\n",
       "      <td>99.000000</td>\n",
       "      <td>89.000000</td>\n",
       "    </tr>\n",
       "  </tbody>\n",
       "</table>\n",
       "</div>"
      ],
      "text/plain": [
       "          marks1     marks2\n",
       "count   3.000000   3.000000\n",
       "mean   67.333333  60.666667\n",
       "std    32.532035  24.542480\n",
       "min    34.000000  46.000000\n",
       "25%    51.500000  46.500000\n",
       "50%    69.000000  47.000000\n",
       "75%    84.000000  68.000000\n",
       "max    99.000000  89.000000"
      ]
     },
     "execution_count": 88,
     "metadata": {},
     "output_type": "execute_result"
    }
   ],
   "source": [
    "df.describe()"
   ]
  },
  {
   "cell_type": "code",
   "execution_count": 89,
   "id": "510d949a-5c6c-43c2-a88e-1be5f98c5399",
   "metadata": {},
   "outputs": [
    {
     "data": {
      "text/plain": [
       "marks1    67.333333\n",
       "marks2    60.666667\n",
       "dtype: float64"
      ]
     },
     "execution_count": 89,
     "metadata": {},
     "output_type": "execute_result"
    }
   ],
   "source": [
    "df.mean()"
   ]
  },
  {
   "cell_type": "code",
   "execution_count": 91,
   "id": "5674b798-adfe-4789-bd04-c56ad00d3f53",
   "metadata": {},
   "outputs": [
    {
     "data": {
      "text/html": [
       "<div>\n",
       "<style scoped>\n",
       "    .dataframe tbody tr th:only-of-type {\n",
       "        vertical-align: middle;\n",
       "    }\n",
       "\n",
       "    .dataframe tbody tr th {\n",
       "        vertical-align: top;\n",
       "    }\n",
       "\n",
       "    .dataframe thead th {\n",
       "        text-align: right;\n",
       "    }\n",
       "</style>\n",
       "<table border=\"1\" class=\"dataframe\">\n",
       "  <thead>\n",
       "    <tr style=\"text-align: right;\">\n",
       "      <th></th>\n",
       "      <th>marks1</th>\n",
       "      <th>marks2</th>\n",
       "    </tr>\n",
       "  </thead>\n",
       "  <tbody>\n",
       "    <tr>\n",
       "      <th>marks1</th>\n",
       "      <td>1.000000</td>\n",
       "      <td>0.831855</td>\n",
       "    </tr>\n",
       "    <tr>\n",
       "      <th>marks2</th>\n",
       "      <td>0.831855</td>\n",
       "      <td>1.000000</td>\n",
       "    </tr>\n",
       "  </tbody>\n",
       "</table>\n",
       "</div>"
      ],
      "text/plain": [
       "          marks1    marks2\n",
       "marks1  1.000000  0.831855\n",
       "marks2  0.831855  1.000000"
      ]
     },
     "execution_count": 91,
     "metadata": {},
     "output_type": "execute_result"
    }
   ],
   "source": [
    "df.corr()  # correlation"
   ]
  },
  {
   "cell_type": "code",
   "execution_count": 92,
   "id": "b5aa0dde-ec1a-486e-bb80-1cbd78fa7d9d",
   "metadata": {},
   "outputs": [
    {
     "data": {
      "text/plain": [
       "marks1    3\n",
       "marks2    3\n",
       "dtype: int64"
      ]
     },
     "execution_count": 92,
     "metadata": {},
     "output_type": "execute_result"
    }
   ],
   "source": [
    "df.count()"
   ]
  },
  {
   "cell_type": "code",
   "execution_count": 93,
   "id": "83a8aa3b-b705-4e74-a47d-c5433a0bf18a",
   "metadata": {},
   "outputs": [
    {
     "data": {
      "text/plain": [
       "marks1    99\n",
       "marks2    89\n",
       "dtype: int64"
      ]
     },
     "execution_count": 93,
     "metadata": {},
     "output_type": "execute_result"
    }
   ],
   "source": [
    "df.max()"
   ]
  },
  {
   "cell_type": "code",
   "execution_count": 94,
   "id": "3a3157d0-7096-46f1-be74-582ff3202364",
   "metadata": {},
   "outputs": [
    {
     "data": {
      "text/plain": [
       "marks1    34\n",
       "marks2    46\n",
       "dtype: int64"
      ]
     },
     "execution_count": 94,
     "metadata": {},
     "output_type": "execute_result"
    }
   ],
   "source": [
    "df.min()"
   ]
  },
  {
   "cell_type": "code",
   "execution_count": 95,
   "id": "17a79783-59b7-47cf-b007-45cad25c0c44",
   "metadata": {},
   "outputs": [
    {
     "data": {
      "text/plain": [
       "marks1    69.0\n",
       "marks2    47.0\n",
       "dtype: float64"
      ]
     },
     "execution_count": 95,
     "metadata": {},
     "output_type": "execute_result"
    }
   ],
   "source": [
    "df.median()"
   ]
  },
  {
   "cell_type": "code",
   "execution_count": 96,
   "id": "eaf38941-8a68-4b3e-9b92-fdd46e752b09",
   "metadata": {},
   "outputs": [
    {
     "data": {
      "text/plain": [
       "marks1    32.532035\n",
       "marks2    24.542480\n",
       "dtype: float64"
      ]
     },
     "execution_count": 96,
     "metadata": {},
     "output_type": "execute_result"
    }
   ],
   "source": [
    "df.std()"
   ]
  },
  {
   "cell_type": "code",
   "execution_count": null,
   "id": "b48c2715-3cfa-4122-9a81-58a98e315887",
   "metadata": {},
   "outputs": [],
   "source": []
  }
 ],
 "metadata": {
  "kernelspec": {
   "display_name": "Python 3 (ipykernel)",
   "language": "python",
   "name": "python3"
  },
  "language_info": {
   "codemirror_mode": {
    "name": "ipython",
    "version": 3
   },
   "file_extension": ".py",
   "mimetype": "text/x-python",
   "name": "python",
   "nbconvert_exporter": "python",
   "pygments_lexer": "ipython3",
   "version": "3.11.7"
  }
 },
 "nbformat": 4,
 "nbformat_minor": 5
}
