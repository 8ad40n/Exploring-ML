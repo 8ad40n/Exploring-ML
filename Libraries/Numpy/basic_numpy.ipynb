{
 "cells": [
  {
   "cell_type": "markdown",
   "id": "9bf335f7-7a5e-4ac4-b48c-3967eb518760",
   "metadata": {},
   "source": [
    "# Numpy"
   ]
  },
  {
   "cell_type": "code",
   "execution_count": 114,
   "id": "281e0d5a-2659-42b8-a057-d3881c8806bb",
   "metadata": {},
   "outputs": [],
   "source": [
    "import numpy as np"
   ]
  },
  {
   "cell_type": "code",
   "execution_count": 115,
   "id": "f16a6ddb-f23b-49bf-8e78-37293add8d90",
   "metadata": {},
   "outputs": [],
   "source": [
    "myarr= np.array([1,2,3,4,5]) # creating numpy array"
   ]
  },
  {
   "cell_type": "code",
   "execution_count": 116,
   "id": "712a75a2-89e5-4195-9800-9344f6abcd4d",
   "metadata": {},
   "outputs": [
    {
     "data": {
      "text/plain": [
       "array([1, 2, 3, 4, 5])"
      ]
     },
     "execution_count": 116,
     "metadata": {},
     "output_type": "execute_result"
    }
   ],
   "source": [
    "myarr"
   ]
  },
  {
   "cell_type": "code",
   "execution_count": 117,
   "id": "0836fd05-d000-4dd2-bdce-e8ee94c4b0e6",
   "metadata": {},
   "outputs": [],
   "source": [
    "myarr= np.array([1,2,3,4,5], np.int32)  # memory management"
   ]
  },
  {
   "cell_type": "code",
   "execution_count": 118,
   "id": "1aefa2c2-abcf-4c95-8958-d50207947e46",
   "metadata": {},
   "outputs": [
    {
     "data": {
      "text/plain": [
       "array([1, 2, 3, 4, 5])"
      ]
     },
     "execution_count": 118,
     "metadata": {},
     "output_type": "execute_result"
    }
   ],
   "source": [
    "myarr"
   ]
  },
  {
   "cell_type": "code",
   "execution_count": 119,
   "id": "47e713a7-d693-47bb-8b02-a787f7336277",
   "metadata": {},
   "outputs": [
    {
     "data": {
      "text/plain": [
       "dtype('int32')"
      ]
     },
     "execution_count": 119,
     "metadata": {},
     "output_type": "execute_result"
    }
   ],
   "source": [
    "myarr.dtype"
   ]
  },
  {
   "cell_type": "code",
   "execution_count": 120,
   "id": "d14eb360-f0be-4943-9716-67d2fe6da9e1",
   "metadata": {},
   "outputs": [
    {
     "data": {
      "text/plain": [
       "(5,)"
      ]
     },
     "execution_count": 120,
     "metadata": {},
     "output_type": "execute_result"
    }
   ],
   "source": [
    "myarr.shape # shape of array"
   ]
  },
  {
   "cell_type": "code",
   "execution_count": 121,
   "id": "1b0d44c9-d389-4d92-94b8-fd474f0e25e0",
   "metadata": {},
   "outputs": [],
   "source": [
    "larr= np.array([[1,2,3],[4,5,6],[7,8,9]])  # 2D numpy array"
   ]
  },
  {
   "cell_type": "code",
   "execution_count": 122,
   "id": "9c362942-f529-4281-bef3-88e4ff340325",
   "metadata": {},
   "outputs": [
    {
     "data": {
      "text/plain": [
       "array([[1, 2, 3],\n",
       "       [4, 5, 6],\n",
       "       [7, 8, 9]])"
      ]
     },
     "execution_count": 122,
     "metadata": {},
     "output_type": "execute_result"
    }
   ],
   "source": [
    "larr"
   ]
  },
  {
   "cell_type": "code",
   "execution_count": 123,
   "id": "b06ac0f5-bf5a-44c1-bdaa-ae5e5638e79f",
   "metadata": {},
   "outputs": [
    {
     "data": {
      "text/plain": [
       "dtype('int32')"
      ]
     },
     "execution_count": 123,
     "metadata": {},
     "output_type": "execute_result"
    }
   ],
   "source": [
    "larr.dtype"
   ]
  },
  {
   "cell_type": "code",
   "execution_count": 124,
   "id": "b74d6039-a97c-4875-9b4f-aa0a41aee437",
   "metadata": {},
   "outputs": [
    {
     "data": {
      "text/plain": [
       "(3, 3)"
      ]
     },
     "execution_count": 124,
     "metadata": {},
     "output_type": "execute_result"
    }
   ],
   "source": [
    "larr.shape"
   ]
  },
  {
   "cell_type": "code",
   "execution_count": 125,
   "id": "92da1364-701d-443b-803a-8220947a9602",
   "metadata": {},
   "outputs": [
    {
     "data": {
      "text/plain": [
       "9"
      ]
     },
     "execution_count": 125,
     "metadata": {},
     "output_type": "execute_result"
    }
   ],
   "source": [
    "larr.size"
   ]
  },
  {
   "cell_type": "code",
   "execution_count": 126,
   "id": "83f5f1bf-0b42-4b52-be6a-5c5898e38bc0",
   "metadata": {},
   "outputs": [
    {
     "data": {
      "text/plain": [
       "array({1, 2, 3}, dtype=object)"
      ]
     },
     "execution_count": 126,
     "metadata": {},
     "output_type": "execute_result"
    }
   ],
   "source": [
    "np.array({1,2,3})"
   ]
  },
  {
   "cell_type": "code",
   "execution_count": 127,
   "id": "781b46ad-c851-494b-b7b2-78494934fcd6",
   "metadata": {},
   "outputs": [],
   "source": [
    "zeros= np.zeros((3,4))  # make all zero with give shape"
   ]
  },
  {
   "cell_type": "code",
   "execution_count": 128,
   "id": "51667f9d-ce24-4578-afe4-6030f86dc906",
   "metadata": {},
   "outputs": [
    {
     "data": {
      "text/plain": [
       "array([[0., 0., 0., 0.],\n",
       "       [0., 0., 0., 0.],\n",
       "       [0., 0., 0., 0.]])"
      ]
     },
     "execution_count": 128,
     "metadata": {},
     "output_type": "execute_result"
    }
   ],
   "source": [
    "zeros"
   ]
  },
  {
   "cell_type": "code",
   "execution_count": 129,
   "id": "1c72cbc3-83f0-48a4-b300-1d1a5bf05d23",
   "metadata": {},
   "outputs": [
    {
     "data": {
      "text/plain": [
       "(3, 4)"
      ]
     },
     "execution_count": 129,
     "metadata": {},
     "output_type": "execute_result"
    }
   ],
   "source": [
    "zeros.shape"
   ]
  },
  {
   "cell_type": "code",
   "execution_count": 130,
   "id": "996390bc-42b4-403a-a46c-f56d0df474cb",
   "metadata": {},
   "outputs": [
    {
     "data": {
      "text/plain": [
       "dtype('float64')"
      ]
     },
     "execution_count": 130,
     "metadata": {},
     "output_type": "execute_result"
    }
   ],
   "source": [
    "zeros.dtype"
   ]
  },
  {
   "cell_type": "code",
   "execution_count": 131,
   "id": "0c21a7fc-1c5a-4a91-9b93-ed50be2ad61a",
   "metadata": {},
   "outputs": [],
   "source": [
    "rng= np.arange(15) # make an array with the given range"
   ]
  },
  {
   "cell_type": "code",
   "execution_count": 132,
   "id": "039bc333-d901-4c0f-ac43-668cd1ea7098",
   "metadata": {},
   "outputs": [
    {
     "data": {
      "text/plain": [
       "array([ 0,  1,  2,  3,  4,  5,  6,  7,  8,  9, 10, 11, 12, 13, 14])"
      ]
     },
     "execution_count": 132,
     "metadata": {},
     "output_type": "execute_result"
    }
   ],
   "source": [
    "rng"
   ]
  },
  {
   "cell_type": "code",
   "execution_count": 133,
   "id": "7a3a04ae-5700-4b03-a4a9-3313ec32b862",
   "metadata": {},
   "outputs": [],
   "source": [
    "lspace = np.linspace(1,5,12)   # 1 to 5 equally linearly spaced 12 elements"
   ]
  },
  {
   "cell_type": "code",
   "execution_count": 134,
   "id": "f9838645-46c3-4d7b-adce-6f8d98a569bd",
   "metadata": {},
   "outputs": [
    {
     "data": {
      "text/plain": [
       "array([1.        , 1.36363636, 1.72727273, 2.09090909, 2.45454545,\n",
       "       2.81818182, 3.18181818, 3.54545455, 3.90909091, 4.27272727,\n",
       "       4.63636364, 5.        ])"
      ]
     },
     "execution_count": 134,
     "metadata": {},
     "output_type": "execute_result"
    }
   ],
   "source": [
    "lspace"
   ]
  },
  {
   "cell_type": "code",
   "execution_count": 135,
   "id": "a18ea159-45d8-4952-89e2-aa2b3e1d4e48",
   "metadata": {},
   "outputs": [
    {
     "data": {
      "text/plain": [
       "array([[1.        , 1.36363636, 1.72727273],\n",
       "       [2.09090909, 2.45454545, 2.81818182],\n",
       "       [3.18181818, 3.54545455, 3.90909091],\n",
       "       [4.27272727, 4.63636364, 5.        ]])"
      ]
     },
     "execution_count": 135,
     "metadata": {},
     "output_type": "execute_result"
    }
   ],
   "source": [
    "np.empty((4,3))  # will give an array of given shape with random elements"
   ]
  },
  {
   "cell_type": "code",
   "execution_count": 136,
   "id": "da58a3fd-0a31-4b98-86c3-32f91054de75",
   "metadata": {},
   "outputs": [],
   "source": [
    "a=np.array([[1,2,3,4],[5,6,7,8]])\n",
    "em_like=np.empty_like(a)  # it will copy the shape of an array and provide empty array"
   ]
  },
  {
   "cell_type": "code",
   "execution_count": 137,
   "id": "73367ef4-7c50-4b02-bdea-0260cc22931a",
   "metadata": {},
   "outputs": [
    {
     "data": {
      "text/plain": [
       "array([[1, 2, 3, 4],\n",
       "       [5, 6, 7, 8]])"
      ]
     },
     "execution_count": 137,
     "metadata": {},
     "output_type": "execute_result"
    }
   ],
   "source": [
    "em_like"
   ]
  },
  {
   "cell_type": "code",
   "execution_count": 138,
   "id": "e98deb43-19ff-47cc-b1c9-edfec9d34d84",
   "metadata": {},
   "outputs": [
    {
     "data": {
      "text/plain": [
       "array([[1., 0., 0., 0., 0., 0., 0., 0., 0., 0.],\n",
       "       [0., 1., 0., 0., 0., 0., 0., 0., 0., 0.],\n",
       "       [0., 0., 1., 0., 0., 0., 0., 0., 0., 0.],\n",
       "       [0., 0., 0., 1., 0., 0., 0., 0., 0., 0.],\n",
       "       [0., 0., 0., 0., 1., 0., 0., 0., 0., 0.],\n",
       "       [0., 0., 0., 0., 0., 1., 0., 0., 0., 0.],\n",
       "       [0., 0., 0., 0., 0., 0., 1., 0., 0., 0.],\n",
       "       [0., 0., 0., 0., 0., 0., 0., 1., 0., 0.],\n",
       "       [0., 0., 0., 0., 0., 0., 0., 0., 1., 0.],\n",
       "       [0., 0., 0., 0., 0., 0., 0., 0., 0., 1.]])"
      ]
     },
     "execution_count": 138,
     "metadata": {},
     "output_type": "execute_result"
    }
   ],
   "source": [
    "# identity matrix\n",
    "np.identity(10)"
   ]
  },
  {
   "cell_type": "code",
   "execution_count": 139,
   "id": "2a83fd00-0af9-4fe0-bafc-2ae43438e1b0",
   "metadata": {},
   "outputs": [],
   "source": [
    "arr= np.arange(99)"
   ]
  },
  {
   "cell_type": "code",
   "execution_count": 140,
   "id": "8a1bdc37-0578-47f4-b73d-bd0394a51590",
   "metadata": {},
   "outputs": [
    {
     "data": {
      "text/plain": [
       "array([ 0,  1,  2,  3,  4,  5,  6,  7,  8,  9, 10, 11, 12, 13, 14, 15, 16,\n",
       "       17, 18, 19, 20, 21, 22, 23, 24, 25, 26, 27, 28, 29, 30, 31, 32, 33,\n",
       "       34, 35, 36, 37, 38, 39, 40, 41, 42, 43, 44, 45, 46, 47, 48, 49, 50,\n",
       "       51, 52, 53, 54, 55, 56, 57, 58, 59, 60, 61, 62, 63, 64, 65, 66, 67,\n",
       "       68, 69, 70, 71, 72, 73, 74, 75, 76, 77, 78, 79, 80, 81, 82, 83, 84,\n",
       "       85, 86, 87, 88, 89, 90, 91, 92, 93, 94, 95, 96, 97, 98])"
      ]
     },
     "execution_count": 140,
     "metadata": {},
     "output_type": "execute_result"
    }
   ],
   "source": [
    "arr"
   ]
  },
  {
   "cell_type": "code",
   "execution_count": 141,
   "id": "0e3252fc-f4b0-4a63-a793-3aead55c0e01",
   "metadata": {},
   "outputs": [
    {
     "data": {
      "text/plain": [
       "array([[ 0,  1,  2,  3,  4,  5,  6,  7,  8,  9, 10, 11, 12, 13, 14, 15,\n",
       "        16, 17, 18, 19, 20, 21, 22, 23, 24, 25, 26, 27, 28, 29, 30, 31,\n",
       "        32],\n",
       "       [33, 34, 35, 36, 37, 38, 39, 40, 41, 42, 43, 44, 45, 46, 47, 48,\n",
       "        49, 50, 51, 52, 53, 54, 55, 56, 57, 58, 59, 60, 61, 62, 63, 64,\n",
       "        65],\n",
       "       [66, 67, 68, 69, 70, 71, 72, 73, 74, 75, 76, 77, 78, 79, 80, 81,\n",
       "        82, 83, 84, 85, 86, 87, 88, 89, 90, 91, 92, 93, 94, 95, 96, 97,\n",
       "        98]])"
      ]
     },
     "execution_count": 141,
     "metadata": {},
     "output_type": "execute_result"
    }
   ],
   "source": [
    "arr.reshape(3,33)  # it will reshape the array [3][33]"
   ]
  },
  {
   "cell_type": "code",
   "execution_count": 142,
   "id": "d5a8d493-cbac-44e8-a254-4561fe02339c",
   "metadata": {},
   "outputs": [
    {
     "data": {
      "text/plain": [
       "array([ 0,  1,  2,  3,  4,  5,  6,  7,  8,  9, 10, 11, 12, 13, 14, 15, 16,\n",
       "       17, 18, 19, 20, 21, 22, 23, 24, 25, 26, 27, 28, 29, 30, 31, 32, 33,\n",
       "       34, 35, 36, 37, 38, 39, 40, 41, 42, 43, 44, 45, 46, 47, 48, 49, 50,\n",
       "       51, 52, 53, 54, 55, 56, 57, 58, 59, 60, 61, 62, 63, 64, 65, 66, 67,\n",
       "       68, 69, 70, 71, 72, 73, 74, 75, 76, 77, 78, 79, 80, 81, 82, 83, 84,\n",
       "       85, 86, 87, 88, 89, 90, 91, 92, 93, 94, 95, 96, 97, 98])"
      ]
     },
     "execution_count": 142,
     "metadata": {},
     "output_type": "execute_result"
    }
   ],
   "source": [
    "arr.ravel()  # make 1D array"
   ]
  },
  {
   "cell_type": "code",
   "execution_count": 143,
   "id": "cb2f44c7-8fb6-4b82-bd3e-5fcb73d303bd",
   "metadata": {},
   "outputs": [],
   "source": [
    "ar=np.array([[1,2,3],[4,5,6],[7,8,9]])"
   ]
  },
  {
   "cell_type": "code",
   "execution_count": 144,
   "id": "0f13aef8-0f0a-45db-9d27-42d80bc28c50",
   "metadata": {},
   "outputs": [
    {
     "data": {
      "text/plain": [
       "array([[1, 2, 3],\n",
       "       [4, 5, 6],\n",
       "       [7, 8, 9]])"
      ]
     },
     "execution_count": 144,
     "metadata": {},
     "output_type": "execute_result"
    }
   ],
   "source": [
    "ar"
   ]
  },
  {
   "cell_type": "code",
   "execution_count": 145,
   "id": "0996617a-080c-43fe-ae94-f4e4e4043c51",
   "metadata": {},
   "outputs": [
    {
     "data": {
      "text/plain": [
       "array([12, 15, 18])"
      ]
     },
     "execution_count": 145,
     "metadata": {},
     "output_type": "execute_result"
    }
   ],
   "source": [
    "ar.sum(axis=0)  # sum of x axis"
   ]
  },
  {
   "cell_type": "code",
   "execution_count": 146,
   "id": "6d6bec13-f572-4379-b875-765856d543ad",
   "metadata": {},
   "outputs": [
    {
     "data": {
      "text/plain": [
       "array([ 6, 15, 24])"
      ]
     },
     "execution_count": 146,
     "metadata": {},
     "output_type": "execute_result"
    }
   ],
   "source": [
    "ar.sum(axis=1)  # sum of y axis"
   ]
  },
  {
   "cell_type": "code",
   "execution_count": 147,
   "id": "5b383a85-6a64-4485-b27c-cc7feecb2743",
   "metadata": {},
   "outputs": [
    {
     "data": {
      "text/plain": [
       "array([[1, 4, 7],\n",
       "       [2, 5, 8],\n",
       "       [3, 6, 9]])"
      ]
     },
     "execution_count": 147,
     "metadata": {},
     "output_type": "execute_result"
    }
   ],
   "source": [
    "ar.T  # Transpose matrix"
   ]
  },
  {
   "cell_type": "code",
   "execution_count": 148,
   "id": "01b10338-3c62-4ee5-8def-bd9cf79bb785",
   "metadata": {},
   "outputs": [
    {
     "data": {
      "text/plain": [
       "<numpy.flatiter at 0x1e866d553a0>"
      ]
     },
     "execution_count": 148,
     "metadata": {},
     "output_type": "execute_result"
    }
   ],
   "source": [
    "ar.flat  # flat the array"
   ]
  },
  {
   "cell_type": "code",
   "execution_count": 149,
   "id": "98907777-1a1e-49fa-b7d5-af441ef2e1d5",
   "metadata": {},
   "outputs": [
    {
     "name": "stdout",
     "output_type": "stream",
     "text": [
      "1\n",
      "2\n",
      "3\n",
      "4\n",
      "5\n",
      "6\n",
      "7\n",
      "8\n",
      "9\n"
     ]
    }
   ],
   "source": [
    "for item in ar.flat:\n",
    "    print(item)"
   ]
  },
  {
   "cell_type": "code",
   "execution_count": 150,
   "id": "7fb20066-80fd-4406-9c47-972cbebd4849",
   "metadata": {},
   "outputs": [
    {
     "data": {
      "text/plain": [
       "2"
      ]
     },
     "execution_count": 150,
     "metadata": {},
     "output_type": "execute_result"
    }
   ],
   "source": [
    "ar.ndim  # no of dimension"
   ]
  },
  {
   "cell_type": "code",
   "execution_count": 151,
   "id": "b6e403a3-c284-4e98-b690-7decf4790778",
   "metadata": {},
   "outputs": [
    {
     "data": {
      "text/plain": [
       "36"
      ]
     },
     "execution_count": 151,
     "metadata": {},
     "output_type": "execute_result"
    }
   ],
   "source": [
    "ar.nbytes  # total bytes consumed"
   ]
  },
  {
   "cell_type": "code",
   "execution_count": 152,
   "id": "17af2997-98f8-4414-b002-e0518d459e66",
   "metadata": {},
   "outputs": [],
   "source": [
    "one= np.array([4,2,1,6,7])"
   ]
  },
  {
   "cell_type": "code",
   "execution_count": 153,
   "id": "e6f51483-a848-40b2-a3f6-dd0acc4455cf",
   "metadata": {},
   "outputs": [
    {
     "data": {
      "text/plain": [
       "array([4, 2, 1, 6, 7])"
      ]
     },
     "execution_count": 153,
     "metadata": {},
     "output_type": "execute_result"
    }
   ],
   "source": [
    "one"
   ]
  },
  {
   "cell_type": "code",
   "execution_count": 154,
   "id": "4b4e1cfe-af28-4d89-9b01-afc3a49bf036",
   "metadata": {},
   "outputs": [
    {
     "data": {
      "text/plain": [
       "4"
      ]
     },
     "execution_count": 154,
     "metadata": {},
     "output_type": "execute_result"
    }
   ],
   "source": [
    "one.argmax()  # index of maximum element\n"
   ]
  },
  {
   "cell_type": "code",
   "execution_count": 155,
   "id": "2776178f-5910-496a-b17a-7b4e97ed55d8",
   "metadata": {},
   "outputs": [
    {
     "data": {
      "text/plain": [
       "2"
      ]
     },
     "execution_count": 155,
     "metadata": {},
     "output_type": "execute_result"
    }
   ],
   "source": [
    "one.argmin()  # index of minimum element"
   ]
  },
  {
   "cell_type": "code",
   "execution_count": 156,
   "id": "d7636786-8082-49b2-9dee-3592bcbc8d00",
   "metadata": {},
   "outputs": [
    {
     "data": {
      "text/plain": [
       "array([2, 1, 0, 3, 4], dtype=int64)"
      ]
     },
     "execution_count": 156,
     "metadata": {},
     "output_type": "execute_result"
    }
   ],
   "source": [
    "one.argsort()  # sort of indexes on the basis of array element"
   ]
  },
  {
   "cell_type": "code",
   "execution_count": 157,
   "id": "5c689194-8f10-47e2-8950-d340771dc52f",
   "metadata": {},
   "outputs": [],
   "source": [
    "two=np.array([[1,2,3],[3,4,2],[7,4,2]])"
   ]
  },
  {
   "cell_type": "code",
   "execution_count": 158,
   "id": "e8613223-2b78-4c5a-9d7e-5b5a5794d77e",
   "metadata": {},
   "outputs": [
    {
     "data": {
      "text/plain": [
       "array([[1, 2, 3],\n",
       "       [3, 4, 2],\n",
       "       [7, 4, 2]])"
      ]
     },
     "execution_count": 158,
     "metadata": {},
     "output_type": "execute_result"
    }
   ],
   "source": [
    "two"
   ]
  },
  {
   "cell_type": "code",
   "execution_count": 159,
   "id": "3c293a32-d209-409d-a4b2-ee02c42d8efc",
   "metadata": {},
   "outputs": [
    {
     "data": {
      "text/plain": [
       "0"
      ]
     },
     "execution_count": 159,
     "metadata": {},
     "output_type": "execute_result"
    }
   ],
   "source": [
    "two.argmin()"
   ]
  },
  {
   "cell_type": "code",
   "execution_count": 160,
   "id": "e2641034-e46c-465f-9f79-7dd2aefd7900",
   "metadata": {},
   "outputs": [
    {
     "data": {
      "text/plain": [
       "6"
      ]
     },
     "execution_count": 160,
     "metadata": {},
     "output_type": "execute_result"
    }
   ],
   "source": [
    "two.argmax()  # first flat then calculate "
   ]
  },
  {
   "cell_type": "code",
   "execution_count": 161,
   "id": "cb1956a7-5741-4f7b-8a0c-2afbf588ca90",
   "metadata": {},
   "outputs": [
    {
     "data": {
      "text/plain": [
       "array([0, 0, 1], dtype=int64)"
      ]
     },
     "execution_count": 161,
     "metadata": {},
     "output_type": "execute_result"
    }
   ],
   "source": [
    "two.argmin(axis=0)  # x axis min index"
   ]
  },
  {
   "cell_type": "code",
   "execution_count": 162,
   "id": "ea10e65f-a876-4e1d-9785-91b9b4e5d976",
   "metadata": {},
   "outputs": [
    {
     "data": {
      "text/plain": [
       "array([0, 2, 2], dtype=int64)"
      ]
     },
     "execution_count": 162,
     "metadata": {},
     "output_type": "execute_result"
    }
   ],
   "source": [
    "two.argmin(axis=1)  # y axis min index"
   ]
  },
  {
   "cell_type": "code",
   "execution_count": 163,
   "id": "3be15fb5-5221-4b01-a8e9-eb5f208b9847",
   "metadata": {},
   "outputs": [
    {
     "data": {
      "text/plain": [
       "array([[0, 1, 2],\n",
       "       [2, 0, 1],\n",
       "       [2, 1, 0]], dtype=int64)"
      ]
     },
     "execution_count": 163,
     "metadata": {},
     "output_type": "execute_result"
    }
   ],
   "source": [
    "two.argsort()"
   ]
  },
  {
   "cell_type": "code",
   "execution_count": 164,
   "id": "d445a25b-ebe4-4ad5-9684-40f0e277fc1a",
   "metadata": {},
   "outputs": [
    {
     "data": {
      "text/plain": [
       "array([[0, 0, 1],\n",
       "       [1, 1, 2],\n",
       "       [2, 2, 0]], dtype=int64)"
      ]
     },
     "execution_count": 164,
     "metadata": {},
     "output_type": "execute_result"
    }
   ],
   "source": [
    "two.argsort(axis=0)"
   ]
  },
  {
   "cell_type": "code",
   "execution_count": 165,
   "id": "8e0d77d9-00db-47b0-8f1a-dacab44baf5e",
   "metadata": {},
   "outputs": [
    {
     "data": {
      "text/plain": [
       "array([[0, 1, 2],\n",
       "       [2, 0, 1],\n",
       "       [2, 1, 0]], dtype=int64)"
      ]
     },
     "execution_count": 165,
     "metadata": {},
     "output_type": "execute_result"
    }
   ],
   "source": [
    "two.argsort(axis=1)"
   ]
  },
  {
   "cell_type": "code",
   "execution_count": 166,
   "id": "6774a7a1-bb9d-4594-b01f-40f90165e7c0",
   "metadata": {},
   "outputs": [
    {
     "data": {
      "text/plain": [
       "array([1, 2, 3, 3, 4, 2, 7, 4, 2])"
      ]
     },
     "execution_count": 166,
     "metadata": {},
     "output_type": "execute_result"
    }
   ],
   "source": [
    "two.ravel()"
   ]
  },
  {
   "cell_type": "code",
   "execution_count": 167,
   "id": "02e5f9e9-3713-446d-9dc2-e2961a2eb071",
   "metadata": {},
   "outputs": [
    {
     "data": {
      "text/plain": [
       "array([[1],\n",
       "       [2],\n",
       "       [3],\n",
       "       [3],\n",
       "       [4],\n",
       "       [2],\n",
       "       [7],\n",
       "       [4],\n",
       "       [2]])"
      ]
     },
     "execution_count": 167,
     "metadata": {},
     "output_type": "execute_result"
    }
   ],
   "source": [
    "two.reshape(9,1)"
   ]
  },
  {
   "cell_type": "code",
   "execution_count": 168,
   "id": "bab46521-936e-4c4c-b954-cf593868d9c8",
   "metadata": {},
   "outputs": [],
   "source": [
    "# Math\n",
    "arr1= np.array([[1,2,3],[4,5,6],[7,8,9]])\n",
    "arr2= np.array([[1,2,3],[4,5,6],[7,8,9]])"
   ]
  },
  {
   "cell_type": "code",
   "execution_count": 169,
   "id": "5f614bba-7e45-45b8-acc7-a1907847d343",
   "metadata": {},
   "outputs": [
    {
     "data": {
      "text/plain": [
       "array([[1, 2, 3],\n",
       "       [4, 5, 6],\n",
       "       [7, 8, 9]])"
      ]
     },
     "execution_count": 169,
     "metadata": {},
     "output_type": "execute_result"
    }
   ],
   "source": [
    "arr1\n"
   ]
  },
  {
   "cell_type": "code",
   "execution_count": 170,
   "id": "6460836b-eda3-42c9-8e70-6fada7d0a41b",
   "metadata": {},
   "outputs": [
    {
     "data": {
      "text/plain": [
       "array([[1, 2, 3],\n",
       "       [4, 5, 6],\n",
       "       [7, 8, 9]])"
      ]
     },
     "execution_count": 170,
     "metadata": {},
     "output_type": "execute_result"
    }
   ],
   "source": [
    "arr2"
   ]
  },
  {
   "cell_type": "code",
   "execution_count": 171,
   "id": "423c7130-182d-4e20-b1e4-a5a542ac5cde",
   "metadata": {},
   "outputs": [
    {
     "data": {
      "text/plain": [
       "array([[ 2,  4,  6],\n",
       "       [ 8, 10, 12],\n",
       "       [14, 16, 18]])"
      ]
     },
     "execution_count": 171,
     "metadata": {},
     "output_type": "execute_result"
    }
   ],
   "source": [
    "arr1+arr2"
   ]
  },
  {
   "cell_type": "code",
   "execution_count": 172,
   "id": "5e738a45-7032-477c-be74-1ea224ce40f9",
   "metadata": {},
   "outputs": [
    {
     "data": {
      "text/plain": [
       "array([[ 1,  4,  9],\n",
       "       [16, 25, 36],\n",
       "       [49, 64, 81]])"
      ]
     },
     "execution_count": 172,
     "metadata": {},
     "output_type": "execute_result"
    }
   ],
   "source": [
    "arr1*arr2"
   ]
  },
  {
   "cell_type": "code",
   "execution_count": 173,
   "id": "955ad7b2-40b7-40d5-9b00-1b905a7300df",
   "metadata": {},
   "outputs": [
    {
     "data": {
      "text/plain": [
       "array([[0, 0, 0],\n",
       "       [0, 0, 0],\n",
       "       [0, 0, 0]])"
      ]
     },
     "execution_count": 173,
     "metadata": {},
     "output_type": "execute_result"
    }
   ],
   "source": [
    "arr1-arr2"
   ]
  },
  {
   "cell_type": "code",
   "execution_count": 174,
   "id": "30e6f82b-24cd-4a6b-8896-12263aa68ca1",
   "metadata": {},
   "outputs": [
    {
     "data": {
      "text/plain": [
       "array([[1.        , 1.41421356, 1.73205081],\n",
       "       [2.        , 2.23606798, 2.44948974],\n",
       "       [2.64575131, 2.82842712, 3.        ]])"
      ]
     },
     "execution_count": 174,
     "metadata": {},
     "output_type": "execute_result"
    }
   ],
   "source": [
    "np.sqrt(arr1)"
   ]
  },
  {
   "cell_type": "code",
   "execution_count": 175,
   "id": "741c1502-d439-4de2-9e9f-b0d97d9e4c63",
   "metadata": {},
   "outputs": [
    {
     "data": {
      "text/plain": [
       "45"
      ]
     },
     "execution_count": 175,
     "metadata": {},
     "output_type": "execute_result"
    }
   ],
   "source": [
    "arr1.sum()  # all sum"
   ]
  },
  {
   "cell_type": "code",
   "execution_count": 176,
   "id": "d95e2817-d94a-41e8-bbd9-0f50c8f890e3",
   "metadata": {},
   "outputs": [
    {
     "data": {
      "text/plain": [
       "1"
      ]
     },
     "execution_count": 176,
     "metadata": {},
     "output_type": "execute_result"
    }
   ],
   "source": [
    "arr1.min()"
   ]
  },
  {
   "cell_type": "code",
   "execution_count": 177,
   "id": "946a5e6c-d2ed-4849-91ff-0f17fb10bad1",
   "metadata": {},
   "outputs": [
    {
     "data": {
      "text/plain": [
       "9"
      ]
     },
     "execution_count": 177,
     "metadata": {},
     "output_type": "execute_result"
    }
   ],
   "source": [
    "arr1.max()"
   ]
  },
  {
   "cell_type": "code",
   "execution_count": 178,
   "id": "16954dba-4ff5-460b-aa93-5d41f7cc72d3",
   "metadata": {},
   "outputs": [
    {
     "data": {
      "text/plain": [
       "array([[1, 2, 3],\n",
       "       [4, 5, 6],\n",
       "       [7, 8, 9]])"
      ]
     },
     "execution_count": 178,
     "metadata": {},
     "output_type": "execute_result"
    }
   ],
   "source": [
    "arr1"
   ]
  },
  {
   "cell_type": "code",
   "execution_count": 179,
   "id": "be65b5cc-cfd0-475d-a734-a935086ea3fb",
   "metadata": {},
   "outputs": [
    {
     "data": {
      "text/plain": [
       "(array([1], dtype=int64), array([1], dtype=int64))"
      ]
     },
     "execution_count": 179,
     "metadata": {},
     "output_type": "execute_result"
    }
   ],
   "source": [
    "# Search\n",
    "np.where(arr1==5)"
   ]
  },
  {
   "cell_type": "code",
   "execution_count": 180,
   "id": "3e2327e8-a3a0-480c-a51b-340d145465b3",
   "metadata": {},
   "outputs": [
    {
     "data": {
      "text/plain": [
       "(array([2, 2, 2], dtype=int64), array([0, 1, 2], dtype=int64))"
      ]
     },
     "execution_count": 180,
     "metadata": {},
     "output_type": "execute_result"
    }
   ],
   "source": [
    "np.where(arr1>6)  # [2,0],[2,1],[2,2]"
   ]
  },
  {
   "cell_type": "code",
   "execution_count": 181,
   "id": "e88d52fa-a5ac-4145-92b5-f9b6c634e64f",
   "metadata": {},
   "outputs": [
    {
     "data": {
      "text/plain": [
       "tuple"
      ]
     },
     "execution_count": 181,
     "metadata": {},
     "output_type": "execute_result"
    }
   ],
   "source": [
    "type(np.where(arr1>6))"
   ]
  },
  {
   "cell_type": "code",
   "execution_count": 182,
   "id": "b891de75-5754-4b27-a6c8-4d2abc3466b0",
   "metadata": {},
   "outputs": [
    {
     "data": {
      "text/plain": [
       "9"
      ]
     },
     "execution_count": 182,
     "metadata": {},
     "output_type": "execute_result"
    }
   ],
   "source": [
    "np.count_nonzero(arr1)"
   ]
  },
  {
   "cell_type": "code",
   "execution_count": 183,
   "id": "b1cedad7-1a68-46b8-9cd7-f75962510d29",
   "metadata": {},
   "outputs": [],
   "source": [
    "# Numpy gives efficient storage\n",
    "import sys"
   ]
  },
  {
   "cell_type": "code",
   "execution_count": 184,
   "id": "ebaf8ef5-4532-4122-9c7a-adc5fbd90717",
   "metadata": {},
   "outputs": [],
   "source": [
    "py_ar=[1,2,3,4]"
   ]
  },
  {
   "cell_type": "code",
   "execution_count": 185,
   "id": "7ecee024-1cd2-4475-bbdd-3a94fc29c001",
   "metadata": {},
   "outputs": [],
   "source": [
    "np_ar=np.array([1,2,3,4])"
   ]
  },
  {
   "cell_type": "code",
   "execution_count": 186,
   "id": "f208db5e-7ced-4cdc-acc2-5e5c9cbfbf6f",
   "metadata": {},
   "outputs": [
    {
     "data": {
      "text/plain": [
       "112"
      ]
     },
     "execution_count": 186,
     "metadata": {},
     "output_type": "execute_result"
    }
   ],
   "source": [
    "sys.getsizeof(1)*len(py_ar)"
   ]
  },
  {
   "cell_type": "code",
   "execution_count": 187,
   "id": "6c362ce5-fa91-4a09-9127-f32e04b000c9",
   "metadata": {},
   "outputs": [
    {
     "data": {
      "text/plain": [
       "16"
      ]
     },
     "execution_count": 187,
     "metadata": {},
     "output_type": "execute_result"
    }
   ],
   "source": [
    "np_ar.itemsize*np_ar.size"
   ]
  },
  {
   "cell_type": "code",
   "execution_count": null,
   "id": "8f0c35d0-38dd-4cf3-b735-13de4a0a6d38",
   "metadata": {},
   "outputs": [],
   "source": []
  }
 ],
 "metadata": {
  "kernelspec": {
   "display_name": "Python 3 (ipykernel)",
   "language": "python",
   "name": "python3"
  },
  "language_info": {
   "codemirror_mode": {
    "name": "ipython",
    "version": 3
   },
   "file_extension": ".py",
   "mimetype": "text/x-python",
   "name": "python",
   "nbconvert_exporter": "python",
   "pygments_lexer": "ipython3",
   "version": "3.11.7"
  }
 },
 "nbformat": 4,
 "nbformat_minor": 5
}
